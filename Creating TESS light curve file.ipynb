{
 "cells": [
  {
   "cell_type": "code",
   "execution_count": 1,
   "id": "788882bd",
   "metadata": {},
   "outputs": [],
   "source": [
    "import lightkurve as lk\n",
    "import csv"
   ]
  },
  {
   "cell_type": "code",
   "execution_count": 2,
   "id": "dd9ea853",
   "metadata": {},
   "outputs": [
    {
     "data": {
      "text/html": [
       "SearchResult containing 8 data products.\n",
       "\n",
       "<table id=\"table10834782928\">\n",
       "<thead><tr><th>#</th><th>mission</th><th>year</th><th>author</th><th>exptime</th><th>target_name</th><th>distance</th></tr></thead>\n",
       "<thead><tr><th></th><th></th><th></th><th></th><th>s</th><th></th><th>arcsec</th></tr></thead>\n",
       "<tr><td>0</td><td>TESS Sector 12</td><td>2019</td><td><a href='https://heasarc.gsfc.nasa.gov/docs/tess/pipeline.html'>SPOC</a></td><td>120</td><td>465088681</td><td>0.0</td></tr>\n",
       "<tr><td>1</td><td>TESS Sector 12</td><td>2019</td><td><a href='https://archive.stsci.edu/hlsp/tess-spoc'>TESS-SPOC</a></td><td>1800</td><td>465088681</td><td>0.0</td></tr>\n",
       "<tr><td>2</td><td>TESS Sector 12</td><td>2019</td><td><a href='https://archive.stsci.edu/hlsp/qlp'>QLP</a></td><td>1800</td><td>465088681</td><td>0.0</td></tr>\n",
       "<tr><td>3</td><td>TESS Sector 39</td><td>2021</td><td><a href='https://heasarc.gsfc.nasa.gov/docs/tess/pipeline.html'>SPOC</a></td><td>120</td><td>465088681</td><td>0.0</td></tr>\n",
       "<tr><td>4</td><td>TESS Sector 39</td><td>2021</td><td><a href='https://archive.stsci.edu/hlsp/tess-spoc'>TESS-SPOC</a></td><td>600</td><td>465088681</td><td>0.0</td></tr>\n",
       "<tr><td>5</td><td>TESS Sector 39</td><td>2021</td><td><a href='https://archive.stsci.edu/hlsp/qlp'>QLP</a></td><td>600</td><td>465088681</td><td>0.0</td></tr>\n",
       "<tr><td>6</td><td>TESS Sector 66</td><td>2023</td><td><a href='https://heasarc.gsfc.nasa.gov/docs/tess/pipeline.html'>SPOC</a></td><td>120</td><td>465088681</td><td>0.0</td></tr>\n",
       "<tr><td>7</td><td>TESS Sector 66</td><td>2023</td><td><a href='https://archive.stsci.edu/hlsp/qlp'>QLP</a></td><td>200</td><td>465088681</td><td>0.0</td></tr>\n",
       "</table>"
      ],
      "text/plain": [
       "SearchResult containing 8 data products.\n",
       "\n",
       " #     mission     year   author  exptime target_name distance\n",
       "                                     s                 arcsec \n",
       "--- -------------- ---- --------- ------- ----------- --------\n",
       "  0 TESS Sector 12 2019      SPOC     120   465088681      0.0\n",
       "  1 TESS Sector 12 2019 TESS-SPOC    1800   465088681      0.0\n",
       "  2 TESS Sector 12 2019       QLP    1800   465088681      0.0\n",
       "  3 TESS Sector 39 2021      SPOC     120   465088681      0.0\n",
       "  4 TESS Sector 39 2021 TESS-SPOC     600   465088681      0.0\n",
       "  5 TESS Sector 39 2021       QLP     600   465088681      0.0\n",
       "  6 TESS Sector 66 2023      SPOC     120   465088681      0.0\n",
       "  7 TESS Sector 66 2023       QLP     200   465088681      0.0"
      ]
     },
     "execution_count": 2,
     "metadata": {},
     "output_type": "execute_result"
    }
   ],
   "source": [
    "lk.search_lightcurve('TIC 465088681')"
   ]
  },
  {
   "cell_type": "code",
   "execution_count": 3,
   "id": "d5764acd",
   "metadata": {},
   "outputs": [],
   "source": [
    "# lc = lk.search_lightcurve('TIC 465088681')[6].download().normalize().remove_nans().remove_outliers()\n",
    "# lc = lc.bin(bins=600).remove_nans()\n",
    "lc1 = lk.search_lightcurve('TIC 465088681')[0].download().normalize().remove_nans().remove_outliers()\n",
    "lc1 = lc1.bin(bins=600).remove_nans()\n",
    "lc2 = lk.search_lightcurve('TIC 465088681')[3].download().normalize().remove_nans().remove_outliers()\n",
    "lc2 = lc2.bin(bins=600).remove_nans()\n",
    "# lc3 = lk.search_lightcurve('TIC 465088681')[6].download().normalize().remove_nans().remove_outliers()\n",
    "# lc3 = lc3.bin(bins=600).remove_nans()\n",
    "combined_lc = lc1.append(lc2)#.append(lc3)"
   ]
  },
  {
   "cell_type": "code",
   "execution_count": 7,
   "id": "9f52764d",
   "metadata": {},
   "outputs": [],
   "source": [
    "# lc\n",
    "combined_lc\n",
    "lc=combined_lc"
   ]
  },
  {
   "cell_type": "code",
   "execution_count": 8,
   "id": "2cb0e92a",
   "metadata": {},
   "outputs": [
    {
     "name": "stdout",
     "output_type": "stream",
     "text": [
      "1112\n",
      "1112\n"
     ]
    }
   ],
   "source": [
    "print(len(lc.time))\n",
    "print(len(combined_lc.time))"
   ]
  },
  {
   "cell_type": "code",
   "execution_count": 9,
   "id": "d884683f",
   "metadata": {},
   "outputs": [],
   "source": [
    "with open('TIC_465088681_combined1239.csv', 'w') as file:\n",
    "    writer = csv.writer(file, delimiter='\\t')\n",
    "    writer.writerow(['', 'flux', 'flux_err', 'time'])\n",
    "    for i in range(len(lc.flux)):\n",
    "        writer.writerow([i+1, lc['flux'][i], lc['flux_err'][i], lc['time'][i]])"
   ]
  },
  {
   "cell_type": "code",
   "execution_count": null,
   "id": "15b9120d",
   "metadata": {},
   "outputs": [],
   "source": []
  }
 ],
 "metadata": {
  "kernelspec": {
   "display_name": "Python 3 (ipykernel)",
   "language": "python",
   "name": "python3"
  },
  "language_info": {
   "codemirror_mode": {
    "name": "ipython",
    "version": 3
   },
   "file_extension": ".py",
   "mimetype": "text/x-python",
   "name": "python",
   "nbconvert_exporter": "python",
   "pygments_lexer": "ipython3",
   "version": "3.10.12"
  }
 },
 "nbformat": 4,
 "nbformat_minor": 5
}
