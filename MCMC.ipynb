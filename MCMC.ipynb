{
 "cells": [
  {
   "cell_type": "code",
   "execution_count": 1,
   "id": "48b75d69",
   "metadata": {},
   "outputs": [],
   "source": [
    "import phoebe as pb\n",
    "from phoebe import u\n",
    "import pandas as pd"
   ]
  },
  {
   "cell_type": "code",
   "execution_count": 2,
   "id": "44b419de",
   "metadata": {},
   "outputs": [],
   "source": [
    "logger = pb.logger()\n",
    "# b = pb.Bundle.open('1.bundle')\n",
    "b = pb.default_binary()"
   ]
  },
  {
   "cell_type": "code",
   "execution_count": 3,
   "id": "9d5f692b",
   "metadata": {},
   "outputs": [
    {
     "data": {
      "text/plain": [
       "<ParameterSet: 80 parameters | contexts: compute, figure, constraint, dataset>"
      ]
     },
     "execution_count": 3,
     "metadata": {},
     "output_type": "execute_result"
    }
   ],
   "source": [
    "df = pd.read_csv(\"./TIC_465088681_sec12.csv\", sep=\"\\t\")\n",
    "# df = pd.read_csv(\"./TIC_465088681_200.csv\", sep=\"\\t\")\n",
    "watts_units = u.W / (u.m * u.m)\n",
    "flux =df['flux']\n",
    "time = df['time']\n",
    "sigma = df['flux_err']\n",
    "b.add_dataset('lc', fluxes=flux.values*watts_units, times=time.values*u.day, sigmas = sigma.values*watts_units, overwrite=True)"
   ]
  },
  {
   "cell_type": "code",
   "execution_count": 4,
   "id": "aefca7c6",
   "metadata": {},
   "outputs": [
    {
     "data": {
      "text/plain": [
       "<ParameterSet: 17 parameters | qualifiers: continue_from_iter, priors, nwalkers, nlags_factor, use_server, continue_from, progress_every_niters, comments, expose_failed, niters, compute, init_from_combine, init_from, init_from_requires, burnin_factor, thin_factor, priors_combine>"
      ]
     },
     "execution_count": 4,
     "metadata": {},
     "output_type": "execute_result"
    }
   ],
   "source": [
    "b.add_compute('ellc', compute='fastcompute', overwrite=True)\n",
    "b.add_solver('sampler.emcee',\n",
    "             compute='fastcompute',\n",
    "             solver='emcee_solver', overwrite=True)"
   ]
  },
  {
   "cell_type": "code",
   "execution_count": 5,
   "id": "15a01678",
   "metadata": {},
   "outputs": [
    {
     "name": "stdout",
     "output_type": "stream",
     "text": [
      "Parameter: requiv@primary@component\n",
      "                       Qualifier: requiv\n",
      "                     Description: Equivalent radius\n",
      "                           Value: 1.0 solRad\n",
      "                  Constrained by: \n",
      "                      Constrains: logg@primary@component, requivratio@binary@component, requivsumfrac@binary@component\n",
      "                      Related to: mass@primary@component, logg@primary@component, requiv@secondary@component, requivratio@binary@component, sma@binary@component, requivsumfrac@binary@component\n",
      "\n"
     ]
    },
    {
     "data": {
      "text/plain": [
       "<ConstraintParameter: {requiv@secondary@component} = (({requivratio@binary@component} * {requivsumfrac@binary@component}) * {sma@binary@component}) / ({requivratio@binary@component} + 1.000000) (solar units) => 0.9999999999999999 solRad>"
      ]
     },
     "execution_count": 5,
     "metadata": {},
     "output_type": "execute_result"
    }
   ],
   "source": [
    "print(b.get_parameter(\"requiv@primary\"))\n",
    "# b.flip_constraint(\"requiv@primary\", solve_for=\"requivratio@binary\")\n",
    "# b.flip_constraint(\"requiv@secondary\", solve_for=\"requivsumfrac@binary\")\n",
    "b.flip_constraint(\"mass@primary\", solve_for=\"sma\")\n",
    "b.flip_constraint(\"requivratio@binary\", solve_for=\"requiv@primary\")\n",
    "b.flip_constraint(\"requivsumfrac@binary\", solve_for=\"requiv@secondary\")"
   ]
  },
  {
   "cell_type": "code",
   "execution_count": 6,
   "id": "e6d160c1",
   "metadata": {},
   "outputs": [],
   "source": [
    "#atmosphere\n",
    "b.set_value_all(\"ld_mode\", \"manual\")\n",
    "b.set_value_all(\"ld_mode_bol\", \"manual\")\n",
    "b.set_value_all(\"atm\", \"ck2004\")\n",
    "# b.set_value('pblum_mode', 'dataset-scaled')\n",
    "b.set_value('pblum_mode', 'component-coupled')\n",
    "\n",
    "b[\"mass@primary@star\"] = 10.4\n",
    "# b[\"logg@primary@star@component\"] = 4\n",
    "# b[\"requiv@primary\"] = 8.8"
   ]
  },
  {
   "cell_type": "code",
   "execution_count": 11,
   "id": "304bafdb",
   "metadata": {},
   "outputs": [],
   "source": [
    "b.add_distribution({\n",
    "#     'teffratio': pb.gaussian_around(0.1),\n",
    "                    \"requivratio@binary\": pb.gaussian_around(1),\n",
    "#                     'requiv@primary': pb.gaussian_around(0.1),\n",
    "#                     'incl@binary': pb.gaussian_around(3),\n",
    "#                     'sma@binary': pb.gaussian_around(2),\n",
    "                    'q': pb.gaussian_around(0.1)},\n",
    "#                     'ecc': pb.gaussian_around(0.5),\n",
    "#                     'per0': pb.gaussian_around(1)},\n",
    "                    distribution='ball_around_guess', overwrite_all=True)\n",
    "\n",
    "b.set_value('init_from', 'ball_around_guess') "
   ]
  },
  {
   "cell_type": "code",
   "execution_count": 12,
   "id": "2ee4e1ae",
   "metadata": {},
   "outputs": [],
   "source": [
    "## priors\n",
    "b.add_distribution({\"ecc@binary\": pb.gaussian(0.26, 0.01),\n",
    "                    \"q@binary\": pb.gaussian(5.77, 0.1),\n",
    "                   \"requiv@primary\": pb.gaussian(8.8,1.2),\n",
    "                   \"logg@primary\": pb.gaussian(4.0,0.5)},\n",
    "                   distribution='priors_from_external_source', overwrite_all=True)\n",
    "\n",
    "\n",
    "b.set_value('priors@emcee_solver', 'priors_from_external_source')"
   ]
  },
  {
   "cell_type": "code",
   "execution_count": 13,
   "id": "6188dfdf",
   "metadata": {},
   "outputs": [
    {
     "name": "stdout",
     "output_type": "stream",
     "text": [
      "Run Checks Report: PASS\n",
      "\n"
     ]
    }
   ],
   "source": [
    "print(b.run_checks())\n",
    "# requivprimary for requiv something else at binary\n",
    "# requivsecondary for requiv sum frac"
   ]
  },
  {
   "cell_type": "code",
   "execution_count": 14,
   "id": "b3be2aa9",
   "metadata": {},
   "outputs": [
    {
     "name": "stderr",
     "output_type": "stream",
     "text": [
      "/Users/skbowes/anaconda3/lib/python3.10/site-packages/phoebe/dependencies/distl/distl.py:4728: RuntimeWarning: invalid value encountered in divide\n",
      "  pdf /= pdf_integral\n",
      "  0%|                                                                                               | 0/12 [00:00<?, ?it/s]"
     ]
    },
    {
     "ename": "NameError",
     "evalue": "Constraint 'asini@primary@star@constraint' raised the following error while attempting to solve for 'asini@primary@star@component'.  Consider flipping the constraint or changing the value of one of ['sma@binary@orbit@component', 'incl@binary@orbit@component', 'q@binary@orbit@component', 'asini@primary@star@component'] until the constraint succeeds.  Original error: name 'nan' is not defined",
     "output_type": "error",
     "traceback": [
      "\u001b[0;31m---------------------------------------------------------------------------\u001b[0m",
      "\u001b[0;31mRemoteTraceback\u001b[0m                           Traceback (most recent call last)",
      "\u001b[0;31mRemoteTraceback\u001b[0m: \n\"\"\"\nTraceback (most recent call last):\n  File \"/Users/skbowes/anaconda3/lib/python3.10/multiprocessing/pool.py\", line 125, in worker\n    result = (True, func(*args, **kwds))\n  File \"/Users/skbowes/anaconda3/lib/python3.10/site-packages/phoebe/backend/backends.py\", line 714, in _test_single_sample\n    logp = b_copy.calculate_lnp(require_priors, include_constrained=True)\n  File \"/Users/skbowes/anaconda3/lib/python3.10/site-packages/phoebe/frontend/bundle.py\", line 9332, in calculate_lnp\n    self.run_failed_constraints()\n  File \"/Users/skbowes/anaconda3/lib/python3.10/site-packages/phoebe/frontend/bundle.py\", line 7835, in run_failed_constraints\n    param = self.run_constraint(uniqueid=constraint_id, return_parameter=True, skip_kwargs_checks=True, suppress_error=False)\n  File \"/Users/skbowes/anaconda3/lib/python3.10/site-packages/phoebe/frontend/bundle.py\", line 7739, in run_constraint\n    result = expression_param.get_result(suppress_error=False)\n  File \"/Users/skbowes/anaconda3/lib/python3.10/site-packages/phoebe/parameters/parameters.py\", line 12053, in get_result\n    value = eval(eq.format(**values))\n  File \"<string>\", line 1, in <module>\nNameError: Constraint 'asini@primary@star@constraint' raised the following error while attempting to solve for 'asini@primary@star@component'.  Consider flipping the constraint or changing the value of one of ['sma@binary@orbit@component', 'incl@binary@orbit@component', 'q@binary@orbit@component', 'asini@primary@star@component'] until the constraint succeeds.  Original error: name 'nan' is not defined\n\"\"\"",
      "\nThe above exception was the direct cause of the following exception:\n",
      "\u001b[0;31mNameError\u001b[0m                                 Traceback (most recent call last)",
      "Cell \u001b[0;32mIn[14], line 6\u001b[0m\n\u001b[1;32m      3\u001b[0m b\u001b[38;5;241m.\u001b[39mset_value(\u001b[38;5;124m'\u001b[39m\u001b[38;5;124mnwalkers\u001b[39m\u001b[38;5;124m'\u001b[39m, solver\u001b[38;5;241m=\u001b[39m\u001b[38;5;124m'\u001b[39m\u001b[38;5;124memcee_solver\u001b[39m\u001b[38;5;124m'\u001b[39m, value\u001b[38;5;241m=\u001b[39m\u001b[38;5;241m12\u001b[39m)\n\u001b[1;32m      4\u001b[0m b\u001b[38;5;241m.\u001b[39mset_value(\u001b[38;5;124m'\u001b[39m\u001b[38;5;124mniters\u001b[39m\u001b[38;5;124m'\u001b[39m, solver\u001b[38;5;241m=\u001b[39m\u001b[38;5;124m'\u001b[39m\u001b[38;5;124memcee_solver\u001b[39m\u001b[38;5;124m'\u001b[39m, value\u001b[38;5;241m=\u001b[39m\u001b[38;5;241m250\u001b[39m)\n\u001b[0;32m----> 6\u001b[0m \u001b[43mb\u001b[49m\u001b[38;5;241;43m.\u001b[39;49m\u001b[43mrun_solver\u001b[49m\u001b[43m(\u001b[49m\u001b[38;5;124;43m'\u001b[39;49m\u001b[38;5;124;43memcee_solver\u001b[39;49m\u001b[38;5;124;43m'\u001b[39;49m\u001b[43m,\u001b[49m\u001b[43m \u001b[49m\u001b[43msolution\u001b[49m\u001b[38;5;241;43m=\u001b[39;49m\u001b[38;5;124;43m'\u001b[39;49m\u001b[38;5;124;43memcee_sol\u001b[39;49m\u001b[38;5;124;43m'\u001b[39;49m\u001b[43m)\u001b[49m\n",
      "File \u001b[0;32m~/anaconda3/lib/python3.10/site-packages/phoebe/parameters/parameters.py:424\u001b[0m, in \u001b[0;36msend_if_client.<locals>._send_if_client\u001b[0;34m(self, *args, **kwargs)\u001b[0m\n\u001b[1;32m    421\u001b[0m     \u001b[38;5;28;01mreturn\u001b[39;00m ret_\n\u001b[1;32m    423\u001b[0m \u001b[38;5;28;01melse\u001b[39;00m:\n\u001b[0;32m--> 424\u001b[0m     \u001b[38;5;28;01mreturn\u001b[39;00m \u001b[43mfctn\u001b[49m\u001b[43m(\u001b[49m\u001b[38;5;28;43mself\u001b[39;49m\u001b[43m,\u001b[49m\u001b[43m \u001b[49m\u001b[38;5;241;43m*\u001b[39;49m\u001b[43margs\u001b[49m\u001b[43m,\u001b[49m\u001b[43m \u001b[49m\u001b[38;5;241;43m*\u001b[39;49m\u001b[38;5;241;43m*\u001b[39;49m\u001b[43mkwargs\u001b[49m\u001b[43m)\u001b[49m\n",
      "File \u001b[0;32m~/anaconda3/lib/python3.10/site-packages/phoebe/frontend/bundle.py:13649\u001b[0m, in \u001b[0;36mBundle.run_solver\u001b[0;34m(self, solver, solution, detach, return_changes, **kwargs)\u001b[0m\n\u001b[1;32m  13645\u001b[0m     \u001b[38;5;28;01mreturn\u001b[39;00m job_param\n\u001b[1;32m  13648\u001b[0m solver_class \u001b[38;5;241m=\u001b[39m \u001b[38;5;28mgetattr\u001b[39m(_solverbackends, \u001b[38;5;124m'\u001b[39m\u001b[38;5;132;01m{}\u001b[39;00m\u001b[38;5;124mBackend\u001b[39m\u001b[38;5;124m'\u001b[39m\u001b[38;5;241m.\u001b[39mformat(solver_ps\u001b[38;5;241m.\u001b[39mkind\u001b[38;5;241m.\u001b[39mtitle()))\n\u001b[0;32m> 13649\u001b[0m params \u001b[38;5;241m=\u001b[39m \u001b[43msolver_class\u001b[49m\u001b[43m(\u001b[49m\u001b[43m)\u001b[49m\u001b[38;5;241;43m.\u001b[39;49m\u001b[43mrun\u001b[49m\u001b[43m(\u001b[49m\u001b[38;5;28;43mself\u001b[39;49m\u001b[43m,\u001b[49m\u001b[43m \u001b[49m\u001b[43msolver_ps\u001b[49m\u001b[38;5;241;43m.\u001b[39;49m\u001b[43msolver\u001b[49m\u001b[43m,\u001b[49m\u001b[43m \u001b[49m\u001b[43mcompute\u001b[49m\u001b[43m,\u001b[49m\u001b[43m \u001b[49m\u001b[43msolution\u001b[49m\u001b[38;5;241;43m=\u001b[39;49m\u001b[43msolution\u001b[49m\u001b[43m,\u001b[49m\u001b[43m \u001b[49m\u001b[38;5;241;43m*\u001b[39;49m\u001b[38;5;241;43m*\u001b[39;49m\u001b[43m{\u001b[49m\u001b[43mk\u001b[49m\u001b[43m:\u001b[49m\u001b[43mv\u001b[49m\u001b[43m \u001b[49m\u001b[38;5;28;43;01mfor\u001b[39;49;00m\u001b[43m \u001b[49m\u001b[43mk\u001b[49m\u001b[43m,\u001b[49m\u001b[43mv\u001b[49m\u001b[43m \u001b[49m\u001b[38;5;129;43;01min\u001b[39;49;00m\u001b[43m \u001b[49m\u001b[43mkwargs\u001b[49m\u001b[38;5;241;43m.\u001b[39;49m\u001b[43mitems\u001b[49m\u001b[43m(\u001b[49m\u001b[43m)\u001b[49m\u001b[43m \u001b[49m\u001b[38;5;28;43;01mif\u001b[39;49;00m\u001b[43m \u001b[49m\u001b[43mk\u001b[49m\u001b[43m \u001b[49m\u001b[38;5;129;43;01mnot\u001b[39;49;00m\u001b[43m \u001b[49m\u001b[38;5;129;43;01min\u001b[39;49;00m\u001b[43m \u001b[49m\u001b[43m[\u001b[49m\u001b[38;5;124;43m'\u001b[39;49m\u001b[38;5;124;43mcompute\u001b[39;49m\u001b[38;5;124;43m'\u001b[39;49m\u001b[43m]\u001b[49m\u001b[43m}\u001b[49m\u001b[43m)\u001b[49m\n\u001b[1;32m  13650\u001b[0m metawargs \u001b[38;5;241m=\u001b[39m {\u001b[38;5;124m'\u001b[39m\u001b[38;5;124mcontext\u001b[39m\u001b[38;5;124m'\u001b[39m: \u001b[38;5;124m'\u001b[39m\u001b[38;5;124msolution\u001b[39m\u001b[38;5;124m'\u001b[39m,\n\u001b[1;32m  13651\u001b[0m              \u001b[38;5;124m'\u001b[39m\u001b[38;5;124msolver\u001b[39m\u001b[38;5;124m'\u001b[39m: solver_ps\u001b[38;5;241m.\u001b[39msolver,\n\u001b[1;32m  13652\u001b[0m              \u001b[38;5;124m'\u001b[39m\u001b[38;5;124mcompute\u001b[39m\u001b[38;5;124m'\u001b[39m: compute,\n\u001b[1;32m  13653\u001b[0m              \u001b[38;5;124m'\u001b[39m\u001b[38;5;124mkind\u001b[39m\u001b[38;5;124m'\u001b[39m: solver_ps\u001b[38;5;241m.\u001b[39mkind,\n\u001b[1;32m  13654\u001b[0m              \u001b[38;5;124m'\u001b[39m\u001b[38;5;124msolution\u001b[39m\u001b[38;5;124m'\u001b[39m: solution}\n\u001b[1;32m  13657\u001b[0m comment_param \u001b[38;5;241m=\u001b[39m StringParameter(qualifier\u001b[38;5;241m=\u001b[39m\u001b[38;5;124m'\u001b[39m\u001b[38;5;124mcomments\u001b[39m\u001b[38;5;124m'\u001b[39m, value\u001b[38;5;241m=\u001b[39mkwargs\u001b[38;5;241m.\u001b[39mget(\u001b[38;5;124m'\u001b[39m\u001b[38;5;124mcomments\u001b[39m\u001b[38;5;124m'\u001b[39m, solver_ps\u001b[38;5;241m.\u001b[39mget_value(qualifier\u001b[38;5;241m=\u001b[39m\u001b[38;5;124m'\u001b[39m\u001b[38;5;124mcomments\u001b[39m\u001b[38;5;124m'\u001b[39m, default\u001b[38;5;241m=\u001b[39m\u001b[38;5;124m'\u001b[39m\u001b[38;5;124m'\u001b[39m, \u001b[38;5;241m*\u001b[39m\u001b[38;5;241m*\u001b[39m_skip_filter_checks)), description\u001b[38;5;241m=\u001b[39m\u001b[38;5;124m'\u001b[39m\u001b[38;5;124mUser-provided comments for this solution.  Feel free to place any notes here.\u001b[39m\u001b[38;5;124m'\u001b[39m)\n",
      "File \u001b[0;32m~/anaconda3/lib/python3.10/site-packages/phoebe/solverbackends/solverbackends.py:555\u001b[0m, in \u001b[0;36mBaseSolverBackend.run\u001b[0;34m(self, b, solver, compute, **kwargs)\u001b[0m\n\u001b[1;32m    552\u001b[0m     rpacketlists_per_worker \u001b[38;5;241m=\u001b[39m [\u001b[38;5;28mself\u001b[39m\u001b[38;5;241m.\u001b[39mrun_worker(\u001b[38;5;241m*\u001b[39m\u001b[38;5;241m*\u001b[39mpacket)]\n\u001b[1;32m    554\u001b[0m \u001b[38;5;28;01melse\u001b[39;00m:\n\u001b[0;32m--> 555\u001b[0m     rpacketlists_per_worker \u001b[38;5;241m=\u001b[39m [\u001b[38;5;28;43mself\u001b[39;49m\u001b[38;5;241;43m.\u001b[39;49m\u001b[43mrun_worker\u001b[49m\u001b[43m(\u001b[49m\u001b[38;5;241;43m*\u001b[39;49m\u001b[38;5;241;43m*\u001b[39;49m\u001b[43mpacket\u001b[49m\u001b[43m)\u001b[49m]\n\u001b[1;32m    557\u001b[0m logger\u001b[38;5;241m.\u001b[39mdebug(\u001b[38;5;124m\"\u001b[39m\u001b[38;5;124mrank:\u001b[39m\u001b[38;5;132;01m{}\u001b[39;00m\u001b[38;5;124m/\u001b[39m\u001b[38;5;132;01m{}\u001b[39;00m\u001b[38;5;124m calling _fill_solution\u001b[39m\u001b[38;5;124m\"\u001b[39m\u001b[38;5;241m.\u001b[39mformat(mpi\u001b[38;5;241m.\u001b[39mmyrank, mpi\u001b[38;5;241m.\u001b[39mnprocs))\n\u001b[1;32m    558\u001b[0m \u001b[38;5;28;01mreturn\u001b[39;00m \u001b[38;5;28mself\u001b[39m\u001b[38;5;241m.\u001b[39m_fill_solution(solution_ps, rpacketlists_per_worker)\n",
      "File \u001b[0;32m~/anaconda3/lib/python3.10/site-packages/phoebe/solverbackends/solverbackends.py:1539\u001b[0m, in \u001b[0;36mEmceeBackend.run_worker\u001b[0;34m(self, b, solver, compute, **kwargs)\u001b[0m\n\u001b[1;32m   1536\u001b[0m expose_failed \u001b[38;5;241m=\u001b[39m kwargs\u001b[38;5;241m.\u001b[39mget(\u001b[38;5;124m'\u001b[39m\u001b[38;5;124mexpose_failed\u001b[39m\u001b[38;5;124m'\u001b[39m)\n\u001b[1;32m   1538\u001b[0m logger\u001b[38;5;241m.\u001b[39minfo(\u001b[38;5;124m\"\u001b[39m\u001b[38;5;124minitializing \u001b[39m\u001b[38;5;132;01m{}\u001b[39;00m\u001b[38;5;124m walker positions\u001b[39m\u001b[38;5;124m\"\u001b[39m\u001b[38;5;241m.\u001b[39mformat(nwalkers))\n\u001b[0;32m-> 1539\u001b[0m dc, params_uniqueids, p0 \u001b[38;5;241m=\u001b[39m \u001b[43mb\u001b[49m\u001b[38;5;241;43m.\u001b[39;49m\u001b[43msample_distribution_collection\u001b[49m\u001b[43m(\u001b[49m\u001b[43mdistribution\u001b[49m\u001b[38;5;241;43m=\u001b[39;49m\u001b[43minit_from\u001b[49m\u001b[43m,\u001b[49m\n\u001b[1;32m   1540\u001b[0m \u001b[43m                                                            \u001b[49m\u001b[43mcombine\u001b[49m\u001b[38;5;241;43m=\u001b[39;49m\u001b[43minit_from_combine\u001b[49m\u001b[43m,\u001b[49m\n\u001b[1;32m   1541\u001b[0m \u001b[43m                                                            \u001b[49m\u001b[43minclude_constrained\u001b[49m\u001b[38;5;241;43m=\u001b[39;49m\u001b[38;5;28;43;01mFalse\u001b[39;49;00m\u001b[43m,\u001b[49m\n\u001b[1;32m   1542\u001b[0m \u001b[43m                                                            \u001b[49m\u001b[43mrequire_limits\u001b[49m\u001b[38;5;241;43m=\u001b[39;49m\u001b[38;5;124;43m'\u001b[39;49m\u001b[38;5;124;43mlimits\u001b[39;49m\u001b[38;5;124;43m'\u001b[39;49m\u001b[43m \u001b[49m\u001b[38;5;129;43;01min\u001b[39;49;00m\u001b[43m \u001b[49m\u001b[43minit_from_requires\u001b[49m\u001b[43m,\u001b[49m\n\u001b[1;32m   1543\u001b[0m \u001b[43m                                                            \u001b[49m\u001b[43mrequire_checks\u001b[49m\u001b[38;5;241;43m=\u001b[39;49m\u001b[43mcompute\u001b[49m\u001b[43m \u001b[49m\u001b[38;5;28;43;01mif\u001b[39;49;00m\u001b[43m \u001b[49m\u001b[38;5;124;43m'\u001b[39;49m\u001b[38;5;124;43mchecks\u001b[39;49m\u001b[38;5;124;43m'\u001b[39;49m\u001b[43m \u001b[49m\u001b[38;5;129;43;01min\u001b[39;49;00m\u001b[43m \u001b[49m\u001b[43minit_from_requires\u001b[49m\u001b[43m \u001b[49m\u001b[38;5;28;43;01melse\u001b[39;49;00m\u001b[43m \u001b[49m\u001b[38;5;28;43;01mFalse\u001b[39;49;00m\u001b[43m,\u001b[49m\n\u001b[1;32m   1544\u001b[0m \u001b[43m                                                            \u001b[49m\u001b[43mrequire_compute\u001b[49m\u001b[38;5;241;43m=\u001b[39;49m\u001b[43mcompute\u001b[49m\u001b[43m \u001b[49m\u001b[38;5;28;43;01mif\u001b[39;49;00m\u001b[43m \u001b[49m\u001b[38;5;124;43m'\u001b[39;49m\u001b[38;5;124;43mcompute\u001b[39;49m\u001b[38;5;124;43m'\u001b[39;49m\u001b[43m \u001b[49m\u001b[38;5;129;43;01min\u001b[39;49;00m\u001b[43m \u001b[49m\u001b[43minit_from_requires\u001b[49m\u001b[43m \u001b[49m\u001b[38;5;28;43;01melse\u001b[39;49;00m\u001b[43m \u001b[49m\u001b[38;5;28;43;01mFalse\u001b[39;49;00m\u001b[43m,\u001b[49m\n\u001b[1;32m   1545\u001b[0m \u001b[43m                                                            \u001b[49m\u001b[43mrequire_priors\u001b[49m\u001b[38;5;241;43m=\u001b[39;49m\u001b[38;5;124;43m'\u001b[39;49m\u001b[38;5;124;43mpriors@\u001b[39;49m\u001b[38;5;132;43;01m{}\u001b[39;49;00m\u001b[38;5;124;43m'\u001b[39;49m\u001b[38;5;241;43m.\u001b[39;49m\u001b[43mformat\u001b[49m\u001b[43m(\u001b[49m\u001b[43msolver\u001b[49m\u001b[43m)\u001b[49m\u001b[43m \u001b[49m\u001b[38;5;28;43;01mif\u001b[39;49;00m\u001b[43m \u001b[49m\u001b[38;5;124;43m'\u001b[39;49m\u001b[38;5;124;43mpriors\u001b[39;49m\u001b[38;5;124;43m'\u001b[39;49m\u001b[43m \u001b[49m\u001b[38;5;129;43;01min\u001b[39;49;00m\u001b[43m \u001b[49m\u001b[43minit_from_requires\u001b[49m\u001b[43m \u001b[49m\u001b[38;5;28;43;01melse\u001b[39;49;00m\u001b[43m \u001b[49m\u001b[38;5;28;43;01mFalse\u001b[39;49;00m\u001b[43m,\u001b[49m\n\u001b[1;32m   1546\u001b[0m \u001b[43m                                                            \u001b[49m\u001b[43msample_size\u001b[49m\u001b[38;5;241;43m=\u001b[39;49m\u001b[43mnwalkers\u001b[49m\u001b[43m,\u001b[49m\n\u001b[1;32m   1547\u001b[0m \u001b[43m                                                            \u001b[49m\u001b[43mprogressbar\u001b[49m\u001b[38;5;241;43m=\u001b[39;49m\u001b[43mkwargs\u001b[49m\u001b[38;5;241;43m.\u001b[39;49m\u001b[43mget\u001b[49m\u001b[43m(\u001b[49m\u001b[38;5;124;43m'\u001b[39;49m\u001b[38;5;124;43mprogressbar\u001b[39;49m\u001b[38;5;124;43m'\u001b[39;49m\u001b[43m,\u001b[49m\u001b[43m \u001b[49m\u001b[38;5;28;43;01mFalse\u001b[39;49;00m\u001b[43m)\u001b[49m\u001b[43m,\u001b[49m\n\u001b[1;32m   1548\u001b[0m \u001b[43m                                                            \u001b[49m\u001b[43mreturn_dc_uniqueids_array\u001b[49m\u001b[38;5;241;43m=\u001b[39;49m\u001b[38;5;28;43;01mTrue\u001b[39;49;00m\u001b[43m,\u001b[49m\n\u001b[1;32m   1549\u001b[0m \u001b[43m                                                            \u001b[49m\u001b[43mpool\u001b[49m\u001b[38;5;241;43m=\u001b[39;49m\u001b[43mpool\u001b[49m\n\u001b[1;32m   1550\u001b[0m \u001b[43m                                                            \u001b[49m\u001b[43m)\u001b[49m\n\u001b[1;32m   1552\u001b[0m params_uniqueids_and_indices \u001b[38;5;241m=\u001b[39m [_extract_index_from_string(uid) \u001b[38;5;28;01mfor\u001b[39;00m uid \u001b[38;5;129;01min\u001b[39;00m params_uniqueids]\n\u001b[1;32m   1553\u001b[0m params_twigs \u001b[38;5;241m=\u001b[39m [_to_twig_with_index(b\u001b[38;5;241m.\u001b[39mget_parameter(uniqueid\u001b[38;5;241m=\u001b[39muniqueid, \u001b[38;5;241m*\u001b[39m\u001b[38;5;241m*\u001b[39m_skip_filter_checks)\u001b[38;5;241m.\u001b[39mtwig, index) \u001b[38;5;28;01mfor\u001b[39;00m uniqueid, index \u001b[38;5;129;01min\u001b[39;00m params_uniqueids_and_indices]\n",
      "File \u001b[0;32m~/anaconda3/lib/python3.10/site-packages/phoebe/frontend/bundle.py:9001\u001b[0m, in \u001b[0;36mBundle.sample_distribution_collection\u001b[0;34m(self, twig, sample_size, as_quantity, set_value, keys, parameters, **kwargs)\u001b[0m\n\u001b[1;32m   8999\u001b[0m allow_retries \u001b[38;5;241m=\u001b[39m \u001b[38;5;241m25\u001b[39m \u001b[38;5;66;03m# allow 25 attempts per-sample, or raise an error\u001b[39;00m\n\u001b[1;32m   9000\u001b[0m args_per_sample \u001b[38;5;241m=\u001b[39m [(\u001b[38;5;28mself\u001b[39m\u001b[38;5;241m.\u001b[39mcopy(), uniqueids, sample_per_param, dc, require_priors, require_compute, require_checks, allow_retries) \u001b[38;5;28;01mfor\u001b[39;00m sample_per_param \u001b[38;5;129;01min\u001b[39;00m sampled_values_T]\n\u001b[0;32m-> 9001\u001b[0m sampled_values \u001b[38;5;241m=\u001b[39m np\u001b[38;5;241m.\u001b[39masarray(\u001b[38;5;28mlist\u001b[39m(\u001b[43mpool\u001b[49m\u001b[38;5;241;43m.\u001b[39;49m\u001b[43mmap\u001b[49m\u001b[43m(\u001b[49m\u001b[43mbackends\u001b[49m\u001b[38;5;241;43m.\u001b[39;49m\u001b[43m_test_single_sample\u001b[49m\u001b[43m,\u001b[49m\u001b[43m \u001b[49m\u001b[43margs_per_sample\u001b[49m\u001b[43m,\u001b[49m\u001b[43m \u001b[49m\u001b[43mcallback\u001b[49m\u001b[38;5;241;43m=\u001b[39;49m\u001b[43m_progress\u001b[49m\u001b[43m)\u001b[49m))\u001b[38;5;241m.\u001b[39mT\n\u001b[1;32m   9002\u001b[0m \u001b[38;5;28;01mif\u001b[39;00m sample_size \u001b[38;5;129;01mis\u001b[39;00m \u001b[38;5;28;01mNone\u001b[39;00m:\n\u001b[1;32m   9003\u001b[0m     sampled_values \u001b[38;5;241m=\u001b[39m sampled_values[:,\u001b[38;5;241m0\u001b[39m]\n",
      "File \u001b[0;32m~/anaconda3/lib/python3.10/site-packages/phoebe/pool/multipool.py:98\u001b[0m, in \u001b[0;36mMultiPool.map\u001b[0;34m(self, func, iterable, callback)\u001b[0m\n\u001b[1;32m     69\u001b[0m \u001b[38;5;250m\u001b[39m\u001b[38;5;124;03m\"\"\"\u001b[39;00m\n\u001b[1;32m     70\u001b[0m \u001b[38;5;124;03mEquivalent to the built-in ``map()`` function and\u001b[39;00m\n\u001b[1;32m     71\u001b[0m \u001b[38;5;124;03m:meth:`multiprocessing.pool.Pool.map()`, without catching\u001b[39;00m\n\u001b[0;32m   (...)\u001b[0m\n\u001b[1;32m     95\u001b[0m \n\u001b[1;32m     96\u001b[0m \u001b[38;5;124;03m\"\"\"\u001b[39;00m\n\u001b[1;32m     97\u001b[0m ret \u001b[38;5;241m=\u001b[39m []\n\u001b[0;32m---> 98\u001b[0m \u001b[38;5;28;01mfor\u001b[39;00m res \u001b[38;5;129;01min\u001b[39;00m \u001b[38;5;28mself\u001b[39m\u001b[38;5;241m.\u001b[39mimap(func, iterable):\n\u001b[1;32m     99\u001b[0m     \u001b[38;5;28;01mif\u001b[39;00m callback \u001b[38;5;129;01mis\u001b[39;00m \u001b[38;5;129;01mnot\u001b[39;00m \u001b[38;5;28;01mNone\u001b[39;00m:\n\u001b[1;32m    100\u001b[0m         callback(res)\n",
      "File \u001b[0;32m~/anaconda3/lib/python3.10/multiprocessing/pool.py:873\u001b[0m, in \u001b[0;36mIMapIterator.next\u001b[0;34m(self, timeout)\u001b[0m\n\u001b[1;32m    871\u001b[0m \u001b[38;5;28;01mif\u001b[39;00m success:\n\u001b[1;32m    872\u001b[0m     \u001b[38;5;28;01mreturn\u001b[39;00m value\n\u001b[0;32m--> 873\u001b[0m \u001b[38;5;28;01mraise\u001b[39;00m value\n",
      "\u001b[0;31mNameError\u001b[0m: Constraint 'asini@primary@star@constraint' raised the following error while attempting to solve for 'asini@primary@star@component'.  Consider flipping the constraint or changing the value of one of ['sma@binary@orbit@component', 'incl@binary@orbit@component', 'q@binary@orbit@component', 'asini@primary@star@component'] until the constraint succeeds.  Original error: name 'nan' is not defined"
     ]
    }
   ],
   "source": [
    "# set things first\n",
    "\n",
    "b.set_value('nwalkers', solver='emcee_solver', value=12)\n",
    "b.set_value('niters', solver='emcee_solver', value=250)\n",
    "\n",
    "b.run_solver('emcee_solver', solution='emcee_sol')"
   ]
  },
  {
   "cell_type": "code",
   "execution_count": 15,
   "id": "aeca220b",
   "metadata": {},
   "outputs": [
    {
     "ename": "ValueError",
     "evalue": "Nothing could be found to plot.  Check all arguments.",
     "output_type": "error",
     "traceback": [
      "\u001b[0;31m---------------------------------------------------------------------------\u001b[0m",
      "\u001b[0;31mValueError\u001b[0m                                Traceback (most recent call last)",
      "Cell \u001b[0;32mIn[15], line 1\u001b[0m\n\u001b[0;32m----> 1\u001b[0m \u001b[43mb\u001b[49m\u001b[38;5;241;43m.\u001b[39;49m\u001b[43mplot\u001b[49m\u001b[43m(\u001b[49m\u001b[43msolution\u001b[49m\u001b[38;5;241;43m=\u001b[39;49m\u001b[38;5;124;43m'\u001b[39;49m\u001b[38;5;124;43memcee_sol\u001b[39;49m\u001b[38;5;124;43m'\u001b[39;49m\u001b[43m,\u001b[49m\u001b[43m \u001b[49m\u001b[43mstyle\u001b[49m\u001b[38;5;241;43m=\u001b[39;49m\u001b[38;5;124;43m'\u001b[39;49m\u001b[38;5;124;43mlnprobability\u001b[39;49m\u001b[38;5;124;43m'\u001b[39;49m\u001b[43m,\u001b[49m\u001b[43m \u001b[49m\u001b[43mshow\u001b[49m\u001b[38;5;241;43m=\u001b[39;49m\u001b[38;5;28;43;01mTrue\u001b[39;49;00m\u001b[43m)\u001b[49m\n",
      "File \u001b[0;32m~/anaconda3/lib/python3.10/site-packages/phoebe/parameters/parameters.py:5955\u001b[0m, in \u001b[0;36mParameterSet.plot\u001b[0;34m(self, twig, **kwargs)\u001b[0m\n\u001b[1;32m   5952\u001b[0m \u001b[38;5;28;01mif\u001b[39;00m save \u001b[38;5;129;01mor\u001b[39;00m show \u001b[38;5;129;01mor\u001b[39;00m animate:\n\u001b[1;32m   5953\u001b[0m     \u001b[38;5;66;03m# NOTE: time, times, will all be included in kwargs\u001b[39;00m\n\u001b[1;32m   5954\u001b[0m     \u001b[38;5;28;01mtry\u001b[39;00m:\n\u001b[0;32m-> 5955\u001b[0m         \u001b[38;5;28;01mreturn\u001b[39;00m \u001b[38;5;28;43mself\u001b[39;49m\u001b[38;5;241;43m.\u001b[39;49m\u001b[43m_show_or_save\u001b[49m\u001b[43m(\u001b[49m\u001b[43msave\u001b[49m\u001b[43m,\u001b[49m\u001b[43m \u001b[49m\u001b[43mshow\u001b[49m\u001b[43m,\u001b[49m\u001b[43m \u001b[49m\u001b[43manimate\u001b[49m\u001b[43m,\u001b[49m\n\u001b[1;32m   5956\u001b[0m \u001b[43m                                  \u001b[49m\u001b[43mfig\u001b[49m\u001b[38;5;241;43m=\u001b[39;49m\u001b[43mfig\u001b[49m\u001b[43m,\u001b[49m\n\u001b[1;32m   5957\u001b[0m \u001b[43m                                  \u001b[49m\u001b[43mdraw_sidebars\u001b[49m\u001b[38;5;241;43m=\u001b[39;49m\u001b[43mdraw_sidebars\u001b[49m\u001b[43m,\u001b[49m\n\u001b[1;32m   5958\u001b[0m \u001b[43m                                  \u001b[49m\u001b[43mdraw_title\u001b[49m\u001b[38;5;241;43m=\u001b[39;49m\u001b[43mdraw_title\u001b[49m\u001b[43m,\u001b[49m\n\u001b[1;32m   5959\u001b[0m \u001b[43m                                  \u001b[49m\u001b[43mtight_layout\u001b[49m\u001b[38;5;241;43m=\u001b[39;49m\u001b[43mtight_layout\u001b[49m\u001b[43m,\u001b[49m\n\u001b[1;32m   5960\u001b[0m \u001b[43m                                  \u001b[49m\u001b[43msubplot_grid\u001b[49m\u001b[38;5;241;43m=\u001b[39;49m\u001b[43msubplot_grid\u001b[49m\u001b[43m,\u001b[49m\n\u001b[1;32m   5961\u001b[0m \u001b[43m                                  \u001b[49m\u001b[43manimate_callback\u001b[49m\u001b[38;5;241;43m=\u001b[39;49m\u001b[43manimate_callback\u001b[49m\u001b[43m,\u001b[49m\n\u001b[1;32m   5962\u001b[0m \u001b[43m                                  \u001b[49m\u001b[38;5;241;43m*\u001b[39;49m\u001b[38;5;241;43m*\u001b[39;49m\u001b[43mkwargs\u001b[49m\u001b[43m)\u001b[49m\n\u001b[1;32m   5963\u001b[0m     \u001b[38;5;28;01mexcept\u001b[39;00m \u001b[38;5;167;01mException\u001b[39;00m \u001b[38;5;28;01mas\u001b[39;00m err:\n\u001b[1;32m   5964\u001b[0m         \u001b[38;5;28mself\u001b[39m\u001b[38;5;241m.\u001b[39mclf()\n",
      "File \u001b[0;32m~/anaconda3/lib/python3.10/site-packages/phoebe/parameters/parameters.py:6069\u001b[0m, in \u001b[0;36mParameterSet._show_or_save\u001b[0;34m(self, save, show, animate, fig, draw_sidebars, draw_title, tight_layout, subplot_grid, **kwargs)\u001b[0m\n\u001b[1;32m   6067\u001b[0m afig \u001b[38;5;241m=\u001b[39m \u001b[38;5;28mself\u001b[39m\u001b[38;5;241m.\u001b[39mgcf()\n\u001b[1;32m   6068\u001b[0m \u001b[38;5;28;01mif\u001b[39;00m \u001b[38;5;129;01mnot\u001b[39;00m \u001b[38;5;28mlen\u001b[39m(afig\u001b[38;5;241m.\u001b[39maxes):\n\u001b[0;32m-> 6069\u001b[0m     \u001b[38;5;28;01mraise\u001b[39;00m \u001b[38;5;167;01mValueError\u001b[39;00m(\u001b[38;5;124m\"\u001b[39m\u001b[38;5;124mNothing could be found to plot.  Check all arguments.\u001b[39m\u001b[38;5;124m\"\u001b[39m)\n\u001b[1;32m   6072\u001b[0m logger\u001b[38;5;241m.\u001b[39minfo(\u001b[38;5;124m\"\u001b[39m\u001b[38;5;124mcalling autofig.draw(i=\u001b[39m\u001b[38;5;132;01m{}\u001b[39;00m\u001b[38;5;124m, draw_sidebars=\u001b[39m\u001b[38;5;132;01m{}\u001b[39;00m\u001b[38;5;124m, draw_title=\u001b[39m\u001b[38;5;132;01m{}\u001b[39;00m\u001b[38;5;124m, tight_layout=\u001b[39m\u001b[38;5;132;01m{}\u001b[39;00m\u001b[38;5;124m, save=\u001b[39m\u001b[38;5;132;01m{}\u001b[39;00m\u001b[38;5;124m, show=\u001b[39m\u001b[38;5;132;01m{}\u001b[39;00m\u001b[38;5;124m)\u001b[39m\u001b[38;5;124m\"\u001b[39m\u001b[38;5;241m.\u001b[39mformat(time, draw_sidebars, draw_title, tight_layout, save, show))\n\u001b[1;32m   6073\u001b[0m fig \u001b[38;5;241m=\u001b[39m afig\u001b[38;5;241m.\u001b[39mdraw(i\u001b[38;5;241m=\u001b[39mtime,\n\u001b[1;32m   6074\u001b[0m                 draw_sidebars\u001b[38;5;241m=\u001b[39mdraw_sidebars,\n\u001b[1;32m   6075\u001b[0m                 draw_title\u001b[38;5;241m=\u001b[39mdraw_title,\n\u001b[0;32m   (...)\u001b[0m\n\u001b[1;32m   6078\u001b[0m                 fig\u001b[38;5;241m=\u001b[39mfig,\n\u001b[1;32m   6079\u001b[0m                 save\u001b[38;5;241m=\u001b[39msave, show\u001b[38;5;241m=\u001b[39mshow)\n",
      "\u001b[0;31mValueError\u001b[0m: Nothing could be found to plot.  Check all arguments."
     ]
    }
   ],
   "source": [
    "b.plot(solution='emcee_sol', style='lnprobability', show=True)"
   ]
  },
  {
   "cell_type": "code",
   "execution_count": 11,
   "id": "81613fc7",
   "metadata": {},
   "outputs": [],
   "source": [
    "b.plot(solution='emcee_sol', style='corner', show=True)"
   ]
  },
  {
   "cell_type": "markdown",
   "id": "699aad0e",
   "metadata": {},
   "source": [
    "# For full PHOEBE bundle"
   ]
  },
  {
   "cell_type": "code",
   "execution_count": 17,
   "id": "b7fa289a",
   "metadata": {},
   "outputs": [],
   "source": [
    "b.add_distribution({\n",
    "#     'teffratio': pb.gaussian_around(0.1),\n",
    "#                     'requivsumfrac': pb.gaussian_around(0.1),\n",
    "                    'incl@binary': pb.gaussian_around(3),\n",
    "                    'sma@binary': pb.gaussian_around(2),\n",
    "                    'q': pb.gaussian_around(0.1)},\n",
    "#                     'ecc': pb.gaussian_around(0.5),\n",
    "#                     'per0': pb.gaussian_around(1)},\n",
    "                    distribution='ball_around_optimized_solution', overwrite_all=True)\n",
    "\n",
    "b.set_value('init_from', 'ball_around_optimized_solution') "
   ]
  },
  {
   "cell_type": "code",
   "execution_count": 18,
   "id": "d2501a30",
   "metadata": {},
   "outputs": [],
   "source": [
    "## priors\n",
    "b.add_distribution({\"ecc@binary\": pb.gaussian(0.26, 0.01),\n",
    "                    \"q@binary\": pb.gaussian(5.77, 0.1)},\n",
    "                   distribution='priors_from_external_source', overwrite_all=True)\n",
    "\n",
    "\n",
    "b.set_value('priors@emcee_solver', 'priors_from_external_source')"
   ]
  },
  {
   "cell_type": "code",
   "execution_count": 19,
   "id": "33517aa1",
   "metadata": {},
   "outputs": [
    {
     "name": "stderr",
     "output_type": "stream",
     "text": [
      "Thu, 03 Aug 2023 15:47 BUNDLE       WARNING sampling with dataset-scaled can cause unintended issues.  Consider using component-coupled and marginalizing over pblum\n",
      "/Users/skbowes/anaconda3/lib/python3.10/site-packages/phoebe/dependencies/distl/distl.py:4728: RuntimeWarning: invalid value encountered in divide\n",
      "  pdf /= pdf_integral\n",
      "  0%|                                                                                               | 0/12 [00:00<?, ?it/s]"
     ]
    },
    {
     "ename": "NameError",
     "evalue": "Constraint 'logg@primary@star@constraint' raised the following error while attempting to solve for 'logg@primary@star@component'.  Consider flipping the constraint or changing the value of one of ['mass@primary@star@component', 'requiv@primary@star@component', 'logg@primary@star@component'] until the constraint succeeds.  Original error: name 'nan' is not defined",
     "output_type": "error",
     "traceback": [
      "\u001b[0;31m---------------------------------------------------------------------------\u001b[0m",
      "\u001b[0;31mRemoteTraceback\u001b[0m                           Traceback (most recent call last)",
      "\u001b[0;31mRemoteTraceback\u001b[0m: \n\"\"\"\nTraceback (most recent call last):\n  File \"/Users/skbowes/anaconda3/lib/python3.10/multiprocessing/pool.py\", line 125, in worker\n    result = (True, func(*args, **kwds))\n  File \"/Users/skbowes/anaconda3/lib/python3.10/site-packages/phoebe/backend/backends.py\", line 714, in _test_single_sample\n    logp = b_copy.calculate_lnp(require_priors, include_constrained=True)\n  File \"/Users/skbowes/anaconda3/lib/python3.10/site-packages/phoebe/frontend/bundle.py\", line 9332, in calculate_lnp\n    self.run_failed_constraints()\n  File \"/Users/skbowes/anaconda3/lib/python3.10/site-packages/phoebe/frontend/bundle.py\", line 7835, in run_failed_constraints\n    param = self.run_constraint(uniqueid=constraint_id, return_parameter=True, skip_kwargs_checks=True, suppress_error=False)\n  File \"/Users/skbowes/anaconda3/lib/python3.10/site-packages/phoebe/frontend/bundle.py\", line 7739, in run_constraint\n    result = expression_param.get_result(suppress_error=False)\n  File \"/Users/skbowes/anaconda3/lib/python3.10/site-packages/phoebe/parameters/parameters.py\", line 12053, in get_result\n    value = eval(eq.format(**values))\n  File \"<string>\", line 1, in <module>\nNameError: Constraint 'logg@primary@star@constraint' raised the following error while attempting to solve for 'logg@primary@star@component'.  Consider flipping the constraint or changing the value of one of ['mass@primary@star@component', 'requiv@primary@star@component', 'logg@primary@star@component'] until the constraint succeeds.  Original error: name 'nan' is not defined\n\"\"\"",
      "\nThe above exception was the direct cause of the following exception:\n",
      "\u001b[0;31mNameError\u001b[0m                                 Traceback (most recent call last)",
      "Cell \u001b[0;32mIn[19], line 6\u001b[0m\n\u001b[1;32m      3\u001b[0m b\u001b[38;5;241m.\u001b[39mset_value(\u001b[38;5;124m'\u001b[39m\u001b[38;5;124mnwalkers\u001b[39m\u001b[38;5;124m'\u001b[39m, solver\u001b[38;5;241m=\u001b[39m\u001b[38;5;124m'\u001b[39m\u001b[38;5;124memcee_solver\u001b[39m\u001b[38;5;124m'\u001b[39m, value\u001b[38;5;241m=\u001b[39m\u001b[38;5;241m12\u001b[39m)\n\u001b[1;32m      4\u001b[0m b\u001b[38;5;241m.\u001b[39mset_value(\u001b[38;5;124m'\u001b[39m\u001b[38;5;124mniters\u001b[39m\u001b[38;5;124m'\u001b[39m, solver\u001b[38;5;241m=\u001b[39m\u001b[38;5;124m'\u001b[39m\u001b[38;5;124memcee_solver\u001b[39m\u001b[38;5;124m'\u001b[39m, value\u001b[38;5;241m=\u001b[39m\u001b[38;5;241m250\u001b[39m)\n\u001b[0;32m----> 6\u001b[0m \u001b[43mb\u001b[49m\u001b[38;5;241;43m.\u001b[39;49m\u001b[43mrun_solver\u001b[49m\u001b[43m(\u001b[49m\u001b[38;5;124;43m'\u001b[39;49m\u001b[38;5;124;43memcee_solver\u001b[39;49m\u001b[38;5;124;43m'\u001b[39;49m\u001b[43m,\u001b[49m\u001b[43m \u001b[49m\u001b[43msolution\u001b[49m\u001b[38;5;241;43m=\u001b[39;49m\u001b[38;5;124;43m'\u001b[39;49m\u001b[38;5;124;43memcee_sol\u001b[39;49m\u001b[38;5;124;43m'\u001b[39;49m\u001b[43m)\u001b[49m\n",
      "File \u001b[0;32m~/anaconda3/lib/python3.10/site-packages/phoebe/parameters/parameters.py:424\u001b[0m, in \u001b[0;36msend_if_client.<locals>._send_if_client\u001b[0;34m(self, *args, **kwargs)\u001b[0m\n\u001b[1;32m    421\u001b[0m     \u001b[38;5;28;01mreturn\u001b[39;00m ret_\n\u001b[1;32m    423\u001b[0m \u001b[38;5;28;01melse\u001b[39;00m:\n\u001b[0;32m--> 424\u001b[0m     \u001b[38;5;28;01mreturn\u001b[39;00m \u001b[43mfctn\u001b[49m\u001b[43m(\u001b[49m\u001b[38;5;28;43mself\u001b[39;49m\u001b[43m,\u001b[49m\u001b[43m \u001b[49m\u001b[38;5;241;43m*\u001b[39;49m\u001b[43margs\u001b[49m\u001b[43m,\u001b[49m\u001b[43m \u001b[49m\u001b[38;5;241;43m*\u001b[39;49m\u001b[38;5;241;43m*\u001b[39;49m\u001b[43mkwargs\u001b[49m\u001b[43m)\u001b[49m\n",
      "File \u001b[0;32m~/anaconda3/lib/python3.10/site-packages/phoebe/frontend/bundle.py:13649\u001b[0m, in \u001b[0;36mBundle.run_solver\u001b[0;34m(self, solver, solution, detach, return_changes, **kwargs)\u001b[0m\n\u001b[1;32m  13645\u001b[0m     \u001b[38;5;28;01mreturn\u001b[39;00m job_param\n\u001b[1;32m  13648\u001b[0m solver_class \u001b[38;5;241m=\u001b[39m \u001b[38;5;28mgetattr\u001b[39m(_solverbackends, \u001b[38;5;124m'\u001b[39m\u001b[38;5;132;01m{}\u001b[39;00m\u001b[38;5;124mBackend\u001b[39m\u001b[38;5;124m'\u001b[39m\u001b[38;5;241m.\u001b[39mformat(solver_ps\u001b[38;5;241m.\u001b[39mkind\u001b[38;5;241m.\u001b[39mtitle()))\n\u001b[0;32m> 13649\u001b[0m params \u001b[38;5;241m=\u001b[39m \u001b[43msolver_class\u001b[49m\u001b[43m(\u001b[49m\u001b[43m)\u001b[49m\u001b[38;5;241;43m.\u001b[39;49m\u001b[43mrun\u001b[49m\u001b[43m(\u001b[49m\u001b[38;5;28;43mself\u001b[39;49m\u001b[43m,\u001b[49m\u001b[43m \u001b[49m\u001b[43msolver_ps\u001b[49m\u001b[38;5;241;43m.\u001b[39;49m\u001b[43msolver\u001b[49m\u001b[43m,\u001b[49m\u001b[43m \u001b[49m\u001b[43mcompute\u001b[49m\u001b[43m,\u001b[49m\u001b[43m \u001b[49m\u001b[43msolution\u001b[49m\u001b[38;5;241;43m=\u001b[39;49m\u001b[43msolution\u001b[49m\u001b[43m,\u001b[49m\u001b[43m \u001b[49m\u001b[38;5;241;43m*\u001b[39;49m\u001b[38;5;241;43m*\u001b[39;49m\u001b[43m{\u001b[49m\u001b[43mk\u001b[49m\u001b[43m:\u001b[49m\u001b[43mv\u001b[49m\u001b[43m \u001b[49m\u001b[38;5;28;43;01mfor\u001b[39;49;00m\u001b[43m \u001b[49m\u001b[43mk\u001b[49m\u001b[43m,\u001b[49m\u001b[43mv\u001b[49m\u001b[43m \u001b[49m\u001b[38;5;129;43;01min\u001b[39;49;00m\u001b[43m \u001b[49m\u001b[43mkwargs\u001b[49m\u001b[38;5;241;43m.\u001b[39;49m\u001b[43mitems\u001b[49m\u001b[43m(\u001b[49m\u001b[43m)\u001b[49m\u001b[43m \u001b[49m\u001b[38;5;28;43;01mif\u001b[39;49;00m\u001b[43m \u001b[49m\u001b[43mk\u001b[49m\u001b[43m \u001b[49m\u001b[38;5;129;43;01mnot\u001b[39;49;00m\u001b[43m \u001b[49m\u001b[38;5;129;43;01min\u001b[39;49;00m\u001b[43m \u001b[49m\u001b[43m[\u001b[49m\u001b[38;5;124;43m'\u001b[39;49m\u001b[38;5;124;43mcompute\u001b[39;49m\u001b[38;5;124;43m'\u001b[39;49m\u001b[43m]\u001b[49m\u001b[43m}\u001b[49m\u001b[43m)\u001b[49m\n\u001b[1;32m  13650\u001b[0m metawargs \u001b[38;5;241m=\u001b[39m {\u001b[38;5;124m'\u001b[39m\u001b[38;5;124mcontext\u001b[39m\u001b[38;5;124m'\u001b[39m: \u001b[38;5;124m'\u001b[39m\u001b[38;5;124msolution\u001b[39m\u001b[38;5;124m'\u001b[39m,\n\u001b[1;32m  13651\u001b[0m              \u001b[38;5;124m'\u001b[39m\u001b[38;5;124msolver\u001b[39m\u001b[38;5;124m'\u001b[39m: solver_ps\u001b[38;5;241m.\u001b[39msolver,\n\u001b[1;32m  13652\u001b[0m              \u001b[38;5;124m'\u001b[39m\u001b[38;5;124mcompute\u001b[39m\u001b[38;5;124m'\u001b[39m: compute,\n\u001b[1;32m  13653\u001b[0m              \u001b[38;5;124m'\u001b[39m\u001b[38;5;124mkind\u001b[39m\u001b[38;5;124m'\u001b[39m: solver_ps\u001b[38;5;241m.\u001b[39mkind,\n\u001b[1;32m  13654\u001b[0m              \u001b[38;5;124m'\u001b[39m\u001b[38;5;124msolution\u001b[39m\u001b[38;5;124m'\u001b[39m: solution}\n\u001b[1;32m  13657\u001b[0m comment_param \u001b[38;5;241m=\u001b[39m StringParameter(qualifier\u001b[38;5;241m=\u001b[39m\u001b[38;5;124m'\u001b[39m\u001b[38;5;124mcomments\u001b[39m\u001b[38;5;124m'\u001b[39m, value\u001b[38;5;241m=\u001b[39mkwargs\u001b[38;5;241m.\u001b[39mget(\u001b[38;5;124m'\u001b[39m\u001b[38;5;124mcomments\u001b[39m\u001b[38;5;124m'\u001b[39m, solver_ps\u001b[38;5;241m.\u001b[39mget_value(qualifier\u001b[38;5;241m=\u001b[39m\u001b[38;5;124m'\u001b[39m\u001b[38;5;124mcomments\u001b[39m\u001b[38;5;124m'\u001b[39m, default\u001b[38;5;241m=\u001b[39m\u001b[38;5;124m'\u001b[39m\u001b[38;5;124m'\u001b[39m, \u001b[38;5;241m*\u001b[39m\u001b[38;5;241m*\u001b[39m_skip_filter_checks)), description\u001b[38;5;241m=\u001b[39m\u001b[38;5;124m'\u001b[39m\u001b[38;5;124mUser-provided comments for this solution.  Feel free to place any notes here.\u001b[39m\u001b[38;5;124m'\u001b[39m)\n",
      "File \u001b[0;32m~/anaconda3/lib/python3.10/site-packages/phoebe/solverbackends/solverbackends.py:555\u001b[0m, in \u001b[0;36mBaseSolverBackend.run\u001b[0;34m(self, b, solver, compute, **kwargs)\u001b[0m\n\u001b[1;32m    552\u001b[0m     rpacketlists_per_worker \u001b[38;5;241m=\u001b[39m [\u001b[38;5;28mself\u001b[39m\u001b[38;5;241m.\u001b[39mrun_worker(\u001b[38;5;241m*\u001b[39m\u001b[38;5;241m*\u001b[39mpacket)]\n\u001b[1;32m    554\u001b[0m \u001b[38;5;28;01melse\u001b[39;00m:\n\u001b[0;32m--> 555\u001b[0m     rpacketlists_per_worker \u001b[38;5;241m=\u001b[39m [\u001b[38;5;28;43mself\u001b[39;49m\u001b[38;5;241;43m.\u001b[39;49m\u001b[43mrun_worker\u001b[49m\u001b[43m(\u001b[49m\u001b[38;5;241;43m*\u001b[39;49m\u001b[38;5;241;43m*\u001b[39;49m\u001b[43mpacket\u001b[49m\u001b[43m)\u001b[49m]\n\u001b[1;32m    557\u001b[0m logger\u001b[38;5;241m.\u001b[39mdebug(\u001b[38;5;124m\"\u001b[39m\u001b[38;5;124mrank:\u001b[39m\u001b[38;5;132;01m{}\u001b[39;00m\u001b[38;5;124m/\u001b[39m\u001b[38;5;132;01m{}\u001b[39;00m\u001b[38;5;124m calling _fill_solution\u001b[39m\u001b[38;5;124m\"\u001b[39m\u001b[38;5;241m.\u001b[39mformat(mpi\u001b[38;5;241m.\u001b[39mmyrank, mpi\u001b[38;5;241m.\u001b[39mnprocs))\n\u001b[1;32m    558\u001b[0m \u001b[38;5;28;01mreturn\u001b[39;00m \u001b[38;5;28mself\u001b[39m\u001b[38;5;241m.\u001b[39m_fill_solution(solution_ps, rpacketlists_per_worker)\n",
      "File \u001b[0;32m~/anaconda3/lib/python3.10/site-packages/phoebe/solverbackends/solverbackends.py:1539\u001b[0m, in \u001b[0;36mEmceeBackend.run_worker\u001b[0;34m(self, b, solver, compute, **kwargs)\u001b[0m\n\u001b[1;32m   1536\u001b[0m expose_failed \u001b[38;5;241m=\u001b[39m kwargs\u001b[38;5;241m.\u001b[39mget(\u001b[38;5;124m'\u001b[39m\u001b[38;5;124mexpose_failed\u001b[39m\u001b[38;5;124m'\u001b[39m)\n\u001b[1;32m   1538\u001b[0m logger\u001b[38;5;241m.\u001b[39minfo(\u001b[38;5;124m\"\u001b[39m\u001b[38;5;124minitializing \u001b[39m\u001b[38;5;132;01m{}\u001b[39;00m\u001b[38;5;124m walker positions\u001b[39m\u001b[38;5;124m\"\u001b[39m\u001b[38;5;241m.\u001b[39mformat(nwalkers))\n\u001b[0;32m-> 1539\u001b[0m dc, params_uniqueids, p0 \u001b[38;5;241m=\u001b[39m \u001b[43mb\u001b[49m\u001b[38;5;241;43m.\u001b[39;49m\u001b[43msample_distribution_collection\u001b[49m\u001b[43m(\u001b[49m\u001b[43mdistribution\u001b[49m\u001b[38;5;241;43m=\u001b[39;49m\u001b[43minit_from\u001b[49m\u001b[43m,\u001b[49m\n\u001b[1;32m   1540\u001b[0m \u001b[43m                                                            \u001b[49m\u001b[43mcombine\u001b[49m\u001b[38;5;241;43m=\u001b[39;49m\u001b[43minit_from_combine\u001b[49m\u001b[43m,\u001b[49m\n\u001b[1;32m   1541\u001b[0m \u001b[43m                                                            \u001b[49m\u001b[43minclude_constrained\u001b[49m\u001b[38;5;241;43m=\u001b[39;49m\u001b[38;5;28;43;01mFalse\u001b[39;49;00m\u001b[43m,\u001b[49m\n\u001b[1;32m   1542\u001b[0m \u001b[43m                                                            \u001b[49m\u001b[43mrequire_limits\u001b[49m\u001b[38;5;241;43m=\u001b[39;49m\u001b[38;5;124;43m'\u001b[39;49m\u001b[38;5;124;43mlimits\u001b[39;49m\u001b[38;5;124;43m'\u001b[39;49m\u001b[43m \u001b[49m\u001b[38;5;129;43;01min\u001b[39;49;00m\u001b[43m \u001b[49m\u001b[43minit_from_requires\u001b[49m\u001b[43m,\u001b[49m\n\u001b[1;32m   1543\u001b[0m \u001b[43m                                                            \u001b[49m\u001b[43mrequire_checks\u001b[49m\u001b[38;5;241;43m=\u001b[39;49m\u001b[43mcompute\u001b[49m\u001b[43m \u001b[49m\u001b[38;5;28;43;01mif\u001b[39;49;00m\u001b[43m \u001b[49m\u001b[38;5;124;43m'\u001b[39;49m\u001b[38;5;124;43mchecks\u001b[39;49m\u001b[38;5;124;43m'\u001b[39;49m\u001b[43m \u001b[49m\u001b[38;5;129;43;01min\u001b[39;49;00m\u001b[43m \u001b[49m\u001b[43minit_from_requires\u001b[49m\u001b[43m \u001b[49m\u001b[38;5;28;43;01melse\u001b[39;49;00m\u001b[43m \u001b[49m\u001b[38;5;28;43;01mFalse\u001b[39;49;00m\u001b[43m,\u001b[49m\n\u001b[1;32m   1544\u001b[0m \u001b[43m                                                            \u001b[49m\u001b[43mrequire_compute\u001b[49m\u001b[38;5;241;43m=\u001b[39;49m\u001b[43mcompute\u001b[49m\u001b[43m \u001b[49m\u001b[38;5;28;43;01mif\u001b[39;49;00m\u001b[43m \u001b[49m\u001b[38;5;124;43m'\u001b[39;49m\u001b[38;5;124;43mcompute\u001b[39;49m\u001b[38;5;124;43m'\u001b[39;49m\u001b[43m \u001b[49m\u001b[38;5;129;43;01min\u001b[39;49;00m\u001b[43m \u001b[49m\u001b[43minit_from_requires\u001b[49m\u001b[43m \u001b[49m\u001b[38;5;28;43;01melse\u001b[39;49;00m\u001b[43m \u001b[49m\u001b[38;5;28;43;01mFalse\u001b[39;49;00m\u001b[43m,\u001b[49m\n\u001b[1;32m   1545\u001b[0m \u001b[43m                                                            \u001b[49m\u001b[43mrequire_priors\u001b[49m\u001b[38;5;241;43m=\u001b[39;49m\u001b[38;5;124;43m'\u001b[39;49m\u001b[38;5;124;43mpriors@\u001b[39;49m\u001b[38;5;132;43;01m{}\u001b[39;49;00m\u001b[38;5;124;43m'\u001b[39;49m\u001b[38;5;241;43m.\u001b[39;49m\u001b[43mformat\u001b[49m\u001b[43m(\u001b[49m\u001b[43msolver\u001b[49m\u001b[43m)\u001b[49m\u001b[43m \u001b[49m\u001b[38;5;28;43;01mif\u001b[39;49;00m\u001b[43m \u001b[49m\u001b[38;5;124;43m'\u001b[39;49m\u001b[38;5;124;43mpriors\u001b[39;49m\u001b[38;5;124;43m'\u001b[39;49m\u001b[43m \u001b[49m\u001b[38;5;129;43;01min\u001b[39;49;00m\u001b[43m \u001b[49m\u001b[43minit_from_requires\u001b[49m\u001b[43m \u001b[49m\u001b[38;5;28;43;01melse\u001b[39;49;00m\u001b[43m \u001b[49m\u001b[38;5;28;43;01mFalse\u001b[39;49;00m\u001b[43m,\u001b[49m\n\u001b[1;32m   1546\u001b[0m \u001b[43m                                                            \u001b[49m\u001b[43msample_size\u001b[49m\u001b[38;5;241;43m=\u001b[39;49m\u001b[43mnwalkers\u001b[49m\u001b[43m,\u001b[49m\n\u001b[1;32m   1547\u001b[0m \u001b[43m                                                            \u001b[49m\u001b[43mprogressbar\u001b[49m\u001b[38;5;241;43m=\u001b[39;49m\u001b[43mkwargs\u001b[49m\u001b[38;5;241;43m.\u001b[39;49m\u001b[43mget\u001b[49m\u001b[43m(\u001b[49m\u001b[38;5;124;43m'\u001b[39;49m\u001b[38;5;124;43mprogressbar\u001b[39;49m\u001b[38;5;124;43m'\u001b[39;49m\u001b[43m,\u001b[49m\u001b[43m \u001b[49m\u001b[38;5;28;43;01mFalse\u001b[39;49;00m\u001b[43m)\u001b[49m\u001b[43m,\u001b[49m\n\u001b[1;32m   1548\u001b[0m \u001b[43m                                                            \u001b[49m\u001b[43mreturn_dc_uniqueids_array\u001b[49m\u001b[38;5;241;43m=\u001b[39;49m\u001b[38;5;28;43;01mTrue\u001b[39;49;00m\u001b[43m,\u001b[49m\n\u001b[1;32m   1549\u001b[0m \u001b[43m                                                            \u001b[49m\u001b[43mpool\u001b[49m\u001b[38;5;241;43m=\u001b[39;49m\u001b[43mpool\u001b[49m\n\u001b[1;32m   1550\u001b[0m \u001b[43m                                                            \u001b[49m\u001b[43m)\u001b[49m\n\u001b[1;32m   1552\u001b[0m params_uniqueids_and_indices \u001b[38;5;241m=\u001b[39m [_extract_index_from_string(uid) \u001b[38;5;28;01mfor\u001b[39;00m uid \u001b[38;5;129;01min\u001b[39;00m params_uniqueids]\n\u001b[1;32m   1553\u001b[0m params_twigs \u001b[38;5;241m=\u001b[39m [_to_twig_with_index(b\u001b[38;5;241m.\u001b[39mget_parameter(uniqueid\u001b[38;5;241m=\u001b[39muniqueid, \u001b[38;5;241m*\u001b[39m\u001b[38;5;241m*\u001b[39m_skip_filter_checks)\u001b[38;5;241m.\u001b[39mtwig, index) \u001b[38;5;28;01mfor\u001b[39;00m uniqueid, index \u001b[38;5;129;01min\u001b[39;00m params_uniqueids_and_indices]\n",
      "File \u001b[0;32m~/anaconda3/lib/python3.10/site-packages/phoebe/frontend/bundle.py:9001\u001b[0m, in \u001b[0;36mBundle.sample_distribution_collection\u001b[0;34m(self, twig, sample_size, as_quantity, set_value, keys, parameters, **kwargs)\u001b[0m\n\u001b[1;32m   8999\u001b[0m allow_retries \u001b[38;5;241m=\u001b[39m \u001b[38;5;241m25\u001b[39m \u001b[38;5;66;03m# allow 25 attempts per-sample, or raise an error\u001b[39;00m\n\u001b[1;32m   9000\u001b[0m args_per_sample \u001b[38;5;241m=\u001b[39m [(\u001b[38;5;28mself\u001b[39m\u001b[38;5;241m.\u001b[39mcopy(), uniqueids, sample_per_param, dc, require_priors, require_compute, require_checks, allow_retries) \u001b[38;5;28;01mfor\u001b[39;00m sample_per_param \u001b[38;5;129;01min\u001b[39;00m sampled_values_T]\n\u001b[0;32m-> 9001\u001b[0m sampled_values \u001b[38;5;241m=\u001b[39m np\u001b[38;5;241m.\u001b[39masarray(\u001b[38;5;28mlist\u001b[39m(\u001b[43mpool\u001b[49m\u001b[38;5;241;43m.\u001b[39;49m\u001b[43mmap\u001b[49m\u001b[43m(\u001b[49m\u001b[43mbackends\u001b[49m\u001b[38;5;241;43m.\u001b[39;49m\u001b[43m_test_single_sample\u001b[49m\u001b[43m,\u001b[49m\u001b[43m \u001b[49m\u001b[43margs_per_sample\u001b[49m\u001b[43m,\u001b[49m\u001b[43m \u001b[49m\u001b[43mcallback\u001b[49m\u001b[38;5;241;43m=\u001b[39;49m\u001b[43m_progress\u001b[49m\u001b[43m)\u001b[49m))\u001b[38;5;241m.\u001b[39mT\n\u001b[1;32m   9002\u001b[0m \u001b[38;5;28;01mif\u001b[39;00m sample_size \u001b[38;5;129;01mis\u001b[39;00m \u001b[38;5;28;01mNone\u001b[39;00m:\n\u001b[1;32m   9003\u001b[0m     sampled_values \u001b[38;5;241m=\u001b[39m sampled_values[:,\u001b[38;5;241m0\u001b[39m]\n",
      "File \u001b[0;32m~/anaconda3/lib/python3.10/site-packages/phoebe/pool/multipool.py:98\u001b[0m, in \u001b[0;36mMultiPool.map\u001b[0;34m(self, func, iterable, callback)\u001b[0m\n\u001b[1;32m     69\u001b[0m \u001b[38;5;250m\u001b[39m\u001b[38;5;124;03m\"\"\"\u001b[39;00m\n\u001b[1;32m     70\u001b[0m \u001b[38;5;124;03mEquivalent to the built-in ``map()`` function and\u001b[39;00m\n\u001b[1;32m     71\u001b[0m \u001b[38;5;124;03m:meth:`multiprocessing.pool.Pool.map()`, without catching\u001b[39;00m\n\u001b[0;32m   (...)\u001b[0m\n\u001b[1;32m     95\u001b[0m \n\u001b[1;32m     96\u001b[0m \u001b[38;5;124;03m\"\"\"\u001b[39;00m\n\u001b[1;32m     97\u001b[0m ret \u001b[38;5;241m=\u001b[39m []\n\u001b[0;32m---> 98\u001b[0m \u001b[38;5;28;01mfor\u001b[39;00m res \u001b[38;5;129;01min\u001b[39;00m \u001b[38;5;28mself\u001b[39m\u001b[38;5;241m.\u001b[39mimap(func, iterable):\n\u001b[1;32m     99\u001b[0m     \u001b[38;5;28;01mif\u001b[39;00m callback \u001b[38;5;129;01mis\u001b[39;00m \u001b[38;5;129;01mnot\u001b[39;00m \u001b[38;5;28;01mNone\u001b[39;00m:\n\u001b[1;32m    100\u001b[0m         callback(res)\n",
      "File \u001b[0;32m~/anaconda3/lib/python3.10/multiprocessing/pool.py:873\u001b[0m, in \u001b[0;36mIMapIterator.next\u001b[0;34m(self, timeout)\u001b[0m\n\u001b[1;32m    871\u001b[0m \u001b[38;5;28;01mif\u001b[39;00m success:\n\u001b[1;32m    872\u001b[0m     \u001b[38;5;28;01mreturn\u001b[39;00m value\n\u001b[0;32m--> 873\u001b[0m \u001b[38;5;28;01mraise\u001b[39;00m value\n",
      "\u001b[0;31mNameError\u001b[0m: Constraint 'logg@primary@star@constraint' raised the following error while attempting to solve for 'logg@primary@star@component'.  Consider flipping the constraint or changing the value of one of ['mass@primary@star@component', 'requiv@primary@star@component', 'logg@primary@star@component'] until the constraint succeeds.  Original error: name 'nan' is not defined"
     ]
    }
   ],
   "source": [
    "# set things first\n",
    "\n",
    "b.set_value('nwalkers', solver='emcee_solver', value=12)\n",
    "b.set_value('niters', solver='emcee_solver', value=250)\n",
    "\n",
    "b.run_solver('emcee_solver', solution='emcee_sol')"
   ]
  },
  {
   "cell_type": "code",
   "execution_count": 37,
   "id": "3e21cd44",
   "metadata": {},
   "outputs": [
    {
     "name": "stdout",
     "output_type": "stream",
     "text": [
      "ParameterSet: 4 parameters\n",
      "C          logg@primary@component: 4.085369359458824\n",
      "C        logg@secondary@component: 4.437551877570185\n",
      "          logg@primary@constraint: log10((({mass@primary@component} / ({requiv@primary@component} ** 2.000000)) * 2942.206218) * 9.319541)\n",
      "        logg@secondary@constraint: log10((({mass@secondary@component} / ({requiv@secondary@component} ** 2.000000)) * 2942.206218) * 9.319541)\n"
     ]
    }
   ],
   "source": [
    "print(b[\"logg\"])"
   ]
  },
  {
   "cell_type": "code",
   "execution_count": null,
   "id": "a01e7f87",
   "metadata": {},
   "outputs": [],
   "source": []
  }
 ],
 "metadata": {
  "kernelspec": {
   "display_name": "Python 3 (ipykernel)",
   "language": "python",
   "name": "python3"
  },
  "language_info": {
   "codemirror_mode": {
    "name": "ipython",
    "version": 3
   },
   "file_extension": ".py",
   "mimetype": "text/x-python",
   "name": "python",
   "nbconvert_exporter": "python",
   "pygments_lexer": "ipython3",
   "version": "3.10.12"
  }
 },
 "nbformat": 4,
 "nbformat_minor": 5
}
