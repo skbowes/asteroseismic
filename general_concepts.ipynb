{
 "cells": [
  {
   "cell_type": "markdown",
   "metadata": {},
   "source": [
    "General Concepts: The PHOEBE Bundle\n",
    "======================\n",
    "\n",
    "**HOW TO RUN THIS FILE**: if you're running this in a Jupyter notebook or Google Colab session, you can click on a cell and then shift+Enter to run the cell and automatically select the next cell.  Alt+Enter will run a cell and create a new cell below it.  Ctrl+Enter will run a cell but keep it selected.  To restart from scratch, restart the kernel/runtime.\n",
    "\n",
    "\n",
    "All of these tutorials assume basic comfort with Python in general - particularly with the concepts of lists, dictionaries, and objects as well as basic comfort with using the numpy and matplotlib packages. This tutorial introduces all the general concepts of accessing parameters within the Bundle.\n",
    "\n",
    "Setup\n",
    "----------------------------------------------\n"
   ]
  },
  {
   "cell_type": "markdown",
   "metadata": {},
   "source": [
    "Let's first make sure we have the latest version of PHOEBE 2.4 installed (uncomment this line if running in an online notebook session such as colab)."
   ]
  },
  {
   "cell_type": "code",
   "execution_count": 4,
   "metadata": {},
   "outputs": [
    {
     "name": "stdout",
     "output_type": "stream",
     "text": [
      "Collecting numpy\n",
      "  Using cached numpy-1.24.3-cp310-cp310-macosx_11_0_arm64.whl (13.9 MB)\n",
      "Installing collected packages: numpy\n",
      "Successfully installed numpy-1.24.3\n"
     ]
    }
   ],
   "source": [
    "!pip install numpy"
   ]
  },
  {
   "cell_type": "code",
   "execution_count": 5,
   "metadata": {
    "scrolled": true
   },
   "outputs": [
    {
     "name": "stdout",
     "output_type": "stream",
     "text": [
      "Collecting phoebe<2.5,>=2.4\n",
      "  Using cached phoebe-2.4.10.tar.gz (77.7 MB)\n",
      "  Preparing metadata (setup.py) ... \u001b[?25ldone\n",
      "\u001b[?25hCollecting numpy>=1.12\n",
      "  Using cached numpy-1.24.3-cp310-cp310-macosx_11_0_arm64.whl (13.9 MB)\n",
      "Collecting scipy>=1.2\n",
      "  Using cached scipy-1.10.1-cp310-cp310-macosx_12_0_arm64.whl (28.8 MB)\n",
      "Collecting astropy>=1.0\n",
      "  Using cached astropy-5.2.2-cp310-cp310-macosx_11_0_arm64.whl (6.8 MB)\n",
      "Collecting corner\n",
      "  Using cached corner-2.2.2-py3-none-any.whl (15 kB)\n",
      "Collecting pytest\n",
      "  Using cached pytest-7.3.1-py3-none-any.whl (320 kB)\n",
      "Collecting requests\n",
      "  Using cached requests-2.29.0-py3-none-any.whl (62 kB)\n",
      "Collecting tqdm\n",
      "  Using cached tqdm-4.65.0-py3-none-any.whl (77 kB)\n",
      "Collecting python-socketio[client]\n",
      "  Using cached python_socketio-5.8.0-py3-none-any.whl (56 kB)\n",
      "Collecting flask\n",
      "  Using cached Flask-2.3.1-py3-none-any.whl (96 kB)\n",
      "Collecting flask-cors\n",
      "  Using cached Flask_Cors-3.0.10-py2.py3-none-any.whl (14 kB)\n",
      "Collecting flask-socketio==4.3.*\n",
      "  Using cached Flask_SocketIO-4.3.2-py2.py3-none-any.whl (15 kB)\n",
      "Collecting gevent-websocket\n",
      "  Using cached gevent_websocket-0.10.1-py3-none-any.whl (22 kB)\n",
      "Collecting python-socketio<5,>=4.3.0\n",
      "  Using cached python_socketio-4.6.1-py2.py3-none-any.whl (51 kB)\n",
      "Collecting packaging>=19.0\n",
      "  Using cached packaging-23.1-py3-none-any.whl (48 kB)\n",
      "Collecting pyerfa>=2.0\n",
      "  Using cached pyerfa-2.0.0.3-cp310-cp310-macosx_11_0_arm64.whl (333 kB)\n",
      "Collecting PyYAML>=3.13\n",
      "  Using cached PyYAML-6.0-cp310-cp310-macosx_11_0_arm64.whl (173 kB)\n",
      "Collecting Werkzeug>=2.3.0\n",
      "  Using cached Werkzeug-2.3.2-py3-none-any.whl (242 kB)\n",
      "Collecting blinker>=1.6.2\n",
      "  Using cached blinker-1.6.2-py3-none-any.whl (13 kB)\n",
      "Collecting Jinja2>=3.1.2\n",
      "  Using cached Jinja2-3.1.2-py3-none-any.whl (133 kB)\n",
      "Collecting itsdangerous>=2.1.2\n",
      "  Using cached itsdangerous-2.1.2-py3-none-any.whl (15 kB)\n",
      "Collecting click>=8.1.3\n",
      "  Using cached click-8.1.3-py3-none-any.whl (96 kB)\n",
      "Collecting matplotlib>=2.1\n",
      "  Using cached matplotlib-3.7.1-cp310-cp310-macosx_11_0_arm64.whl (7.3 MB)\n",
      "Collecting Six\n",
      "  Using cached six-1.16.0-py2.py3-none-any.whl (11 kB)\n",
      "Collecting gevent\n",
      "  Using cached gevent-22.10.2.tar.gz (6.6 MB)\n",
      "  Installing build dependencies ... \u001b[?25ldone\n",
      "\u001b[?25h  Getting requirements to build wheel ... \u001b[?25ldone\n",
      "\u001b[?25h  Installing backend dependencies ... \u001b[?25ldone\n",
      "\u001b[?25h  Preparing metadata (pyproject.toml) ... \u001b[?25ldone\n",
      "\u001b[?25hCollecting tomli>=1.0.0\n",
      "  Using cached tomli-2.0.1-py3-none-any.whl (12 kB)\n",
      "Collecting exceptiongroup>=1.0.0rc8\n",
      "  Using cached exceptiongroup-1.1.1-py3-none-any.whl (14 kB)\n",
      "Collecting iniconfig\n",
      "  Using cached iniconfig-2.0.0-py3-none-any.whl (5.9 kB)\n",
      "Collecting pluggy<2.0,>=0.12\n",
      "  Using cached pluggy-1.0.0-py2.py3-none-any.whl (13 kB)\n",
      "Collecting python-socketio[client]\n",
      "  Using cached python_socketio-5.7.2-py3-none-any.whl (56 kB)\n",
      "  Using cached python_socketio-5.7.1-py3-none-any.whl (56 kB)\n",
      "  Using cached python_socketio-5.7.0-py3-none-any.whl (56 kB)\n",
      "  Using cached python_socketio-5.6.0-py3-none-any.whl (56 kB)\n",
      "  Using cached python_socketio-5.5.2-py3-none-any.whl (56 kB)\n",
      "  Using cached python_socketio-5.5.1-py3-none-any.whl (56 kB)\n",
      "  Using cached python_socketio-5.5.0-py3-none-any.whl (55 kB)\n",
      "  Using cached python_socketio-5.4.1-py3-none-any.whl (55 kB)\n",
      "  Using cached python_socketio-5.4.0-py3-none-any.whl (55 kB)\n",
      "  Using cached python_socketio-5.3.0-py2.py3-none-any.whl (53 kB)\n",
      "  Using cached python_socketio-5.2.1-py2.py3-none-any.whl (53 kB)\n",
      "  Using cached python_socketio-5.2.0-py2.py3-none-any.whl (53 kB)\n",
      "  Using cached python_socketio-5.1.0-py2.py3-none-any.whl (53 kB)\n",
      "  Using cached python_socketio-5.0.4-py2.py3-none-any.whl (52 kB)\n",
      "  Using cached python_socketio-5.0.3-py2.py3-none-any.whl (51 kB)\n",
      "  Using cached python_socketio-5.0.2-py2.py3-none-any.whl (51 kB)\n",
      "  Using cached python_socketio-5.0.1-py2.py3-none-any.whl (51 kB)\n",
      "  Using cached python_socketio-5.0.0-py2.py3-none-any.whl (51 kB)\n",
      "Collecting python-engineio<4,>=3.13.0\n",
      "  Using cached python_engineio-3.14.2-py2.py3-none-any.whl (51 kB)\n",
      "Collecting websocket-client>=0.54.0\n",
      "  Using cached websocket_client-1.5.1-py3-none-any.whl (55 kB)\n",
      "Collecting idna<4,>=2.5\n",
      "  Using cached idna-3.4-py3-none-any.whl (61 kB)\n",
      "Collecting charset-normalizer<4,>=2\n",
      "  Using cached charset_normalizer-3.1.0-cp310-cp310-macosx_11_0_arm64.whl (123 kB)\n",
      "Collecting certifi>=2017.4.17\n",
      "  Using cached certifi-2022.12.7-py3-none-any.whl (155 kB)\n",
      "Collecting urllib3<1.27,>=1.21.1\n",
      "  Using cached urllib3-1.26.15-py2.py3-none-any.whl (140 kB)\n",
      "Collecting MarkupSafe>=2.0\n",
      "  Using cached MarkupSafe-2.1.2-cp310-cp310-macosx_10_9_universal2.whl (17 kB)\n",
      "Collecting fonttools>=4.22.0\n",
      "  Using cached fonttools-4.39.3-py3-none-any.whl (1.0 MB)\n",
      "Collecting kiwisolver>=1.0.1\n",
      "  Using cached kiwisolver-1.4.4-cp310-cp310-macosx_11_0_arm64.whl (63 kB)\n",
      "Collecting python-dateutil>=2.7\n",
      "  Using cached python_dateutil-2.8.2-py2.py3-none-any.whl (247 kB)\n",
      "Collecting contourpy>=1.0.1\n",
      "  Using cached contourpy-1.0.7-cp310-cp310-macosx_11_0_arm64.whl (229 kB)\n",
      "Collecting cycler>=0.10\n",
      "  Using cached cycler-0.11.0-py3-none-any.whl (6.4 kB)\n",
      "Collecting pillow>=6.2.0\n",
      "  Using cached Pillow-9.5.0-cp310-cp310-macosx_11_0_arm64.whl (3.1 MB)\n",
      "Collecting pyparsing>=2.3.1\n",
      "  Using cached pyparsing-3.0.9-py3-none-any.whl (98 kB)\n",
      "Collecting zope.event\n",
      "  Using cached zope.event-4.6-py2.py3-none-any.whl (6.8 kB)\n",
      "Collecting setuptools\n",
      "  Using cached setuptools-67.7.2-py3-none-any.whl (1.1 MB)\n",
      "Collecting greenlet>=2.0.0\n",
      "  Using cached greenlet-2.0.2-cp310-cp310-macosx_11_0_arm64.whl\n",
      "Collecting zope.interface\n",
      "  Using cached zope.interface-6.0-cp310-cp310-macosx_11_0_arm64.whl (202 kB)\n",
      "Building wheels for collected packages: phoebe, gevent\n",
      "  Building wheel for phoebe (setup.py) ... \u001b[?25ldone\n",
      "\u001b[?25h  Created wheel for phoebe: filename=phoebe-2.4.10-cp310-cp310-macosx_12_0_arm64.whl size=77978456 sha256=dbd1d95c98a6e674332322d2bb34806cadcd216abb5a6b91e92f1265e1841e0a\n",
      "  Stored in directory: /Users/skbowes/Library/Caches/pip/wheels/e9/dd/21/778d62c8f5ddf3ecaaa9034a3a9e46213cc43928534739a087\n",
      "  Building wheel for gevent (pyproject.toml) ... \u001b[?25ldone\n",
      "\u001b[?25h  Created wheel for gevent: filename=gevent-22.10.2-cp310-cp310-macosx_11_0_arm64.whl size=1722328 sha256=d44ff042ea612220fd45b7534fea685b205a2b3909f84a6dc73aaa9b6c6b562a\n",
      "  Stored in directory: /Users/skbowes/Library/Caches/pip/wheels/a4/de/5d/49abae52154c218fda5f6ce0f37ccda841d65394f1c612beee\n",
      "Successfully built phoebe gevent\n",
      "Installing collected packages: websocket-client, urllib3, tqdm, tomli, Six, setuptools, PyYAML, pyparsing, pluggy, pillow, packaging, numpy, MarkupSafe, kiwisolver, itsdangerous, iniconfig, idna, greenlet, fonttools, exceptiongroup, cycler, click, charset-normalizer, certifi, blinker, zope.interface, zope.event, Werkzeug, scipy, requests, python-engineio, python-dateutil, pytest, pyerfa, Jinja2, contourpy, python-socketio, matplotlib, gevent, flask, astropy, gevent-websocket, flask-socketio, flask-cors, corner, phoebe\n",
      "\u001b[31mERROR: pip's dependency resolver does not currently take into account all the packages that are installed. This behaviour is the source of the following dependency conflicts.\n",
      "conda-repo-cli 1.0.41 requires requests_mock, which is not installed.\n",
      "conda-repo-cli 1.0.41 requires clyent==1.2.1, but you have clyent 1.2.2 which is incompatible.\n",
      "conda-repo-cli 1.0.41 requires nbformat==5.4.0, but you have nbformat 5.7.0 which is incompatible.\n",
      "conda-repo-cli 1.0.41 requires requests==2.28.1, but you have requests 2.29.0 which is incompatible.\u001b[0m\u001b[31m\n",
      "\u001b[0mSuccessfully installed Jinja2-3.1.2 MarkupSafe-2.1.2 PyYAML-6.0 Six-1.16.0 Werkzeug-2.3.2 astropy-5.2.2 blinker-1.6.2 certifi-2022.12.7 charset-normalizer-3.1.0 click-8.1.3 contourpy-1.0.7 corner-2.2.2 cycler-0.11.0 exceptiongroup-1.1.1 flask-2.3.1 flask-cors-3.0.10 flask-socketio-4.3.2 fonttools-4.39.3 gevent-22.10.2 gevent-websocket-0.10.1 greenlet-2.0.2 idna-3.4 iniconfig-2.0.0 itsdangerous-2.1.2 kiwisolver-1.4.4 matplotlib-3.7.1 numpy-1.24.3 packaging-23.1 phoebe-2.4.10 pillow-9.5.0 pluggy-1.0.0 pyerfa-2.0.0.3 pyparsing-3.0.9 pytest-7.3.1 python-dateutil-2.8.2 python-engineio-3.14.2 python-socketio-4.6.1 requests-2.29.0 scipy-1.10.1 setuptools-67.7.2 tomli-2.0.1 tqdm-4.65.0 urllib3-1.26.15 websocket-client-1.5.1 zope.event-4.6 zope.interface-6.0\n"
     ]
    }
   ],
   "source": [
    "\n",
    "!pip install -I \"phoebe>=2.4,<2.5\""
   ]
  },
  {
   "cell_type": "markdown",
   "metadata": {},
   "source": [
    "Let's get started with some basic imports:"
   ]
  },
  {
   "cell_type": "code",
   "execution_count": 2,
   "metadata": {},
   "outputs": [],
   "source": [
    "import phoebe\n",
    "from phoebe import u # units"
   ]
  },
  {
   "cell_type": "markdown",
   "metadata": {},
   "source": [
    "If running in IPython notebooks, you may see a \"ShimWarning\" depending on the version of Jupyter you are using - this is safe to ignore.\n",
    "\n",
    "PHOEBE 2 uses constants defined in the IAU 2015 Resolution which conflict with the constants defined in astropy.  As a result, you'll see the warnings as phoebe.u and phoebe.c \"hijacks\" the values in astropy.units and astropy.constants.\n",
    "\n",
    "Whenever providing units, please make sure to use `phoebe.u` instead of `astropy.units`, otherwise the conversions may be inconsistent."
   ]
  },
  {
   "cell_type": "markdown",
   "metadata": {},
   "source": [
    "### Logger\n",
    "\n",
    "Before starting any script, it is a good habit to initialize a logger and define which levels of information you want printed to the command line (clevel) and dumped to a file (flevel).  A convenience function is provided at the top-level via [phoebe.logger](../api/phoebe.logger.md) to initialize the logger with any desired level.\n",
    "\n",
    "The levels from most to least information are:\n",
    "\n",
    "* DEBUG\n",
    "* INFO\n",
    "* WARNING\n",
    "* ERROR\n",
    "* CRITICAL\n"
   ]
  },
  {
   "cell_type": "code",
   "execution_count": 3,
   "metadata": {},
   "outputs": [],
   "source": [
    "logger = phoebe.logger(clevel='WARNING')"
   ]
  },
  {
   "cell_type": "markdown",
   "metadata": {},
   "source": [
    "All of these arguments are optional and will default to clevel='WARNING' if not provided.  There is therefore no need to provide a filename if you don't provide a value for flevel.\n",
    "\n",
    "So with this logger, anything with INFO, WARNING, ERROR, or CRITICAL levels will be printed to the screen.  All messages of any level will be written to a file named 'tutorial.log' in the current directory.\n",
    "\n",
    "Note: the logger messages are not included in the outputs shown below.\n"
   ]
  },
  {
   "cell_type": "markdown",
   "metadata": {},
   "source": [
    "## Overview\n",
    "\n",
    "As a quick overview of what's to come, here is a quick preview of some of the steps used when modeling a binary system with PHOEBE.  Each of these steps will be explained in more detail throughout these tutorials.\n",
    "\n",
    "First we need to create our binary system.  For the sake of most of these tutorials, we'll use the default detached binary available through the [phoebe.default_binary](../api/phoebe.default_binary.md) constructor."
   ]
  },
  {
   "cell_type": "code",
   "execution_count": 4,
   "metadata": {},
   "outputs": [
    {
     "name": "stdout",
     "output_type": "stream",
     "text": [
      "PHOEBE Bundle: 141 parameters\n",
      "                        t0@system: 0.0 d\n",
      "                        ra@system: 0.0 deg\n",
      "                       dec@system: 0.0 deg\n",
      "                  distance@system: 1.0 m\n",
      "                    vgamma@system: 0.0 km / s\n",
      "C                      ebv@system: 0.0\n",
      "                        Av@system: 0.0\n",
      "                        Rv@system: 3.1\n",
      "                 hierarchy@system: orbit:binary(star:primary, star:secondary)\n",
      "         requiv@primary@component: 1.0 solRad\n",
      "C    requiv_max@primary@component: 2.0132751765376384 solRad\n",
      "           teff@primary@component: 6000.0 K\n",
      "           abun@primary@component: 0.0\n",
      "C          logg@primary@component: 4.437551877570185\n",
      "        syncpar@primary@component: 1.0\n",
      "C        period@primary@component: 1.0 d\n",
      "C          freq@primary@component: 6.283185 rad / d\n",
      "          pitch@primary@component: 0.0 deg\n",
      "            yaw@primary@component: 0.0 deg\n",
      "C          incl@primary@component: 90.0 deg\n",
      "C       long_an@primary@component: 0.0 deg\n",
      "      gravb_bol@primary@component: 0.32\n",
      "   irrad_frac_refl_bol@primary...: 0.6\n",
      "C  irrad_frac_lost_bol@primary...: 0.4\n",
      "    ld_mode_bol@primary@component: lookup\n",
      "    ld_func_bol@primary@component: logarithmic\n",
      "   ld_coeffs_source_bol@primar...: auto\n",
      "C          mass@primary@component: 0.9988131358058301 solMass\n",
      "       requiv@secondary@component: 1.0 solRad\n",
      "C  requiv_max@secondary@component: 2.0132751765376384 solRad\n",
      "         teff@secondary@component: 6000.0 K\n",
      "         abun@secondary@component: 0.0\n",
      "C        logg@secondary@component: 4.437551877570185\n",
      "      syncpar@secondary@component: 1.0\n",
      "C      period@secondary@component: 1.0 d\n",
      "C        freq@secondary@component: 6.283185 rad / d\n",
      "        pitch@secondary@component: 0.0 deg\n",
      "          yaw@secondary@component: 0.0 deg\n",
      "C        incl@secondary@component: 90.0 deg\n",
      "C     long_an@secondary@component: 0.0 deg\n",
      "    gravb_bol@secondary@component: 0.32\n",
      "   irrad_frac_refl_bol@seconda...: 0.6\n",
      "C  irrad_frac_lost_bol@seconda...: 0.4\n",
      "   ld_mode_bol@secondary@compo...: lookup\n",
      "   ld_func_bol@secondary@compo...: logarithmic\n",
      "   ld_coeffs_source_bol@second...: auto\n",
      "C        mass@secondary@component: 0.9988131358058301 solMass\n",
      "          period@binary@component: 1.0 d\n",
      "C           freq@binary@component: 6.283185 rad / d\n",
      "            dpdt@binary@component: 0.0 s / yr\n",
      "            per0@binary@component: 0.0 deg\n",
      "          dperdt@binary@component: 0.0 deg / yr\n",
      "             ecc@binary@component: 0.0\n",
      "C     t0_perpass@binary@component: -0.25 d\n",
      "      t0_supconj@binary@component: 0.0 d\n",
      "C         t0_ref@binary@component: 0.0 d\n",
      "C      mean_anom@binary@component: 89.99999559997653 deg\n",
      "            incl@binary@component: 90.0 deg\n",
      "               q@binary@component: 1.0\n",
      "             sma@binary@component: 5.3 solRad\n",
      "         long_an@binary@component: 0.0 deg\n",
      "C          asini@binary@component: 5.3 solRad\n",
      "C          ecosw@binary@component: 0.0\n",
      "C          esinw@binary@component: 0.0\n",
      "C      teffratio@binary@component: 1.0\n",
      "C    requivratio@binary@component: 1.0\n",
      "C  requivsumfrac@binary@component: 0.37735849056603776\n",
      "C           sma@primary@component: 2.65 solRad\n",
      "C         asini@primary@component: 2.65 solRad\n",
      "C         sma@secondary@component: 2.65 solRad\n",
      "C       asini@secondary@component: 2.65 solRad\n",
      "                   ebv@constraint: {Av@system} / {Rv@system}\n",
      "          freq@primary@constraint: 6.283185 / {period@primary@component}\n",
      "          logg@primary@constraint: log10((({mass@primary@component} / ({requiv@primary@component} ** 2.000000)) * 2942.206218) * 9.319541)\n",
      "   irrad_frac_lost_bol@primary...: 1.000000 - {irrad_frac_refl_bol@primary@component}\n",
      "        freq@secondary@constraint: 6.283185 / {period@secondary@component}\n",
      "        logg@secondary@constraint: log10((({mass@secondary@component} / ({requiv@secondary@component} ** 2.000000)) * 2942.206218) * 9.319541)\n",
      "   irrad_frac_lost_bol@seconda...: 1.000000 - {irrad_frac_refl_bol@secondary@component}\n",
      "          asini@binary@constraint: {sma@binary@component} * (sin({incl@binary@component}))\n",
      "            t0_perpass@constraint: t0_supconj_to_perpass({t0_supconj@binary@component}, {period@binary@component}, {ecc@binary@component}, {per0@binary@component}, {dpdt@binary@component}, {dperdt@binary@component}, {t0@system})\n",
      "                t0_ref@constraint: t0_supconj_to_ref({t0_supconj@binary@component}, {period@binary@component}, {ecc@binary@component}, {per0@binary@component}, {dpdt@binary@component}, {dperdt@binary@component}, {t0@system})\n",
      "             mean_anom@constraint: (6.283185 * ({t0@system} - {t0_perpass@binary@component})) / {period@binary@component}\n",
      "                 ecosw@constraint: {ecc@binary@component} * (cos({per0@binary@component}))\n",
      "                 esinw@constraint: {ecc@binary@component} * (sin({per0@binary@component}))\n",
      "           freq@binary@constraint: 6.283185 / {period@binary@component}\n",
      "             teffratio@constraint: {teff@secondary@component} / {teff@primary@component}\n",
      "           requivratio@constraint: {requiv@secondary@component} / {requiv@primary@component}\n",
      "         requivsumfrac@constraint: ({requiv@primary@component} + {requiv@secondary@component}) / {sma@binary@component}\n",
      "          mass@primary@constraint: (39.478418 * ({sma@binary@component} ** 3.000000)) / ((({period@binary@component} ** 2.000000) * ({q@binary@component} + 1.000000)) * 2942.206217504419328179210424423218)\n",
      "           sma@primary@constraint: {sma@binary@component} / ((1.000000 / {q@binary@component}) + 1.000000)\n",
      "         asini@primary@constraint: ({sma@binary@component} * (sin({incl@binary@component}))) / ((1.000000 / {q@binary@component}) + 1.000000)\n",
      "        period@primary@constraint: {period@binary@component} / {syncpar@primary@component}\n",
      "          incl@primary@constraint: {incl@binary@component} + {pitch@primary@component}\n",
      "       long_an@primary@constraint: {long_an@binary@component} + {yaw@primary@component}\n",
      "    requiv_max@primary@constraint: requiv_L1({q@binary@component}, {syncpar@primary@component}, {ecc@binary@component}, {sma@binary@component}, {incl@primary@component}, {long_an@primary@component}, {incl@binary@component}, {long_an@binary@component}, 1)\n",
      "        mass@secondary@constraint: (39.478418 * ({sma@binary@component} ** 3.000000)) / ((({period@binary@component} ** 2.000000) * ((1.000000 / {q@binary@component}) + 1.000000)) * 2942.206217504419328179210424423218)\n",
      "         sma@secondary@constraint: {sma@binary@component} / ({q@binary@component} + 1.000000)\n",
      "       asini@secondary@constraint: ({sma@binary@component} * (sin({incl@binary@component}))) / ({q@binary@component} + 1.000000)\n",
      "      period@secondary@constraint: {period@binary@component} / {syncpar@secondary@component}\n",
      "        incl@secondary@constraint: {incl@binary@component} + {pitch@secondary@component}\n",
      "     long_an@secondary@constraint: {long_an@binary@component} + {yaw@secondary@component}\n",
      "   requiv_max@secondary@constr...: requiv_L1({q@binary@component}, {syncpar@secondary@component}, {ecc@binary@component}, {sma@binary@component}, {incl@secondary@component}, {long_an@secondary@component}, {incl@binary@component}, {long_an@binary@component}, 2)\n",
      "     sample_from@phoebe01@compute: []\n",
      "        comments@phoebe01@compute: \n",
      "      use_server@phoebe01@compute: none\n",
      "   dynamics_method@phoebe01@co...: keplerian\n",
      "            ltte@phoebe01@compute: False\n",
      "    irrad_method@phoebe01@compute: horvat\n",
      "   boosting_method@phoebe01@co...: none\n",
      "   eclipse_method@phoebe01@com...: native\n",
      "   horizon_method@phoebe01@com...: boolean\n",
      "   mesh_method@primary@phoebe0...: marching\n",
      "   mesh_method@secondary@phoeb...: marching\n",
      "   ntriangles@primary@phoebe01...: 1500\n",
      "   ntriangles@secondary@phoebe...: 1500\n",
      "   distortion_method@primary@p...: roche\n",
      "   distortion_method@secondary...: roche\n",
      "     atm@primary@phoebe01@compute: ck2004\n",
      "   atm@secondary@phoebe01@compute: ck2004\n",
      "       default_time_source@figure: None\n",
      "        latex_repr@primary@figure: \n",
      "             color@primary@figure: blue\n",
      "            marker@primary@figure: .\n",
      "         linestyle@primary@figure: solid\n",
      "      latex_repr@secondary@figure: \n",
      "           color@secondary@figure: orange\n",
      "          marker@secondary@figure: o\n",
      "       linestyle@secondary@figure: dashed\n",
      "         latex_repr@binary@figure: \n",
      "R          phoebe_version@setting: 2.4.10\n",
      "              dict_filter@setting: {}\n",
      "             dict_set_all@setting: False\n",
      "       run_checks_compute@setting: ['*']\n",
      "        run_checks_solver@setting: ['*']\n",
      "      run_checks_solution@setting: ['*']\n",
      "        run_checks_figure@setting: ['*']\n",
      "        run_checks_server@setting: ['*']\n",
      "          auto_add_figure@setting: True\n",
      "       auto_remove_figure@setting: True\n",
      "               web_client@setting: False\n",
      "           web_client_url@setting: ui.phoebe-project.org\n"
     ]
    }
   ],
   "source": [
    "b = phoebe.default_binary()\n",
    "print(b)"
   ]
  },
  {
   "cell_type": "markdown",
   "metadata": {},
   "source": [
    "This object holds all the parameters and their respective values.  We'll see in this tutorial and the next tutorial on [constraints](constraints.ipynb) how to search through these parameters and set their values."
   ]
  },
  {
   "cell_type": "code",
   "execution_count": 5,
   "metadata": {},
   "outputs": [],
   "source": [
    "b.set_value(qualifier='teff', component='primary', value=6500)"
   ]
  },
  {
   "cell_type": "markdown",
   "metadata": {},
   "source": [
    "Next, we need to define our datasets via [b.add_dataset](../api/phoebe.frontend.bundle.Bundle.add_dataset.md).  This will be the topic of the following tutorial on [datasets](datasets.ipynb).  Datasets store observations to compare against the model, but also tell PHOEBE at what times to compute the forward model and store passband-dependent options."
   ]
  },
  {
   "cell_type": "code",
   "execution_count": 6,
   "metadata": {},
   "outputs": [
    {
     "data": {
      "text/plain": [
       "<ParameterSet: 80 parameters | contexts: dataset, constraint, figure, compute>"
      ]
     },
     "execution_count": 6,
     "metadata": {},
     "output_type": "execute_result"
    }
   ],
   "source": [
    "b.add_dataset('lc', compute_times=phoebe.linspace(0,1,101))"
   ]
  },
  {
   "cell_type": "markdown",
   "metadata": {},
   "source": [
    "We'll then want to run our forward model to create a synthetic model of the observables defined by these datasets using [b.run_compute](../api/phoebe.frontend.bundle.Bundle.run_compute.md), which will be the topic of the [computing observables](compute.ipynb) tutorial.  The compute options tell PHOEBE how to create a synthetic model from the system parameters for the added datasets."
   ]
  },
  {
   "cell_type": "code",
   "execution_count": 7,
   "metadata": {},
   "outputs": [
    {
     "name": "stderr",
     "output_type": "stream",
     "text": [
      "100%|██████████████████████████████████████████████████████| 101/101 [00:00<00:00, 135.60it/s]\n"
     ]
    },
    {
     "data": {
      "text/plain": [
       "<ParameterSet: 3 parameters | qualifiers: times, comments, fluxes>"
      ]
     },
     "execution_count": 7,
     "metadata": {},
     "output_type": "execute_result"
    }
   ],
   "source": [
    "b.run_compute()"
   ]
  },
  {
   "cell_type": "code",
   "execution_count": 8,
   "metadata": {},
   "outputs": [
    {
     "name": "stdout",
     "output_type": "stream",
     "text": [
      "<linspace start=0.0 stop=1.0 num=101 endpoint=True unit=None>\n"
     ]
    }
   ],
   "source": [
    "print(phoebe.linspace(0,1,101))"
   ]
  },
  {
   "cell_type": "markdown",
   "metadata": {},
   "source": [
    "We can access the value of any parameter, including the arrays in the synthetic model just generated.  To export arrays to a file, we could call [b.export_arrays](../api/phoebe.parameters.ParameterSet.export_arrays.md)"
   ]
  },
  {
   "cell_type": "code",
   "execution_count": 9,
   "metadata": {},
   "outputs": [
    {
     "name": "stdout",
     "output_type": "stream",
     "text": [
      "[0.69273328 0.86432306 1.07744179 1.28831888 1.47384436 1.61439936\n",
      " 1.68785017 1.69162448 1.69231875 1.69390462 1.69520725 1.69666012\n",
      " 1.69807696 1.69957494 1.70096241 1.702511   1.70374624 1.7051907\n",
      " 1.70646621 1.70765796 1.70865538 1.70947673 1.71015135 1.71079321\n",
      " 1.71138634 1.71107379 1.71151595 1.71135701 1.71106855 1.71059461\n",
      " 1.70999686 1.70915558 1.70849103 1.70729121 1.70638862 1.70546752\n",
      " 1.70417081 1.70280905 1.70182237 1.70059583 1.69947278 1.69837645\n",
      " 1.69718504 1.69633455 1.69383379 1.64169057 1.54089117 1.4071697\n",
      " 1.25561609 1.10356387 0.98348227 1.10357615 1.2556626  1.40734769\n",
      " 1.54097794 1.64179519 1.69377224 1.69655469 1.69704166 1.69836456\n",
      " 1.69941101 1.7005961  1.70174117 1.70295238 1.7040497  1.7052959\n",
      " 1.70624123 1.70739475 1.70837326 1.70928733 1.71000201 1.71055693\n",
      " 1.7109371  1.71131927 1.71165539 1.71107361 1.71125234 1.71084306\n",
      " 1.71028919 1.70954513 1.70867058 1.70756171 1.70659796 1.70512607\n",
      " 1.70391615 1.70271189 1.70111826 1.69946757 1.6981858  1.69668181\n",
      " 1.69529688 1.6939441  1.69250226 1.69141918 1.68789751 1.61431231\n",
      " 1.47371549 1.28811327 1.07735974 0.86430647 0.69273328]\n"
     ]
    }
   ],
   "source": [
    "print(b.get_value(qualifier='fluxes', context='model'))"
   ]
  },
  {
   "cell_type": "markdown",
   "metadata": {},
   "source": [
    "We can then plot the resulting model with [b.plot](../api/phoebe.parameters.ParameterSet.plot.md), which will be covered in the [plotting](plotting.ipynb) tutorial."
   ]
  },
  {
   "cell_type": "code",
   "execution_count": 10,
   "metadata": {
    "scrolled": false
   },
   "outputs": [
    {
     "data": {
      "image/png": "[encoded data removed]",
      "text/plain": [
       "<Figure size 800x600 with 1 Axes>"
      ]
     },
     "metadata": {},
     "output_type": "display_data"
    }
   ],
   "source": [
    "afig, mplfig = b.plot(show=True)"
   ]
  },
  {
   "cell_type": "markdown",
   "metadata": {},
   "source": [
    "And then lastly, if we wanted to solve the inverse problem and \"fit\" parameters to observational data, we may want to add [distributions](distributions.ipynb) to our system so that we can run [estimators, optimizers, or samplers](solver.ipynb)."
   ]
  },
  {
   "cell_type": "markdown",
   "metadata": {},
   "source": [
    "## Default Binary Bundle"
   ]
  },
  {
   "cell_type": "markdown",
   "metadata": {},
   "source": [
    "For this tutorial, let's start over and discuss this `b` object in more detail and how to access and change the values of the input parameters.\n",
    "\n",
    "Everything for our system will be stored in this single Python object that we call the [Bundle](../api/phoebe.frontend.bundle.Bundle.md) which we'll call `b` (short for bundle)."
   ]
  },
  {
   "cell_type": "code",
   "execution_count": 11,
   "metadata": {},
   "outputs": [],
   "source": [
    "b = phoebe.default_binary()"
   ]
  },
  {
   "cell_type": "markdown",
   "metadata": {},
   "source": [
    "The Bundle is just a collection of [Parameter](../api/phoebe.parameters.Parameter.md) objects along with some callable methods.  Here we can see that the default binary Bundle consists of over 100 individual parameters."
   ]
  },
  {
   "cell_type": "code",
   "execution_count": 12,
   "metadata": {},
   "outputs": [
    {
     "data": {
      "text/plain": [
       "<PHOEBE Bundle: 141 parameters | contexts: constraint, compute, system, component, setting, figure>"
      ]
     },
     "execution_count": 12,
     "metadata": {},
     "output_type": "execute_result"
    }
   ],
   "source": [
    "b"
   ]
  },
  {
   "cell_type": "markdown",
   "metadata": {},
   "source": [
    "If we want to view or edit a Parameter in the Bundle, we first need to know how to access it.  Each Parameter object has a number of tags which can be used to [filter](../api/phoebe.parameters.ParameterSet.filter.md) (similar to a database query).  When filtering the Bundle, a [ParameterSet](../api/phoebe.parameters.ParameterSet.md) is returned - this is essentially just a subset of the Parameters in the Bundle and can be further filtered until eventually accessing a single Parameter."
   ]
  },
  {
   "cell_type": "code",
   "execution_count": 13,
   "metadata": {},
   "outputs": [
    {
     "data": {
      "text/plain": [
       "<ParameterSet: 17 parameters | components: secondary, primary>"
      ]
     },
     "execution_count": 13,
     "metadata": {},
     "output_type": "execute_result"
    }
   ],
   "source": [
    "b.filter(context='compute')"
   ]
  },
  {
   "cell_type": "markdown",
   "metadata": {},
   "source": [
    "Here we filtered on the context tag for all Parameters with `context='compute'` (i.e. the options for computing a model).  If we want to see all the available options for this tag in the Bundle, we can use the plural form of the tag as a property on the Bundle or any ParameterSet."
   ]
  },
  {
   "cell_type": "code",
   "execution_count": 14,
   "metadata": {},
   "outputs": [
    {
     "data": {
      "text/plain": [
       "['system', 'component', 'constraint', 'compute', 'figure', 'setting']"
      ]
     },
     "execution_count": 14,
     "metadata": {},
     "output_type": "execute_result"
    }
   ],
   "source": [
    "b.contexts"
   ]
  },
  {
   "cell_type": "markdown",
   "metadata": {},
   "source": [
    "Although there is no strict hierarchy or order to the tags, it can be helpful to think of the context tag as the top-level tag and is often very helpful to filter by the appropriate context first.\n",
    "\n",
    "Other tags currently include:\n",
    "* kind\n",
    "* figure\n",
    "* component\n",
    "* feature\n",
    "* dataset\n",
    "* distribution\n",
    "* compute\n",
    "* model\n",
    "* solver\n",
    "* solution\n",
    "* time\n",
    "* qualifier"
   ]
  },
  {
   "cell_type": "markdown",
   "metadata": {},
   "source": [
    "Accessing the plural form of the tag as an attribute also works on a filtered ParameterSet"
   ]
  },
  {
   "cell_type": "code",
   "execution_count": 15,
   "metadata": {},
   "outputs": [
    {
     "data": {
      "text/plain": [
       "['primary', 'secondary']"
      ]
     },
     "execution_count": 15,
     "metadata": {},
     "output_type": "execute_result"
    }
   ],
   "source": [
    "b.filter(context='compute').components"
   ]
  },
  {
   "cell_type": "markdown",
   "metadata": {},
   "source": [
    "This then tells us what can be used to filter further."
   ]
  },
  {
   "cell_type": "code",
   "execution_count": 16,
   "metadata": {
    "scrolled": true
   },
   "outputs": [
    {
     "data": {
      "text/plain": [
       "<ParameterSet: 4 parameters | qualifiers: ntriangles, mesh_method, distortion_method, atm>"
      ]
     },
     "execution_count": 16,
     "metadata": {},
     "output_type": "execute_result"
    }
   ],
   "source": [
    "b.filter(context='compute').filter(component='primary')"
   ]
  },
  {
   "cell_type": "markdown",
   "metadata": {},
   "source": [
    "The qualifier tag is the shorthand name of the Parameter itself.  If you don't know what you're looking for, it is often useful to list all the qualifiers of the Bundle or a given ParameterSet."
   ]
  },
  {
   "cell_type": "code",
   "execution_count": 21,
   "metadata": {},
   "outputs": [
    {
     "data": {
      "text/plain": [
       "['mesh_method', 'ntriangles', 'distortion_method', 'atm']"
      ]
     },
     "execution_count": 21,
     "metadata": {},
     "output_type": "execute_result"
    }
   ],
   "source": [
    "b.filter(context='compute', component='primary').qualifiers"
   ]
  },
  {
   "cell_type": "markdown",
   "metadata": {},
   "source": [
    "Now that we know the options for the qualifier within this filter, we can choose to filter on one of those.  Let's look filter by the 'ntriangles' qualifier."
   ]
  },
  {
   "cell_type": "code",
   "execution_count": 22,
   "metadata": {},
   "outputs": [
    {
     "data": {
      "text/plain": [
       "<ParameterSet: 1 parameters>"
      ]
     },
     "execution_count": 22,
     "metadata": {},
     "output_type": "execute_result"
    }
   ],
   "source": [
    "b.filter(context='compute', component='primary', qualifier='ntriangles')"
   ]
  },
  {
   "cell_type": "markdown",
   "metadata": {},
   "source": [
    "Once we filter far enough to get to a single Parameter, we can use [get_parameter](../api/phoebe.parameters.ParameterSet.get_parameter.md) to return the Parameter object itself (instead of a ParameterSet)."
   ]
  },
  {
   "cell_type": "code",
   "execution_count": 23,
   "metadata": {},
   "outputs": [
    {
     "data": {
      "text/plain": [
       "<Parameter: ntriangles=1500 | keys: description, value, limits, visible_if, copy_for, readonly, advanced, latexfmt>"
      ]
     },
     "execution_count": 23,
     "metadata": {},
     "output_type": "execute_result"
    }
   ],
   "source": [
    "b.filter(context='compute', component='primary', qualifier='ntriangles').get_parameter()"
   ]
  },
  {
   "cell_type": "markdown",
   "metadata": {},
   "source": [
    "As a shortcut, get_parameter also takes filtering keywords.  So the above line is also equivalent to the following:"
   ]
  },
  {
   "cell_type": "code",
   "execution_count": 24,
   "metadata": {},
   "outputs": [
    {
     "data": {
      "text/plain": [
       "<Parameter: ntriangles=1500 | keys: description, value, limits, visible_if, copy_for, readonly, advanced, latexfmt>"
      ]
     },
     "execution_count": 24,
     "metadata": {},
     "output_type": "execute_result"
    }
   ],
   "source": [
    "b.get_parameter(context='compute', component='primary', qualifier='ntriangles')"
   ]
  },
  {
   "cell_type": "markdown",
   "metadata": {},
   "source": [
    "Each Parameter object contains several keys that provide information about that Parameter.  The keys \"description\" and \"value\" are always included, with additional keys available depending on the type of Parameter."
   ]
  },
  {
   "cell_type": "code",
   "execution_count": 29,
   "metadata": {},
   "outputs": [
    {
     "data": {
      "text/plain": [
       "1500"
      ]
     },
     "execution_count": 29,
     "metadata": {},
     "output_type": "execute_result"
    }
   ],
   "source": [
    "b.get_parameter(context='compute', component='primary', qualifier='ntriangles').get_value()"
   ]
  },
  {
   "cell_type": "code",
   "execution_count": 30,
   "metadata": {},
   "outputs": [
    {
     "data": {
      "text/plain": [
       "\"Requested number of triangles (won't be exact).\""
      ]
     },
     "execution_count": 30,
     "metadata": {},
     "output_type": "execute_result"
    }
   ],
   "source": [
    "b.get_parameter(context='compute', component='primary', qualifier='ntriangles').get_description()"
   ]
  },
  {
   "cell_type": "markdown",
   "metadata": {},
   "source": [
    "We can also see a top-level view of the filtered parameters and descriptions (note: the syntax with @ symbols will be explained further in the section on twigs below."
   ]
  },
  {
   "cell_type": "code",
   "execution_count": 31,
   "metadata": {},
   "outputs": [
    {
     "name": "stdout",
     "output_type": "stream",
     "text": [
      "ParameterSetInfo: (qualfier/twig: description)\n",
      "                             atm: Atmosphere table\n",
      "               distortion_method: Method to use for distorting stars\n",
      "                     mesh_method: Which method to use for discretizing the surface\n",
      "                      ntriangles: Requested number of triangles (won't be exact).\n"
     ]
    }
   ],
   "source": [
    "print(b.filter(context='compute', component='primary').info)"
   ]
  },
  {
   "cell_type": "markdown",
   "metadata": {},
   "source": [
    "Since the Parameter for `ntriangles` is a FloatParameter, it also includes a key for the allowable limits."
   ]
  },
  {
   "cell_type": "code",
   "execution_count": 32,
   "metadata": {},
   "outputs": [
    {
     "data": {
      "text/plain": [
       "[100, None]"
      ]
     },
     "execution_count": 32,
     "metadata": {},
     "output_type": "execute_result"
    }
   ],
   "source": [
    "b.get_parameter(context='compute', component='primary', qualifier='ntriangles').get_limits()"
   ]
  },
  {
   "cell_type": "markdown",
   "metadata": {},
   "source": [
    "In this case, we're looking at the Parameter called `ntriangles` with the component tag set to 'primary'.  This Parameter therefore defines how many triangles should be created when creating the mesh for the star named 'primary'.  By default, this is set to 1500 triangles, with allowable values above 100.\n",
    "\n",
    "If we wanted a finer mesh, we could change the value."
   ]
  },
  {
   "cell_type": "code",
   "execution_count": 33,
   "metadata": {},
   "outputs": [],
   "source": [
    "b.get_parameter(context='compute', component='primary', qualifier='ntriangles').set_value(2000)"
   ]
  },
  {
   "cell_type": "code",
   "execution_count": 34,
   "metadata": {},
   "outputs": [
    {
     "data": {
      "text/plain": [
       "<Parameter: ntriangles=2000 | keys: description, value, limits, visible_if, copy_for, readonly, advanced, latexfmt>"
      ]
     },
     "execution_count": 34,
     "metadata": {},
     "output_type": "execute_result"
    }
   ],
   "source": [
    "b.get_parameter(context='compute', component='primary', qualifier='ntriangles')"
   ]
  },
  {
   "cell_type": "markdown",
   "metadata": {},
   "source": [
    "If we choose the `distortion_method` qualifier from that same ParameterSet, we'll see that it has a few different keys in addition to description and value."
   ]
  },
  {
   "cell_type": "code",
   "execution_count": 35,
   "metadata": {},
   "outputs": [
    {
     "data": {
      "text/plain": [
       "<Parameter: distortion_method=roche | keys: description, choices, value, visible_if, copy_for, readonly, advanced, latexfmt>"
      ]
     },
     "execution_count": 35,
     "metadata": {},
     "output_type": "execute_result"
    }
   ],
   "source": [
    "b.get_parameter(context='compute', component='primary', qualifier='distortion_method')"
   ]
  },
  {
   "cell_type": "code",
   "execution_count": 36,
   "metadata": {},
   "outputs": [
    {
     "data": {
      "text/plain": [
       "'roche'"
      ]
     },
     "execution_count": 36,
     "metadata": {},
     "output_type": "execute_result"
    }
   ],
   "source": [
    "b.get_parameter(context='compute', component='primary', qualifier='distortion_method').get_value()"
   ]
  },
  {
   "cell_type": "code",
   "execution_count": 37,
   "metadata": {},
   "outputs": [
    {
     "data": {
      "text/plain": [
       "'Method to use for distorting stars'"
      ]
     },
     "execution_count": 37,
     "metadata": {},
     "output_type": "execute_result"
    }
   ],
   "source": [
    "b.get_parameter(context='compute', component='primary', qualifier='distortion_method').get_description()"
   ]
  },
  {
   "cell_type": "markdown",
   "metadata": {},
   "source": [
    "Since the distortion_method Parameter is a [ChoiceParameter](../api/phoebe.parameters.ChoiceParameter.md), it contains a key for the allowable choices."
   ]
  },
  {
   "cell_type": "code",
   "execution_count": 38,
   "metadata": {},
   "outputs": [
    {
     "data": {
      "text/plain": [
       "['roche', 'rotstar', 'sphere', 'none']"
      ]
     },
     "execution_count": 38,
     "metadata": {},
     "output_type": "execute_result"
    }
   ],
   "source": [
    "b.get_parameter(context='compute', component='primary', qualifier='distortion_method').get_choices()"
   ]
  },
  {
   "cell_type": "markdown",
   "metadata": {},
   "source": [
    "We can only set a value if it is contained within this list - if you attempt to set a non-valid value, an error will be raised."
   ]
  },
  {
   "cell_type": "code",
   "execution_count": 40,
   "metadata": {},
   "outputs": [
    {
     "name": "stdout",
     "output_type": "stream",
     "text": [
      "value for distortion_method@primary@phoebe01@compute must be one of ['roche', 'rotstar', 'sphere', 'none'], not 'blah'\n"
     ]
    }
   ],
   "source": [
    "try:\n",
    "    b.get_parameter(context='compute', component='primary', qualifier='distortion_method').set_value('blah')\n",
    "except Exception as e:\n",
    "    print(e)"
   ]
  },
  {
   "cell_type": "code",
   "execution_count": 41,
   "metadata": {},
   "outputs": [],
   "source": [
    "b.get_parameter(context='compute', component='primary', qualifier='distortion_method').set_value('rotstar')"
   ]
  },
  {
   "cell_type": "code",
   "execution_count": 32,
   "metadata": {},
   "outputs": [
    {
     "data": {
      "text/plain": [
       "'rotstar'"
      ]
     },
     "execution_count": 32,
     "metadata": {},
     "output_type": "execute_result"
    }
   ],
   "source": [
    "b.get_parameter(context='compute', component='primary', qualifier='distortion_method').get_value()"
   ]
  },
  {
   "cell_type": "markdown",
   "metadata": {},
   "source": [
    "[Parameter](../api/phoebe.parameters.Parameter.md) types include:\n",
    "* [IntParameter](../api/phoebe.parameters.IntParameter.md)\n",
    "* [FloatParameter](../api/phoebe.parameters.FloatParameter.md)\n",
    "* [FloatArrayParameter](../api/phoebe.parameters.FloatArrayParameter.md)\n",
    "* [BoolParameter](../api/phoebe.parameters.BoolParameter.md)\n",
    "* [StringParameter](../api/phoebe.parameters.StringParameter.md)\n",
    "* [ChoiceParameter](../api/phoebe.parameters.ChoiceParameter.md)\n",
    "* [SelectParameter](../api/phoebe.parameters.SelectParameter.md)\n",
    "* [DictParameter](../api/phoebe.parameters.DictParameter.md)\n",
    "* [ConstraintParameter](../api/phoebe.parameters.ConstraintParameter.md)\n",
    "* [DistributionParameter](../api/phoebe.parameters.DistributionParameter.md)\n",
    "* [HierarchyParameter](../api/phoebe.parameters.HierarchyParameter.md)\n",
    "* [UnitParameter](../api/phoebe.parameters.UnitParameter.md)\n",
    "* [JobParameter](../api/phoebe.parameters.JobParameter.md)\n",
    "\n",
    "these Parameter types and their available options are all described in great detail in [Advanced: Parameter Types](parameters.ipynb)"
   ]
  },
  {
   "cell_type": "markdown",
   "metadata": {},
   "source": [
    "### Twigs"
   ]
  },
  {
   "cell_type": "markdown",
   "metadata": {},
   "source": [
    "As a shortcut to needing to filter by all these tags, the Bundle and ParameterSets can be filtered through what we call \"twigs\" (as in a Bundle of twigs).  These are essentially a single string-representation of the tags, separated by `@` symbols.\n",
    "\n",
    "This is very useful as a shorthand when working in an interactive Python console, but somewhat obfuscates the names of the tags and can make it difficult if you use them in a script and make changes earlier in the script.\n",
    "\n",
    "For example, the following lines give identical results:"
   ]
  },
  {
   "cell_type": "code",
   "execution_count": 33,
   "metadata": {},
   "outputs": [
    {
     "data": {
      "text/plain": [
       "<ParameterSet: 4 parameters | qualifiers: mesh_method, ntriangles, distortion_method, atm>"
      ]
     },
     "execution_count": 33,
     "metadata": {},
     "output_type": "execute_result"
    }
   ],
   "source": [
    "b.filter(context='compute', component='primary')"
   ]
  },
  {
   "cell_type": "code",
   "execution_count": 34,
   "metadata": {},
   "outputs": [
    {
     "data": {
      "text/plain": [
       "<ParameterSet: 4 parameters | qualifiers: mesh_method, ntriangles, distortion_method, atm>"
      ]
     },
     "execution_count": 34,
     "metadata": {},
     "output_type": "execute_result"
    }
   ],
   "source": [
    "b['primary@compute']"
   ]
  },
  {
   "cell_type": "code",
   "execution_count": 35,
   "metadata": {},
   "outputs": [
    {
     "data": {
      "text/plain": [
       "<ParameterSet: 4 parameters | qualifiers: mesh_method, ntriangles, distortion_method, atm>"
      ]
     },
     "execution_count": 35,
     "metadata": {},
     "output_type": "execute_result"
    }
   ],
   "source": [
    "b['compute@primary']"
   ]
  },
  {
   "cell_type": "markdown",
   "metadata": {},
   "source": [
    "However, this dictionary-style twig access will never return a ParameterSet with a single Parameter, instead it will return the Parameter itself.  This can be seen in the different output between the following two lines:"
   ]
  },
  {
   "cell_type": "code",
   "execution_count": 36,
   "metadata": {},
   "outputs": [
    {
     "data": {
      "text/plain": [
       "<ParameterSet: 1 parameters>"
      ]
     },
     "execution_count": 36,
     "metadata": {},
     "output_type": "execute_result"
    }
   ],
   "source": [
    "b.filter(context='compute', component='primary', qualifier='distortion_method')"
   ]
  },
  {
   "cell_type": "code",
   "execution_count": 37,
   "metadata": {},
   "outputs": [
    {
     "data": {
      "text/plain": [
       "<Parameter: distortion_method=rotstar | keys: description, choices, value, visible_if, copy_for, readonly, advanced, latexfmt>"
      ]
     },
     "execution_count": 37,
     "metadata": {},
     "output_type": "execute_result"
    }
   ],
   "source": [
    "b['distortion_method@primary@compute']"
   ]
  },
  {
   "cell_type": "markdown",
   "metadata": {},
   "source": [
    "Because of this, this dictionary-style twig access can also set the value directly:"
   ]
  },
  {
   "cell_type": "code",
   "execution_count": 38,
   "metadata": {},
   "outputs": [],
   "source": [
    "b['distortion_method@primary@compute'] = 'roche'"
   ]
  },
  {
   "cell_type": "code",
   "execution_count": 39,
   "metadata": {},
   "outputs": [
    {
     "name": "stdout",
     "output_type": "stream",
     "text": [
      "Parameter: distortion_method@primary@phoebe01@compute\n",
      "                       Qualifier: distortion_method\n",
      "                     Description: Method to use for distorting stars\n",
      "                           Value: roche\n",
      "                         Choices: roche, rotstar, sphere, none\n",
      "                  Constrained by: \n",
      "                      Constrains: None\n",
      "                      Related to: None\n",
      "                 Only visible if: mesh_method:marching,hierarchy.is_meshable:true\n",
      "\n"
     ]
    }
   ],
   "source": [
    "print(b['distortion_method@primary@compute'])"
   ]
  },
  {
   "cell_type": "markdown",
   "metadata": {},
   "source": [
    "And can even provide direct access to the keys/attributes of the Parameter (value, description, limits, etc)"
   ]
  },
  {
   "cell_type": "code",
   "execution_count": 40,
   "metadata": {},
   "outputs": [
    {
     "name": "stdout",
     "output_type": "stream",
     "text": [
      "roche\n"
     ]
    }
   ],
   "source": [
    "print(b['value@distortion_method@primary@compute'])"
   ]
  },
  {
   "cell_type": "code",
   "execution_count": 41,
   "metadata": {},
   "outputs": [
    {
     "name": "stdout",
     "output_type": "stream",
     "text": [
      "Method to use for distorting stars\n"
     ]
    }
   ],
   "source": [
    "print(b['description@distortion_method@primary@compute'])"
   ]
  },
  {
   "cell_type": "markdown",
   "metadata": {},
   "source": [
    "As with the tags, you can call .twigs on any ParameterSet to see the \"smallest unique twigs\" of the contained Parameters"
   ]
  },
  {
   "cell_type": "code",
   "execution_count": 42,
   "metadata": {},
   "outputs": [
    {
     "data": {
      "text/plain": [
       "['sample_from@phoebe01@phoebe@compute',\n",
       " 'comments@phoebe01@phoebe@compute',\n",
       " 'dynamics_method@phoebe01@phoebe@compute',\n",
       " 'ltte@phoebe01@phoebe@compute',\n",
       " 'irrad_method@phoebe01@phoebe@compute',\n",
       " 'boosting_method@phoebe01@phoebe@compute',\n",
       " 'eclipse_method@phoebe01@phoebe@compute',\n",
       " 'horizon_method@phoebe01@phoebe@compute',\n",
       " 'mesh_method@primary@phoebe01@phoebe@compute',\n",
       " 'mesh_method@secondary@phoebe01@phoebe@compute',\n",
       " 'ntriangles@primary@phoebe01@phoebe@compute',\n",
       " 'ntriangles@secondary@phoebe01@phoebe@compute',\n",
       " 'distortion_method@primary@phoebe01@phoebe@compute',\n",
       " 'distortion_method@secondary@phoebe01@phoebe@compute',\n",
       " 'atm@primary@phoebe01@phoebe@compute',\n",
       " 'atm@secondary@phoebe01@phoebe@compute']"
      ]
     },
     "execution_count": 42,
     "metadata": {},
     "output_type": "execute_result"
    }
   ],
   "source": [
    "b['compute'].twigs"
   ]
  },
  {
   "cell_type": "markdown",
   "metadata": {},
   "source": [
    "Since the more verbose method without twigs is a bit clearer to read, most of the tutorials will show that syntax, but feel free to use twigs if they make more sense to you."
   ]
  },
  {
   "cell_type": "markdown",
   "metadata": {},
   "source": [
    "Next\n",
    "----------\n",
    "\n",
    "Next up: let's learn about [constraints](constraints.ipynb).\n",
    "\n",
    "Or look at any of the following advanced topics:\n",
    "* [Advanced: Parameter Types](parameters.ipynb)\n",
    "* [Advanced: Parameter Units](units.ipynb)\n",
    "* [Advanced: Building a System](building_a_system.ipynb)\n",
    "* [Advanced: Contact Binary Hierarchy](contact_binary_hierarchy.ipynb)\n",
    "* [Advanced: Saving, Loading, and Exporting](saving_and_loading.ipynb)"
   ]
  }
 ],
 "metadata": {
  "kernelspec": {
   "display_name": "Python 3 (ipykernel)",
   "language": "python",
   "name": "python3"
  },
  "language_info": {
   "codemirror_mode": {
    "name": "ipython",
    "version": 3
   },
   "file_extension": ".py",
   "mimetype": "text/x-python",
   "name": "python",
   "nbconvert_exporter": "python",
   "pygments_lexer": "ipython3",
   "version": "3.10.9"
  }
 },
 "nbformat": 4,
 "nbformat_minor": 2
}
