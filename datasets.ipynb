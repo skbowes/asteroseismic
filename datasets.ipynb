{
 "cells": [
  {
   "cell_type": "markdown",
   "metadata": {},
   "source": [
    "Datasets\n",
    "============================\n",
    "\n",
    "Datasets tell PHOEBE how and at what times to compute the model.  In some cases these will include the actual observational data, and in other cases may only include the times at which you want to compute a synthetic model.\n",
    "\n",
    "Adding a dataset - even if it doesn't contain any observational data - is required in order to compute a synthetic model (which will be described in the [Compute Tutorial](compute.ipynb)).\n",
    "\n",
    "Setup\n",
    "-----------------------------"
   ]
  },
  {
   "cell_type": "markdown",
   "metadata": {},
   "source": [
    "Let's first make sure we have the latest version of PHOEBE 2.4 installed (uncomment this line if running in an online notebook session such as colab)."
   ]
  },
  {
   "cell_type": "code",
   "execution_count": 1,
   "metadata": {},
   "outputs": [],
   "source": [
    "#!pip install -I \"phoebe>=2.4,<2.5\""
   ]
  },
  {
   "cell_type": "code",
   "execution_count": 5,
   "metadata": {},
   "outputs": [],
   "source": [
    "import phoebe\n",
    "from phoebe import u # units\n",
    "\n",
    "logger = phoebe.logger()\n",
    "\n",
    "b = phoebe.default_binary()"
   ]
  },
  {
   "cell_type": "markdown",
   "metadata": {},
   "source": [
    "## Adding a Dataset from Arrays\n",
    "\n",
    "\n",
    "To add a dataset, you need to provide the function in\n",
    "[phoebe.parameters.dataset](../api/phoebe.parameters.dataset.md) for the particular type of data you're dealing with, as well\n",
    "as any of your \"observed\" arrays.\n",
    "\n",
    "The current available methods include:\n",
    "\n",
    "* [lc](../api/phoebe.parameters.dataset.lc.md) light curves ([tutorial](LC.ipynb))\n",
    "* [rv](../api/phoebe.parameters.dataset.rv.md) radial velocity curves ([tutorial](RV.ipynb))\n",
    "* [lp](../api/phoebe.parameters.dataset.lp.md) spectral line profiles ([tutorial](LP.ipynb))\n",
    "* [orb](../api/phoebe.parameters.dataset.orb.md) orbit/positional data ([tutorial](ORB.ipynb))\n",
    "* [mesh](../api/phoebe.parameters.dataset.mesh.md) discretized mesh of stars ([tutorial](MESH.ipynb))\n",
    "\n",
    "which can always be listed via [phoebe.list_available_datasets](../api/phoebe.list_available_datasets.md)"
   ]
  },
  {
   "cell_type": "code",
   "execution_count": 2,
   "metadata": {},
   "outputs": [
    {
     "data": {
      "text/plain": [
       "['lc', 'lp', 'mesh', 'orb', 'rv']"
      ]
     },
     "execution_count": 2,
     "metadata": {},
     "output_type": "execute_result"
    }
   ],
   "source": [
    "phoebe.list_available_datasets()"
   ]
  },
  {
   "cell_type": "markdown",
   "metadata": {},
   "source": [
    "### Without Observations\n",
    "\n",
    "The simplest case of adding a dataset is when you do not have observational \"data\" and only want to compute a synthetic model.  Here all you need to provide is an array of times and information about the type of data and how to compute it.\n",
    "\n",
    "Here we'll do just that - we'll add an orbit dataset which will track the positions and velocities of both our 'primary' and 'secondary' stars (by their component tags) at each of the provided times.\n",
    "\n",
    "Unlike other datasets, the mesh and orb dataset cannot accept actual observations, so there is no `times` parameter, only the `compute_times` and `compute_phases` parameters.  For more details on these, see the [Advanced: Compute Times & Phases tutorial](compute_times_phases.ipynb)."
   ]
  },
  {
   "cell_type": "code",
   "execution_count": 3,
   "metadata": {},
   "outputs": [
    {
     "data": {
      "text/plain": [
       "<ParameterSet: 50 parameters | contexts: dataset, compute, figure, constraint>"
      ]
     },
     "execution_count": 3,
     "metadata": {},
     "output_type": "execute_result"
    }
   ],
   "source": [
    "b.add_dataset(phoebe.dataset.orb, \n",
    "              compute_times=phoebe.linspace(0,10,20), \n",
    "              dataset='orb01', \n",
    "              component=['primary', 'secondary'])"
   ]
  },
  {
   "cell_type": "markdown",
   "metadata": {},
   "source": [
    "Here we used [phoebe.linspace](../api/phoebe.linspace.md).  This is essentially just a shortcut to [np.linspace](https://numpy.org/doc/stable/reference/generated/numpy.linspace.html), but using [nparray](https://nparray.readthedocs.io) to allow these generated arrays to be serialized and stored easier within the Bundle.  Other nparray constructor functions available at the top-level of PHOEBE include:\n",
    "\n",
    "* [phoebe.arange](../api/phoebe.arange.md)\n",
    "* [phoebe.invspace](../api/phoebe.invspace.md)\n",
    "* [phoebe.linspace](../api/phoebe.linspace.md)\n",
    "* [phoebe.logspace](../api/phoebe.logspace.md)\n",
    "* [phoebe.geomspace](../api/phoebe.geomspace.md)\n",
    "\n",
    "Any nparray object, list, or numpy array is acceptable as input to [FloatArrayParameters](../api/phoebe.parameters.FloatArrayParameter.md)."
   ]
  },
  {
   "cell_type": "markdown",
   "metadata": {},
   "source": [
    "[b.add_dataset](../api/phoebe.frontend.bundle.Bundle.add_dataset.md) can either take a function or the name of a function in [phoebe.parameters.dataset](../api/phoebe.parameters.dataset.md) as its first argument.  The following line would do the same thing (and we'll pass `overwrite=True` to avoid the error of overwriting `dataset='orb01'`)."
   ]
  },
  {
   "cell_type": "code",
   "execution_count": 4,
   "metadata": {},
   "outputs": [
    {
     "data": {
      "text/plain": [
       "<ParameterSet: 11 parameters | contexts: dataset, compute, figure, constraint>"
      ]
     },
     "execution_count": 4,
     "metadata": {},
     "output_type": "execute_result"
    }
   ],
   "source": [
    "b.add_dataset('orb', \n",
    "              compute_times=phoebe.linspace(0,10,20), \n",
    "              component=['primary', 'secondary'], \n",
    "              dataset='orb01', \n",
    "              overwrite=True)"
   ]
  },
  {
   "cell_type": "markdown",
   "metadata": {},
   "source": [
    "You may notice that `add_dataset` does take some time to complete.  In the background, the passband is being loaded (when applicable) and many parameters are created and attached to the Bundle."
   ]
  },
  {
   "cell_type": "markdown",
   "metadata": {},
   "source": [
    "If you do not provide a list of component(s), they will be assumed for you based on the dataset method.  [LCs](LC.ipynb) (light curves) and [meshes](MESH.ipynb) can only attach at the system level (component=None), for instance, whereas [RVs](RV.ipynb) and [ORBs](ORB.ipynb) can attach for each star."
   ]
  },
  {
   "cell_type": "code",
   "execution_count": 5,
   "metadata": {},
   "outputs": [
    {
     "data": {
      "text/plain": [
       "<ParameterSet: 44 parameters | contexts: compute, figure, dataset, constraint>"
      ]
     },
     "execution_count": 5,
     "metadata": {},
     "output_type": "execute_result"
    }
   ],
   "source": [
    "b.add_dataset('rv', times=phoebe.linspace(0,10,20), dataset='rv01')"
   ]
  },
  {
   "cell_type": "code",
   "execution_count": 6,
   "metadata": {},
   "outputs": [
    {
     "name": "stdout",
     "output_type": "stream",
     "text": [
      "['primary', 'secondary']\n"
     ]
    }
   ],
   "source": [
    "print(b.filter(qualifier='times', dataset='rv01').components)"
   ]
  },
  {
   "cell_type": "markdown",
   "metadata": {},
   "source": [
    "Here we added an RV dataset and can see that it was automatically created for both stars in our system.  Under-the-hood, another entry is created for component='\\_default'.  The default parameters hold the values that will be replicated if a new component is added to the system in the future.  In order to see these hidden parameters, you need to pass check_default=False to any filter-type call (and note that '\\_default' is no longer exposed when calling `.components`).  Also note that for set_value_all, this is automatically set to False.\n",
    "\n",
    "Since we did not explicitly state that we only wanted the primary and secondary components, the time array on '\\_default' is filled as well.  If we were then to add a tertiary component, its RVs would automatically be computed because of this replicated time array."
   ]
  },
  {
   "cell_type": "code",
   "execution_count": 7,
   "metadata": {},
   "outputs": [
    {
     "name": "stdout",
     "output_type": "stream",
     "text": [
      "['primary', 'secondary']\n"
     ]
    }
   ],
   "source": [
    "print(b.filter(qualifier='times', dataset='rv01', check_default=False).components)"
   ]
  },
  {
   "cell_type": "code",
   "execution_count": 8,
   "metadata": {},
   "outputs": [
    {
     "name": "stdout",
     "output_type": "stream",
     "text": [
      "Parameter: times@_default@rv01@dataset\n",
      "                       Qualifier: times\n",
      "                     Description: Observed times\n",
      "                           Value: <linspace start=0.0 stop=10.0 num=20 endpoint=True unit=d>\n",
      "                  Constrained by: \n",
      "                      Constrains: None\n",
      "                      Related to: None\n",
      "\n"
     ]
    }
   ],
   "source": [
    "print(b.get('times@_default@rv01', check_default=False))"
   ]
  },
  {
   "cell_type": "markdown",
   "metadata": {},
   "source": [
    "### With Observations\n",
    "\n",
    "Loading datasets with observations is (nearly) as simple.  \n",
    "\n",
    "Passing arrays to any of the dataset columns will apply it to all of the same components in which the time will be applied (see the 'Without Observations' section above for more details).  This make perfect sense for fluxes in light curves where the time and flux arrays are both at the system level:"
   ]
  },
  {
   "cell_type": "code",
   "execution_count": 9,
   "metadata": {},
   "outputs": [
    {
     "data": {
      "text/plain": [
       "<ParameterSet: 42 parameters | contexts: compute, figure, dataset, constraint>"
      ]
     },
     "execution_count": 9,
     "metadata": {},
     "output_type": "execute_result"
    }
   ],
   "source": [
    "b.add_dataset('lc', times=[0,1], fluxes=[1,0.5], dataset='lc01')"
   ]
  },
  {
   "cell_type": "code",
   "execution_count": 7,
   "metadata": {},
   "outputs": [
    {
     "name": "stdout",
     "output_type": "stream",
     "text": [
      "ParameterSet: 0 parameters\n",
      "NO PARAMETERS\n"
     ]
    }
   ],
   "source": [
    "print(b.filter(dataset='rv', context='dataset'))"
   ]
  },
  {
   "cell_type": "code",
   "execution_count": 10,
   "metadata": {},
   "outputs": [
    {
     "name": "stdout",
     "output_type": "stream",
     "text": [
      "Parameter: fluxes@lc01@dataset\n",
      "                       Qualifier: fluxes\n",
      "                     Description: Observed flux\n",
      "                           Value: [1.  0.5] W / m2\n",
      "                  Constrained by: \n",
      "                      Constrains: None\n",
      "                      Related to: None\n",
      "\n"
     ]
    }
   ],
   "source": [
    "print(b.get_parameter(qualifier='fluxes', dataset='lc01', context='dataset'))"
   ]
  },
  {
   "cell_type": "markdown",
   "metadata": {},
   "source": [
    "For datasets which attach to individual components, however, this isn't always the desired behavior.\n",
    "\n",
    "For a single-lined RV where we only attach to one component, everything is as expected."
   ]
  },
  {
   "cell_type": "code",
   "execution_count": 11,
   "metadata": {},
   "outputs": [
    {
     "data": {
      "text/plain": [
       "<ParameterSet: 44 parameters | contexts: compute, figure, dataset, constraint>"
      ]
     },
     "execution_count": 11,
     "metadata": {},
     "output_type": "execute_result"
    }
   ],
   "source": [
    "b.add_dataset('rv', \n",
    "              times=[0,1], \n",
    "              rvs=[-3,3], \n",
    "              component='primary', \n",
    "              dataset='rv01', \n",
    "              overwrite=True)"
   ]
  },
  {
   "cell_type": "code",
   "execution_count": 12,
   "metadata": {},
   "outputs": [
    {
     "name": "stdout",
     "output_type": "stream",
     "text": [
      "Parameter: rvs@primary@rv01@dataset\n",
      "                       Qualifier: rvs\n",
      "                     Description: Observed radial velocity\n",
      "                           Value: [-3.  3.] km / s\n",
      "                  Constrained by: \n",
      "                      Constrains: None\n",
      "                      Related to: None\n",
      "                 Only visible if: times:<notempty>\n",
      "\n"
     ]
    }
   ],
   "source": [
    "print(b.get_parameter(qualifier='rvs', dataset='rv01', context='dataset'))"
   ]
  },
  {
   "cell_type": "markdown",
   "metadata": {},
   "source": [
    "However, for a double-lined RV we probably **don't** want to do the following:"
   ]
  },
  {
   "cell_type": "code",
   "execution_count": 13,
   "metadata": {},
   "outputs": [
    {
     "name": "stderr",
     "output_type": "stream",
     "text": [
      "Tue, 26 May 2020 09:40 BUNDLE       WARNING rvs@_default@rv02@rv@dataset must be of same length as times@_default@rv02@rv@dataset  If not addressed, this warning will continue to be raised and will throw an error at run_compute.\n",
      "Tue, 26 May 2020 09:40 BUNDLE       WARNING rvs@primary@rv02@rv@dataset must be of same length as times@primary@rv02@rv@dataset  If not addressed, this warning will continue to be raised and will throw an error at run_compute.\n",
      "Tue, 26 May 2020 09:40 BUNDLE       WARNING rvs@secondary@rv02@rv@dataset must be of same length as times@secondary@rv02@rv@dataset  If not addressed, this warning will continue to be raised and will throw an error at run_compute.\n"
     ]
    },
    {
     "data": {
      "text/plain": [
       "<ParameterSet: 44 parameters | contexts: compute, figure, dataset, constraint>"
      ]
     },
     "execution_count": 13,
     "metadata": {},
     "output_type": "execute_result"
    }
   ],
   "source": [
    "b.add_dataset('rv', \n",
    "              times=[0,0.5,1], \n",
    "              rvs=[-3,3], \n",
    "              dataset='rv02')"
   ]
  },
  {
   "cell_type": "code",
   "execution_count": 14,
   "metadata": {},
   "outputs": [
    {
     "name": "stdout",
     "output_type": "stream",
     "text": [
      "ParameterSet: 2 parameters\n",
      "         rvs@primary@rv02@dataset: [-3.  3.] km / s\n",
      "       rvs@secondary@rv02@dataset: [-3.  3.] km / s\n"
     ]
    }
   ],
   "source": [
    "print(b.filter(qualifier='rvs', dataset='rv02', context='dataset'))"
   ]
  },
  {
   "cell_type": "markdown",
   "metadata": {},
   "source": [
    "Instead we want to pass different arrays to the 'rvs@primary' and 'rvs@secondary'.  This can be done by explicitly stating the components in a dictionary sent to that argument:"
   ]
  },
  {
   "cell_type": "code",
   "execution_count": 15,
   "metadata": {},
   "outputs": [
    {
     "name": "stderr",
     "output_type": "stream",
     "text": [
      "Tue, 26 May 2020 09:40 BUNDLE       WARNING rvs@primary@rv02@rv@dataset must be of same length as times@primary@rv02@rv@dataset  If not addressed, this warning will continue to be raised and will throw an error at run_compute.\n",
      "Tue, 26 May 2020 09:40 BUNDLE       WARNING rvs@secondary@rv02@rv@dataset must be of same length as times@secondary@rv02@rv@dataset  If not addressed, this warning will continue to be raised and will throw an error at run_compute.\n"
     ]
    },
    {
     "data": {
      "text/plain": [
       "<ParameterSet: 44 parameters | contexts: compute, figure, dataset, constraint>"
      ]
     },
     "execution_count": 15,
     "metadata": {},
     "output_type": "execute_result"
    }
   ],
   "source": [
    "b.add_dataset('rv', \n",
    "              times=[0,0.5,1], \n",
    "              rvs={'primary': [-3,3], 'secondary': [4,-4]}, \n",
    "              dataset='rv02',\n",
    "              overwrite=True)"
   ]
  },
  {
   "cell_type": "code",
   "execution_count": 16,
   "metadata": {},
   "outputs": [
    {
     "name": "stdout",
     "output_type": "stream",
     "text": [
      "ParameterSet: 2 parameters\n",
      "         rvs@primary@rv02@dataset: [-3.  3.] km / s\n",
      "       rvs@secondary@rv02@dataset: [ 4. -4.] km / s\n"
     ]
    }
   ],
   "source": [
    "print(b.filter(qualifier='rvs', dataset='rv02', context='dataset'))"
   ]
  },
  {
   "cell_type": "markdown",
   "metadata": {},
   "source": [
    "Alternatively, you could of course not pass the values while calling add_dataset and instead call the [set_value](../api/phoebe.parameters.ParameterSet.set_value.md) method after and explicitly state the components at that time.  For more details see the [add_dataset API docs](../api/phoebe.frontend.bundle.Bundle.add_dataset.md).\n",
    "\n",
    "PHOEBE doesn't come with any built-in file parsing, but using common file parsers such as [np.loadtxt](https://numpy.org/doc/stable/reference/generated/numpy.loadtxt.html) or [np.genfromtxt](https://numpy.org/doc/stable/reference/generated/numpy.genfromtxt.html) to extract arrays from an external data file."
   ]
  },
  {
   "cell_type": "markdown",
   "metadata": {
    "collapsed": true
   },
   "source": [
    "Dataset Types\n",
    "------------------------\n",
    "\n",
    "For a full explanation of all related options and Parameter see the respective dataset tutorials:\n",
    "\n",
    "* [Light Curves/Fluxes (lc)](./LC.ipynb)\n",
    "* [Radial Velocities (rv)](./RV.ipynb)\n",
    "* [Line Profiles (lp)](./LP.ipynb)\n",
    "* [Orbits (orb)](./ORB.ipynb)\n",
    "* [Meshes (mesh)](./MESH.ipynb)"
   ]
  },
  {
   "cell_type": "markdown",
   "metadata": {},
   "source": [
    "Next\n",
    "----------\n",
    "\n",
    "Next up: let's learn how to [compute observables](compute.ipynb) and create our first synthetic model.\n",
    "\n",
    "Or see some of these advanced topics:\n",
    "\n",
    "* [Advanced: Datasets (passband options, dealing with phases, removing datasets)](datasets_advanced.ipynb)\n",
    "* [Advanced: Compute Times & Phases](compute_times_phases.ipynb)"
   ]
  },
  {
   "cell_type": "code",
   "execution_count": null,
   "metadata": {},
   "outputs": [],
   "source": []
  }
 ],
 "metadata": {
  "kernelspec": {
   "display_name": "Python 3 (ipykernel)",
   "language": "python",
   "name": "python3"
  },
  "language_info": {
   "codemirror_mode": {
    "name": "ipython",
    "version": 3
   },
   "file_extension": ".py",
   "mimetype": "text/x-python",
   "name": "python",
   "nbconvert_exporter": "python",
   "pygments_lexer": "ipython3",
   "version": "3.10.9"
  }
 },
 "nbformat": 4,
 "nbformat_minor": 1
}
