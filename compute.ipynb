{
 "cells": [
  {
   "cell_type": "markdown",
   "metadata": {},
   "source": [
    "Compute\n",
    "============================\n",
    "\n",
    "Now that we have datasets added to our Bundle, our next step is to run the forward model and compute a synthetic model for each of these datasets.\n",
    "\n",
    "Setup\n",
    "-----------------------------"
   ]
  },
  {
   "cell_type": "markdown",
   "metadata": {},
   "source": [
    "Let's first make sure we have the latest version of PHOEBE 2.4 installed (uncomment this line if running in an online notebook session such as colab)."
   ]
  },
  {
   "cell_type": "code",
   "execution_count": 1,
   "metadata": {},
   "outputs": [],
   "source": [
    "#!pip install -I \"phoebe>=2.4,<2.5\""
   ]
  },
  {
   "cell_type": "markdown",
   "metadata": {},
   "source": [
    "Now we'll import our packages and initialize the default PHOEBE bundle."
   ]
  },
  {
   "cell_type": "code",
   "execution_count": 2,
   "metadata": {},
   "outputs": [],
   "source": [
    "import phoebe\n",
    "from phoebe import u # units\n",
    "import numpy as np\n",
    "import matplotlib.pyplot as plt\n",
    "\n",
    "logger = phoebe.logger()\n",
    "\n",
    "b = phoebe.default_binary()"
   ]
  },
  {
   "cell_type": "markdown",
   "metadata": {},
   "source": [
    "And we'll attach some dummy datasets.  See the [datasets tutorial](datasets.ipynb) for more details."
   ]
  },
  {
   "cell_type": "code",
   "execution_count": 3,
   "metadata": {},
   "outputs": [
    {
     "ename": "NameError",
     "evalue": "name 'dataset' is not defined",
     "output_type": "error",
     "traceback": [
      "\u001b[0;31m---------------------------------------------------------------------------\u001b[0m",
      "\u001b[0;31mNameError\u001b[0m                                 Traceback (most recent call last)",
      "Cell \u001b[0;32mIn[3], line 1\u001b[0m\n\u001b[0;32m----> 1\u001b[0m b\u001b[38;5;241m.\u001b[39mfilter(\u001b[43mdataset\u001b[49m)\n",
      "\u001b[0;31mNameError\u001b[0m: name 'dataset' is not defined"
     ]
    }
   ],
   "source": [
    "b.filter(dataset)"
   ]
  },
  {
   "cell_type": "code",
   "execution_count": 2,
   "metadata": {},
   "outputs": [
    {
     "data": {
      "text/plain": [
       "<ParameterSet: 80 parameters | contexts: compute, figure, dataset, constraint>"
      ]
     },
     "execution_count": 2,
     "metadata": {},
     "output_type": "execute_result"
    }
   ],
   "source": [
    "b.add_dataset('orb', \n",
    "              compute_times=phoebe.linspace(0,10,10), \n",
    "              dataset='orb01')\n",
    "\n",
    "b.add_dataset('lc', \n",
    "              compute_times=phoebe.linspace(0,1,101),\n",
    "              dataset='lc01')"
   ]
  },
  {
   "cell_type": "markdown",
   "metadata": {},
   "source": [
    "Default Compute Options\n",
    "----------------------------------\n",
    "\n",
    "Any default Bundle already has a set of default compute options to run the backend for PHOEBE 2.  In most cases, you can just edit the options in this default set of compte options.\n"
   ]
  },
  {
   "cell_type": "code",
   "execution_count": 3,
   "metadata": {},
   "outputs": [
    {
     "name": "stdout",
     "output_type": "stream",
     "text": [
      "['phoebe01']\n"
     ]
    }
   ],
   "source": [
    "print(b.computes)"
   ]
  },
  {
   "cell_type": "code",
   "execution_count": 4,
   "metadata": {},
   "outputs": [
    {
     "name": "stdout",
     "output_type": "stream",
     "text": [
      "ParameterSet: 20 parameters\n",
      "     sample_from@phoebe01@compute: []\n",
      "        comments@phoebe01@compute: \n",
      "      use_server@phoebe01@compute: none\n",
      "   dynamics_method@phoebe01@co...: keplerian\n",
      "            ltte@phoebe01@compute: False\n",
      "    irrad_method@phoebe01@compute: horvat\n",
      "   boosting_method@phoebe01@co...: none\n",
      "   eclipse_method@phoebe01@com...: native\n",
      "   horizon_method@phoebe01@com...: boolean\n",
      "   mesh_method@primary@phoebe0...: marching\n",
      "   mesh_method@secondary@phoeb...: marching\n",
      "   ntriangles@primary@phoebe01...: 1500\n",
      "   ntriangles@secondary@phoebe...: 1500\n",
      "   distortion_method@primary@p...: roche\n",
      "   distortion_method@secondary...: roche\n",
      "     atm@primary@phoebe01@compute: ck2004\n",
      "   atm@secondary@phoebe01@compute: ck2004\n",
      "   enabled@orb01@phoebe01@compute: True\n",
      "    enabled@lc01@phoebe01@compute: True\n",
      "      fti_method@phoebe01@compute: none\n"
     ]
    }
   ],
   "source": [
    "print(b.filter(context='compute'))"
   ]
  },
  {
   "cell_type": "code",
   "execution_count": 5,
   "metadata": {},
   "outputs": [],
   "source": [
    "b.set_value(qualifier='irrad_method', value='none')"
   ]
  },
  {
   "cell_type": "markdown",
   "metadata": {},
   "source": [
    "Adding Compute Options\n",
    "--------------------------------------\n",
    "\n",
    "In other cases, we may want to manually add additional sets of compute options.\n",
    "This syntax should look very familiar by now, it takes a function (or the name of a recognized function in [phoebe.parameters.compute](../api/phoebe.parameters.compute.md)) and then any\n",
    "kwargs to set in that ParameterSet, passed to [b.add_compute](../api/phoebe.frontend.bundle.Bundle.add_compute.md).\n",
    "\n",
    "Let's say that we want to create two sets of compute options - in this example, we'll create one called 'preview' which will cut some corners to quickly get us a model, and one called 'detailed' which will get a much more precise model but likely take longer.  As with other tags, the string you provide for the compute tag is up to you (so long as it doesn't raise an error because it conflicts with other tags)."
   ]
  },
  {
   "cell_type": "code",
   "execution_count": 6,
   "metadata": {},
   "outputs": [
    {
     "data": {
      "text/plain": [
       "<ParameterSet: 40 parameters | datasets: lc01, _default, orb01>"
      ]
     },
     "execution_count": 6,
     "metadata": {},
     "output_type": "execute_result"
    }
   ],
   "source": [
    "b.add_compute(phoebe.compute.phoebe, compute='preview', irrad_method='none')"
   ]
  },
  {
   "cell_type": "code",
   "execution_count": 7,
   "metadata": {
    "scrolled": true
   },
   "outputs": [
    {
     "name": "stdout",
     "output_type": "stream",
     "text": [
      "ParameterSet: 20 parameters\n",
      "      sample_from@preview@compute: []\n",
      "         comments@preview@compute: \n",
      "       use_server@preview@compute: none\n",
      "   dynamics_method@preview@com...: keplerian\n",
      "             ltte@preview@compute: False\n",
      "     irrad_method@preview@compute: none\n",
      "   boosting_method@preview@com...: none\n",
      "   eclipse_method@preview@compute: native\n",
      "   horizon_method@preview@compute: boolean\n",
      "    enabled@orb01@preview@compute: True\n",
      "     enabled@lc01@preview@compute: True\n",
      "   mesh_method@primary@preview...: marching\n",
      "   mesh_method@secondary@previ...: marching\n",
      "   ntriangles@primary@preview@...: 1500\n",
      "   ntriangles@secondary@previe...: 1500\n",
      "   distortion_method@primary@p...: roche\n",
      "   distortion_method@secondary...: roche\n",
      "      atm@primary@preview@compute: ck2004\n",
      "    atm@secondary@preview@compute: ck2004\n",
      "       fti_method@preview@compute: none\n"
     ]
    }
   ],
   "source": [
    "print(b.filter(compute='preview', context='compute'))"
   ]
  },
  {
   "cell_type": "code",
   "execution_count": 8,
   "metadata": {},
   "outputs": [
    {
     "data": {
      "text/plain": [
       "<ParameterSet: 40 parameters | datasets: lc01, _default, orb01>"
      ]
     },
     "execution_count": 8,
     "metadata": {},
     "output_type": "execute_result"
    }
   ],
   "source": [
    "b.add_compute('phoebe', compute='detailed', irrad_method='wilson')"
   ]
  },
  {
   "cell_type": "code",
   "execution_count": 10,
   "metadata": {},
   "outputs": [
    {
     "name": "stdout",
     "output_type": "stream",
     "text": [
      "ParameterSet: 19 parameters\n",
      "     sample_from@detailed@compute: []\n",
      "        comments@detailed@compute: \n",
      "   dynamics_method@detailed@co...: keplerian\n",
      "            ltte@detailed@compute: False\n",
      "    irrad_method@detailed@compute: wilson\n",
      "   boosting_method@detailed@co...: none\n",
      "   eclipse_method@detailed@com...: native\n",
      "   horizon_method@detailed@com...: boolean\n",
      "   enabled@orb01@detailed@compute: True\n",
      "    enabled@lc01@detailed@compute: True\n",
      "   mesh_method@primary@detaile...: marching\n",
      "   mesh_method@secondary@detai...: marching\n",
      "   ntriangles@primary@detailed...: 1500\n",
      "   ntriangles@secondary@detail...: 1500\n",
      "   distortion_method@primary@d...: roche\n",
      "   distortion_method@secondary...: roche\n",
      "     atm@primary@detailed@compute: ck2004\n",
      "   atm@secondary@detailed@compute: ck2004\n",
      "      fti_method@detailed@compute: none\n"
     ]
    }
   ],
   "source": [
    "print(b.get_compute('detailed'))"
   ]
  },
  {
   "cell_type": "markdown",
   "metadata": {},
   "source": [
    "Editing Compute Options\n",
    "-------------------------------------\n",
    "\n",
    "### Backend-Specific Compute Options\n",
    "\n",
    "Most of the parameters in the compute options are specific to the backend being used.  Here, of course, we're using the PHOEBE 2.0 backend - but for details on other backends see the [Advanced: Alternate Backends Tutorial](./alternate_backends.ipynb).\n",
    "\n",
    "The PHOEBE compute options are described in the tutorial on their relevant dataset types:\n",
    "\n",
    "* [Light Curves/Fluxes (lc)](./LC.ipynb)\n",
    "* [Radial Velocities (rv)](./RV.ipynb)\n",
    "* [Line Profiles (lp)](./LP.ipynb)\n",
    "* [Orbits (orb)](./ORB.ipynb)\n",
    "* [Meshes (mesh)](./MESH.ipynb)"
   ]
  },
  {
   "cell_type": "markdown",
   "metadata": {},
   "source": [
    "### Enabling/Disabling Datasets\n",
    "\n",
    "By default, synthetic models will be created for all datasets in the Bundle when [run_compute](../api/phoebe.frontend.bundle.Bundle.run_commpute.md) is called.  But you can disable a dataset to have run_compute ignore that dataset.  This is handled by a [BoolParameter](../api/phoebe.parameters.BoolParameter.md) with the qualifier 'enabled' - and has a copy that lives in each set of compute options\n",
    "\n",
    "Let's say we wanted to compute the orbit but not light curve - so we want to set enabled@lc01:"
   ]
  },
  {
   "cell_type": "code",
   "execution_count": 11,
   "metadata": {
    "scrolled": false
   },
   "outputs": [
    {
     "name": "stdout",
     "output_type": "stream",
     "text": [
      "ParameterSet: 3 parameters\n",
      "    enabled@lc01@phoebe01@compute: True\n",
      "     enabled@lc01@preview@compute: True\n",
      "    enabled@lc01@detailed@compute: True\n"
     ]
    }
   ],
   "source": [
    "print(b.filter(qualifier='enabled', dataset='lc01'))"
   ]
  },
  {
   "cell_type": "markdown",
   "metadata": {},
   "source": [
    "as you can see, there is a copy for both of our compute options ('preview' and 'detailed').\n",
    "\n",
    "If we know which set of compute options we'll be using, or only want to enable/disable for a given set, then we can do that (we could also use [b.disable_dataset](../api/phoebe.frontend.bundle.Bundle.disable_dataset.md) and [b.enable_dataset](../api/phoebe.frontend.bundle.Bundle.enable_dataset.md):"
   ]
  },
  {
   "cell_type": "code",
   "execution_count": 12,
   "metadata": {
    "scrolled": true
   },
   "outputs": [
    {
     "name": "stdout",
     "output_type": "stream",
     "text": [
      "ParameterSet: 3 parameters\n",
      "    enabled@lc01@phoebe01@compute: True\n",
      "     enabled@lc01@preview@compute: False\n",
      "    enabled@lc01@detailed@compute: True\n"
     ]
    }
   ],
   "source": [
    "b.set_value(qualifier='enabled', dataset='lc01', compute='preview', value=False)\n",
    "print(b.filter(qualifier='enabled', dataset='lc01'))"
   ]
  },
  {
   "cell_type": "markdown",
   "metadata": {},
   "source": [
    "or to enable/disable a dataset for all sets of compute options, we can use the [set_value_all](../api/phoebe.parameters.ParameterSet.set_value_all.md) method:"
   ]
  },
  {
   "cell_type": "code",
   "execution_count": 13,
   "metadata": {
    "scrolled": true
   },
   "outputs": [
    {
     "name": "stdout",
     "output_type": "stream",
     "text": [
      "ParameterSet: 3 parameters\n",
      "    enabled@lc01@phoebe01@compute: True\n",
      "     enabled@lc01@preview@compute: True\n",
      "    enabled@lc01@detailed@compute: True\n"
     ]
    }
   ],
   "source": [
    "b.set_value_all('enabled@lc01', True)\n",
    "print(b.filter(qualifier='enabled', dataset='lc01'))"
   ]
  },
  {
   "cell_type": "markdown",
   "metadata": {},
   "source": [
    "If the enabled parameter is missing for a set of compute options - it is likely that that particular backend does not support that dataset type."
   ]
  },
  {
   "cell_type": "markdown",
   "metadata": {},
   "source": [
    "Running Compute\n",
    "-----------------------\n",
    "\n",
    "[run_compute](../api/phoebe.frontend.bundle.Bundle.run_coompute.md) takes arguments for the compute tag as well as the model tag for the resulting synthetic model(s).  \n",
    "\n",
    "You do not need to provide the compute tag if only 0 or 1 set of compute options exist in the Bundle.  If there are no compute options, the default PHOEBE 2 options will be added on your behalf and used.  If there is a single set of compute options, those will be assumed.  In our case, we have two compute options in the Bundle (with tags 'preview' and 'detailed') so we *must* provide an argument for compute.\n",
    "\n",
    "If you do not provide a tag for the model, one will be created for you called 'latest'.  Note that the 'latest' model will be overwritten without throwing any errors, whereas other named models can only be overwritten if you pass `overwrite=True` (see the [run_compute API docs](../api/phoebe.frontend.bundle.Bundle.run_compute.md) for details).  In general, though, if you want to maintain the results from previous calls to run_compute, you must provide a NEW model tag."
   ]
  },
  {
   "cell_type": "code",
   "execution_count": 14,
   "metadata": {},
   "outputs": [
    {
     "name": "stderr",
     "output_type": "stream",
     "text": [
      "100%|██████████| 110/110 [00:01<00:00, 83.92it/s]\n"
     ]
    },
    {
     "data": {
      "text/plain": [
       "<ParameterSet: 17 parameters | kinds: lc, orb>"
      ]
     },
     "execution_count": 14,
     "metadata": {},
     "output_type": "execute_result"
    }
   ],
   "source": [
    "b.run_compute(compute='preview')"
   ]
  },
  {
   "cell_type": "code",
   "execution_count": 15,
   "metadata": {},
   "outputs": [
    {
     "name": "stdout",
     "output_type": "stream",
     "text": [
      "['latest']\n"
     ]
    }
   ],
   "source": [
    "print(b.models)"
   ]
  },
  {
   "cell_type": "markdown",
   "metadata": {},
   "source": [
    "### Storing/Tagging Models\n",
    "\n",
    "Now let's compute models for three different 'versions' of parameters.  By providing a model tag, we can keep the synthetics for each of these different runs in the bundle - which will be handy later on for plotting and comparing models."
   ]
  },
  {
   "cell_type": "code",
   "execution_count": 16,
   "metadata": {
    "scrolled": false
   },
   "outputs": [
    {
     "name": "stderr",
     "output_type": "stream",
     "text": [
      "100%|██████████| 110/110 [00:01<00:00, 80.79it/s]\n"
     ]
    },
    {
     "data": {
      "text/plain": [
       "<ParameterSet: 17 parameters | kinds: lc, orb>"
      ]
     },
     "execution_count": 16,
     "metadata": {},
     "output_type": "execute_result"
    }
   ],
   "source": [
    "b.set_value(qualifier='incl', kind='orbit', value=90)\n",
    "b.run_compute(compute='preview', model='run_with_incl_90') "
   ]
  },
  {
   "cell_type": "code",
   "execution_count": 17,
   "metadata": {
    "scrolled": true
   },
   "outputs": [
    {
     "name": "stderr",
     "output_type": "stream",
     "text": [
      "100%|██████████| 110/110 [00:01<00:00, 79.64it/s]\n"
     ]
    },
    {
     "data": {
      "text/plain": [
       "<ParameterSet: 17 parameters | kinds: lc, orb>"
      ]
     },
     "execution_count": 17,
     "metadata": {},
     "output_type": "execute_result"
    }
   ],
   "source": [
    "b.set_value(qualifier='incl', kind='orbit', value=85)\n",
    "b.run_compute(compute='preview', model='run_with_incl_85')"
   ]
  },
  {
   "cell_type": "code",
   "execution_count": 18,
   "metadata": {
    "scrolled": true
   },
   "outputs": [
    {
     "name": "stderr",
     "output_type": "stream",
     "text": [
      "100%|██████████| 110/110 [00:06<00:00, 16.78it/s]\n"
     ]
    },
    {
     "data": {
      "text/plain": [
       "<ParameterSet: 17 parameters | kinds: lc, orb>"
      ]
     },
     "execution_count": 18,
     "metadata": {},
     "output_type": "execute_result"
    }
   ],
   "source": [
    "b.set_value(qualifier='incl', kind='orbit', value=80)\n",
    "b.run_compute(compute='preview', model='run_with_incl_80')"
   ]
  },
  {
   "cell_type": "markdown",
   "metadata": {},
   "source": [
    "We will now have three new sets of synthetics which can be compared, plotted, or removed."
   ]
  },
  {
   "cell_type": "code",
   "execution_count": 19,
   "metadata": {},
   "outputs": [
    {
     "name": "stdout",
     "output_type": "stream",
     "text": [
      "['latest', 'run_with_incl_90', 'run_with_incl_85', 'run_with_incl_80']\n"
     ]
    }
   ],
   "source": [
    "print(b.models)"
   ]
  },
  {
   "cell_type": "markdown",
   "metadata": {},
   "source": [
    "To remove a model, call [remove_model](../api/phoebe.frontend.bundle.Bundle.remove_model)."
   ]
  },
  {
   "cell_type": "code",
   "execution_count": 20,
   "metadata": {},
   "outputs": [
    {
     "data": {
      "text/plain": [
       "<ParameterSet: 17 parameters | kinds: lc, orb>"
      ]
     },
     "execution_count": 20,
     "metadata": {},
     "output_type": "execute_result"
    }
   ],
   "source": [
    "b.remove_model('latest')"
   ]
  },
  {
   "cell_type": "code",
   "execution_count": 21,
   "metadata": {},
   "outputs": [
    {
     "name": "stdout",
     "output_type": "stream",
     "text": [
      "['latest', 'run_with_incl_90', 'run_with_incl_85', 'run_with_incl_80']\n"
     ]
    }
   ],
   "source": [
    "print(b.models)"
   ]
  },
  {
   "cell_type": "markdown",
   "metadata": {},
   "source": [
    "Accessing Synthetics from Models\n",
    "----------------------------------------\n",
    "\n",
    "The synthetics can be accessed by their dataset and model tags."
   ]
  },
  {
   "cell_type": "code",
   "execution_count": 22,
   "metadata": {},
   "outputs": [
    {
     "data": {
      "text/plain": [
       "<ParameterSet: 19 parameters | contexts: model, figure>"
      ]
     },
     "execution_count": 22,
     "metadata": {},
     "output_type": "execute_result"
    }
   ],
   "source": [
    "b.filter(model='run_with_incl_90')"
   ]
  },
  {
   "cell_type": "code",
   "execution_count": 23,
   "metadata": {},
   "outputs": [
    {
     "data": {
      "text/plain": [
       "<ParameterSet: 7 parameters | qualifiers: vws, us, vus, times, vs, ws, vvs>"
      ]
     },
     "execution_count": 23,
     "metadata": {},
     "output_type": "execute_result"
    }
   ],
   "source": [
    "b.filter(component='primary', model='run_with_incl_90')"
   ]
  },
  {
   "cell_type": "code",
   "execution_count": 24,
   "metadata": {},
   "outputs": [
    {
     "data": {
      "text/plain": [
       "<Parameter: us=[ 1.62265701e-16 -1.70338717e+00 -2.60974055e+00 ...\n",
       "  2.60974055e+00  1.70338717e+00  2.07569028e-14] solRad | keys: description, value, default_unit, visible_if, required_shape, copy_for, readonly, advanced, latexfmt>"
      ]
     },
     "execution_count": 24,
     "metadata": {},
     "output_type": "execute_result"
    }
   ],
   "source": [
    "b.get_parameter(qualifier='us', component='primary', model='run_with_incl_90')"
   ]
  },
  {
   "cell_type": "code",
   "execution_count": 25,
   "metadata": {},
   "outputs": [
    {
     "data": {
      "text/plain": [
       "array([ 1.62265701e-16, -1.70338717e+00, -2.60974055e+00, -2.29496732e+00,\n",
       "       -9.06353380e-01,  9.06353380e-01,  2.29496732e+00,  2.60974055e+00,\n",
       "        1.70338717e+00,  2.07569028e-14])"
      ]
     },
     "execution_count": 25,
     "metadata": {},
     "output_type": "execute_result"
    }
   ],
   "source": [
    "b.get_value(qualifier='us', dataset='orb01', component='primary', model='run_with_incl_90')[:10]"
   ]
  },
  {
   "cell_type": "markdown",
   "metadata": {
    "collapsed": true
   },
   "source": [
    "For more details about the resulting Parameters in the model context, see the tutorial on the relevant dataset types:\n",
    "\n",
    "* [Light Curves/Fluxes (lc)](./LC.ipynb)\n",
    "* [Radial Velocities (rv)](./RV.ipynb)\n",
    "* [Line Profiles (lp)](./LP.ipynb)\n",
    "* [Orbits (orb)](./ORB.ipynb)\n",
    "* [Meshes (mesh)](./MESH.ipynb)"
   ]
  },
  {
   "cell_type": "markdown",
   "metadata": {},
   "source": [
    "Next\n",
    "----------\n",
    "\n",
    "Next up: let's start [plotting](./plotting.ipynb) our synthetic model.\n",
    "\n",
    "Or look at any of these advanced topics related to computing observables:\n",
    "* [Advanced: Compute Times & Phases](compute_times_phases.ipynb)\n",
    "* [Advanced: Running Multiple Compute Options Simulataneously](compute_multiple.ipynb)\n",
    "* [Advanced: Alternate Backends](alternate_backends.ipynb)\n",
    "* [Advanced: Detaching from Run Compute](detach.ipynb)"
   ]
  }
 ],
 "metadata": {
  "kernelspec": {
   "display_name": "Python 3 (ipykernel)",
   "language": "python",
   "name": "python3"
  },
  "language_info": {
   "codemirror_mode": {
    "name": "ipython",
    "version": 3
   },
   "file_extension": ".py",
   "mimetype": "text/x-python",
   "name": "python",
   "nbconvert_exporter": "python",
   "pygments_lexer": "ipython3",
   "version": "3.10.9"
  }
 },
 "nbformat": 4,
 "nbformat_minor": 1
}
