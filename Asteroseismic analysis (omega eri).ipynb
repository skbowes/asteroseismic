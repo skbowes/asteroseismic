{
 "cells": [
  {
   "cell_type": "code",
   "execution_count": 4,
   "id": "c20e63c0",
   "metadata": {},
   "outputs": [
    {
     "ename": "TypeError",
     "evalue": "register() missing 1 required positional argument: 'widget'",
     "output_type": "error",
     "traceback": [
      "\u001b[0;31m---------------------------------------------------------------------------\u001b[0m",
      "\u001b[0;31mTypeError\u001b[0m                                 Traceback (most recent call last)",
      "Cell \u001b[0;32mIn[4], line 7\u001b[0m\n\u001b[1;32m      1\u001b[0m \u001b[38;5;28;01mimport\u001b[39;00m \u001b[38;5;21;01mlightkurve\u001b[39;00m \u001b[38;5;28;01mas\u001b[39;00m \u001b[38;5;21;01mlk\u001b[39;00m\n\u001b[1;32m      2\u001b[0m \u001b[38;5;66;03m# %matplotlib inline\u001b[39;00m\n\u001b[1;32m      3\u001b[0m \u001b[38;5;66;03m# import matplotlib.pyplot as plt\u001b[39;00m\n\u001b[1;32m      4\u001b[0m \u001b[38;5;66;03m# from astropy.io import fits\u001b[39;00m\n\u001b[1;32m      5\u001b[0m \u001b[38;5;66;03m# from astropy.table import Table\u001b[39;00m\n\u001b[1;32m      6\u001b[0m \u001b[38;5;66;03m# %matplotlib inline\u001b[39;00m\n\u001b[0;32m----> 7\u001b[0m \u001b[38;5;28;01mimport\u001b[39;00m \u001b[38;5;21;01mPyriod\u001b[39;00m\n\u001b[1;32m      8\u001b[0m get_ipython()\u001b[38;5;241m.\u001b[39mrun_line_magic(\u001b[38;5;124m'\u001b[39m\u001b[38;5;124mmatplotlib\u001b[39m\u001b[38;5;124m'\u001b[39m, \u001b[38;5;124m'\u001b[39m\u001b[38;5;124mwidget\u001b[39m\u001b[38;5;124m'\u001b[39m)\n",
      "File \u001b[0;32m~/anaconda3/lib/python3.10/site-packages/Pyriod/__init__.py:3\u001b[0m\n\u001b[1;32m      1\u001b[0m \u001b[38;5;28;01mfrom\u001b[39;00m \u001b[38;5;21;01m__future__\u001b[39;00m \u001b[38;5;28;01mimport\u001b[39;00m absolute_import\n\u001b[0;32m----> 3\u001b[0m \u001b[38;5;28;01mfrom\u001b[39;00m \u001b[38;5;21;01m.\u001b[39;00m\u001b[38;5;21;01mPyriod\u001b[39;00m \u001b[38;5;28;01mimport\u001b[39;00m Pyriod\n",
      "File \u001b[0;32m~/anaconda3/lib/python3.10/site-packages/Pyriod/Pyriod.py:49\u001b[0m\n\u001b[1;32m     47\u001b[0m \u001b[38;5;28;01mimport\u001b[39;00m \u001b[38;5;21;01mipywidgets\u001b[39;00m \u001b[38;5;28;01mas\u001b[39;00m \u001b[38;5;21;01mwidgets\u001b[39;00m\n\u001b[1;32m     48\u001b[0m \u001b[38;5;28;01mfrom\u001b[39;00m \u001b[38;5;21;01mipywidgets\u001b[39;00m \u001b[38;5;28;01mimport\u001b[39;00m HBox, VBox\n\u001b[0;32m---> 49\u001b[0m \u001b[38;5;28;01mimport\u001b[39;00m \u001b[38;5;21;01mqgrid\u001b[39;00m\n\u001b[1;32m     50\u001b[0m \u001b[38;5;28;01mfrom\u001b[39;00m \u001b[38;5;21;01mipyfilechooser\u001b[39;00m \u001b[38;5;28;01mimport\u001b[39;00m FileChooser\n\u001b[1;32m     52\u001b[0m \u001b[38;5;66;03m# Local imports\u001b[39;00m\n\u001b[1;32m     53\u001b[0m \u001b[38;5;66;03m# from .pyquist import subfreq (not currently used)\u001b[39;00m\n",
      "File \u001b[0;32m~/anaconda3/lib/python3.10/site-packages/qgrid/__init__.py:3\u001b[0m\n\u001b[1;32m      1\u001b[0m \u001b[38;5;28;01mfrom\u001b[39;00m \u001b[38;5;21;01m.\u001b[39;00m\u001b[38;5;21;01m_version\u001b[39;00m \u001b[38;5;28;01mimport\u001b[39;00m version_info, __version__  \u001b[38;5;66;03m# noqa F401\u001b[39;00m\n\u001b[0;32m----> 3\u001b[0m \u001b[38;5;28;01mfrom\u001b[39;00m \u001b[38;5;21;01m.\u001b[39;00m\u001b[38;5;21;01mgrid\u001b[39;00m \u001b[38;5;28;01mimport\u001b[39;00m (\n\u001b[1;32m      4\u001b[0m     enable,\n\u001b[1;32m      5\u001b[0m     disable,\n\u001b[1;32m      6\u001b[0m     set_defaults,\n\u001b[1;32m      7\u001b[0m     on,\n\u001b[1;32m      8\u001b[0m     off,\n\u001b[1;32m      9\u001b[0m     set_grid_option,\n\u001b[1;32m     10\u001b[0m     show_grid,\n\u001b[1;32m     11\u001b[0m     QgridWidget,\n\u001b[1;32m     12\u001b[0m     QGridWidget,\n\u001b[1;32m     13\u001b[0m )\n\u001b[1;32m     16\u001b[0m \u001b[38;5;28;01mdef\u001b[39;00m \u001b[38;5;21m_jupyter_nbextension_paths\u001b[39m():\n\u001b[1;32m     17\u001b[0m     \u001b[38;5;28;01mreturn\u001b[39;00m [\n\u001b[1;32m     18\u001b[0m         {\n\u001b[1;32m     19\u001b[0m             \u001b[38;5;124m\"\u001b[39m\u001b[38;5;124msection\u001b[39m\u001b[38;5;124m\"\u001b[39m: \u001b[38;5;124m\"\u001b[39m\u001b[38;5;124mnotebook\u001b[39m\u001b[38;5;124m\"\u001b[39m,\n\u001b[0;32m   (...)\u001b[0m\n\u001b[1;32m     23\u001b[0m         }\n\u001b[1;32m     24\u001b[0m     ]\n",
      "File \u001b[0;32m~/anaconda3/lib/python3.10/site-packages/qgrid/grid.py:524\u001b[0m\n\u001b[1;32m    520\u001b[0m     \u001b[38;5;28;01melse\u001b[39;00m:\n\u001b[1;32m    521\u001b[0m         \u001b[38;5;28;01mreturn\u001b[39;00m \u001b[38;5;28mstr\u001b[39m(x)\n\u001b[0;32m--> 524\u001b[0m \u001b[38;5;129m@widgets\u001b[39m\u001b[38;5;241;43m.\u001b[39;49m\u001b[43mregister\u001b[49m\u001b[43m(\u001b[49m\u001b[43m)\u001b[49m\n\u001b[1;32m    525\u001b[0m \u001b[38;5;28;01mclass\u001b[39;00m \u001b[38;5;21;01mQgridWidget\u001b[39;00m(widgets\u001b[38;5;241m.\u001b[39mDOMWidget):\n\u001b[1;32m    526\u001b[0m \u001b[38;5;250m    \u001b[39m\u001b[38;5;124;03m\"\"\"\u001b[39;00m\n\u001b[1;32m    527\u001b[0m \u001b[38;5;124;03m    The widget class which is instantiated by the ``show_grid`` method. This\u001b[39;00m\n\u001b[1;32m    528\u001b[0m \u001b[38;5;124;03m    class can be constructed directly but that's not recommended because\u001b[39;00m\n\u001b[0;32m   (...)\u001b[0m\n\u001b[1;32m    562\u001b[0m \n\u001b[1;32m    563\u001b[0m \u001b[38;5;124;03m    \"\"\"\u001b[39;00m\n\u001b[1;32m    565\u001b[0m     _view_name \u001b[38;5;241m=\u001b[39m Unicode(\u001b[38;5;124m'\u001b[39m\u001b[38;5;124mQgridView\u001b[39m\u001b[38;5;124m'\u001b[39m)\u001b[38;5;241m.\u001b[39mtag(sync\u001b[38;5;241m=\u001b[39m\u001b[38;5;28;01mTrue\u001b[39;00m)\n",
      "\u001b[0;31mTypeError\u001b[0m: register() missing 1 required positional argument: 'widget'"
     ]
    }
   ],
   "source": [
    "import lightkurve as lk\n",
    "# %matplotlib inline\n",
    "# import matplotlib.pyplot as plt\n",
    "# from astropy.io import fits\n",
    "# from astropy.table import Table\n",
    "# %matplotlib inline\n",
    "import Pyriod\n",
    "%matplotlib widget"
   ]
  },
  {
   "cell_type": "code",
   "execution_count": 1,
   "id": "cde7c1df",
   "metadata": {},
   "outputs": [
    {
     "ename": "NameError",
     "evalue": "name 'lk' is not defined",
     "output_type": "error",
     "traceback": [
      "\u001b[0;31m---------------------------------------------------------------------------\u001b[0m",
      "\u001b[0;31mNameError\u001b[0m                                 Traceback (most recent call last)",
      "Cell \u001b[0;32mIn[1], line 1\u001b[0m\n\u001b[0;32m----> 1\u001b[0m \u001b[38;5;28mprint\u001b[39m(\u001b[43mlk\u001b[49m\u001b[38;5;241m.\u001b[39m__version__)\n",
      "\u001b[0;31mNameError\u001b[0m: name 'lk' is not defined"
     ]
    }
   ],
   "source": [
    "print(lk.__version__)"
   ]
  },
  {
   "cell_type": "markdown",
   "id": "897b3b48",
   "metadata": {},
   "source": [
    "Using BRITE data"
   ]
  },
  {
   "cell_type": "code",
   "execution_count": null,
   "id": "8caa916c",
   "metadata": {},
   "outputs": [],
   "source": [
    "table_r = Table.read(\"HD31109_06-Ori-II-2014_BHr_2_2_A_copy.txt\", format='ascii')\n",
    "table_b = Table.read(\"HD31109_06-Ori-II-2014_BLb_6_2_A.avedb\", format='ascii')\n",
    "# Table.read.help('ascii')"
   ]
  },
  {
   "cell_type": "code",
   "execution_count": null,
   "id": "ce9e3f58",
   "metadata": {},
   "outputs": [],
   "source": [
    "table_r.write('HD31109_06-Ori-II-2014_BHr_2_2_A.fits', format='fits', overwrite=True)\n",
    "table_r_fits = Table.read('HD31109_06-Ori-II-2014_BHr_2_2_A.fits', format='fits')\n",
    "table_b.write(\"HD31109_06-Ori-II-2014_BLb_6_2_A.fits\", format='fits', overwrite=True)\n",
    "table_b_fits = Table.read(\"HD31109_06-Ori-II-2014_BLb_6_2_A.fits\", format='fits')\n",
    "#when you open this file it will look like it hasnt saved, but jupyter just cant display it."
   ]
  },
  {
   "cell_type": "code",
   "execution_count": null,
   "id": "eec38c2d",
   "metadata": {},
   "outputs": [],
   "source": [
    "# print(table[0][0])\n",
    "# print(table[0])\n",
    "# can mag and flux be treated the same way here? sure to plot periodogram, axes may just be off but will stay relative.\n",
    "# table['BRITEMAG']"
   ]
  },
  {
   "cell_type": "code",
   "execution_count": null,
   "id": "ef33494a",
   "metadata": {
    "scrolled": false
   },
   "outputs": [],
   "source": [
    "# plt.plot(table[0][0:], table[2][0:], '.')\n",
    "# plt.xlabel('BJD(TBD)')\n",
    "# plt.ylabel('BRITEMAG - MAGOFF')"
   ]
  },
  {
   "cell_type": "code",
   "execution_count": null,
   "id": "d8cbf01f",
   "metadata": {},
   "outputs": [],
   "source": [
    "brite_r_lc = lk.LightCurve(time=table_r[0][0:], flux=table_r[1][0:], flux_err=table_r[3][0:])\n",
    "brite_b_lc = lk.LightCurve(time=table_b[0][0:], flux=table_b[1][0:], flux_err=table_b[3][0:])\n",
    "brite_r_lc.to_periodogram(method='ls').plot()\n",
    "plt.title('r band')\n",
    "plt.show()\n",
    "brite_b_lc.to_periodogram(method='ls').plot()\n",
    "plt.title('b band')\n",
    "plt.show()"
   ]
  },
  {
   "cell_type": "code",
   "execution_count": null,
   "id": "083d0f39",
   "metadata": {},
   "outputs": [],
   "source": [
    "pyriod_r = Pyriod(brite_r_lc, freq_unit=\"1/d\", amp_unit='relative')\n",
    "pyriod_b = Pyriod(brite_b_lc, freq_unit=\"1/d\", amp_unit='relative')"
   ]
  },
  {
   "cell_type": "code",
   "execution_count": null,
   "id": "5991d244",
   "metadata": {},
   "outputs": [],
   "source": [
    "### why is the time series flat initially?"
   ]
  },
  {
   "cell_type": "code",
   "execution_count": null,
   "id": "4e226426",
   "metadata": {
    "scrolled": false
   },
   "outputs": [],
   "source": [
    "pyriod_b.Pyriod()"
   ]
  },
  {
   "cell_type": "code",
   "execution_count": null,
   "id": "7e582a57",
   "metadata": {
    "scrolled": true
   },
   "outputs": [],
   "source": [
    "pyriod_r.Periodogram()"
   ]
  },
  {
   "cell_type": "code",
   "execution_count": null,
   "id": "34f14b29",
   "metadata": {},
   "outputs": [],
   "source": [
    "pyriod_r.Pyriod()"
   ]
  },
  {
   "cell_type": "markdown",
   "id": "6ad8d6e6",
   "metadata": {},
   "source": [
    "From here, working with TESS data "
   ]
  },
  {
   "cell_type": "code",
   "execution_count": 2,
   "id": "afeb8e93",
   "metadata": {
    "scrolled": true
   },
   "outputs": [
    {
     "data": {
      "text/html": [
       "SearchResult containing 6 data products.\n",
       "\n",
       "<table id=\"table6435973168\">\n",
       "<thead><tr><th>#</th><th>mission</th><th>year</th><th>author</th><th>exptime</th><th>target_name</th><th>distance</th></tr></thead>\n",
       "<thead><tr><th></th><th></th><th></th><th></th><th>s</th><th></th><th>arcsec</th></tr></thead>\n",
       "<tr><td>0</td><td>TESS Sector 12</td><td>2019</td><td><a href='https://heasarc.gsfc.nasa.gov/docs/tess/pipeline.html'>SPOC</a></td><td>120</td><td>465088681</td><td>0.0</td></tr>\n",
       "<tr><td>1</td><td>TESS Sector 12</td><td>2019</td><td><a href='https://archive.stsci.edu/hlsp/tess-spoc'>TESS-SPOC</a></td><td>1800</td><td>465088681</td><td>0.0</td></tr>\n",
       "<tr><td>2</td><td>TESS Sector 12</td><td>2019</td><td><a href='https://archive.stsci.edu/hlsp/qlp'>QLP</a></td><td>1800</td><td>465088681</td><td>0.0</td></tr>\n",
       "<tr><td>3</td><td>TESS Sector 39</td><td>2021</td><td><a href='https://heasarc.gsfc.nasa.gov/docs/tess/pipeline.html'>SPOC</a></td><td>120</td><td>465088681</td><td>0.0</td></tr>\n",
       "<tr><td>4</td><td>TESS Sector 39</td><td>2021</td><td><a href='https://archive.stsci.edu/hlsp/tess-spoc'>TESS-SPOC</a></td><td>600</td><td>465088681</td><td>0.0</td></tr>\n",
       "<tr><td>5</td><td>TESS Sector 39</td><td>2021</td><td><a href='https://archive.stsci.edu/hlsp/qlp'>QLP</a></td><td>600</td><td>465088681</td><td>0.0</td></tr>\n",
       "</table>"
      ],
      "text/plain": [
       "SearchResult containing 6 data products.\n",
       "\n",
       " #     mission     year   author  exptime target_name distance\n",
       "                                     s                 arcsec \n",
       "--- -------------- ---- --------- ------- ----------- --------\n",
       "  0 TESS Sector 12 2019      SPOC     120   465088681      0.0\n",
       "  1 TESS Sector 12 2019 TESS-SPOC    1800   465088681      0.0\n",
       "  2 TESS Sector 12 2019       QLP    1800   465088681      0.0\n",
       "  3 TESS Sector 39 2021      SPOC     120   465088681      0.0\n",
       "  4 TESS Sector 39 2021 TESS-SPOC     600   465088681      0.0\n",
       "  5 TESS Sector 39 2021       QLP     600   465088681      0.0"
      ]
     },
     "execution_count": 2,
     "metadata": {},
     "output_type": "execute_result"
    }
   ],
   "source": [
    "# TIC = 'TIC 244203955' #omega eri\n",
    "TIC = 'TIC 465088681' #lambda sco\n",
    "# TIC = 'TIC 299096773' #mu eri, for reference\n",
    "lk.search_lightcurve(TIC)"
   ]
  },
  {
   "cell_type": "code",
   "execution_count": 3,
   "id": "8ff4e5cd",
   "metadata": {},
   "outputs": [],
   "source": [
    "search_data = lk.search_lightcurve(TIC)"
   ]
  },
  {
   "cell_type": "code",
   "execution_count": 4,
   "id": "38f0d307",
   "metadata": {},
   "outputs": [],
   "source": [
    "lc_collection = search_data.download_all()\n",
    "lc0norm = lc_collection[3].normalize().remove_outliers().bin(bins=520)\n",
    "lc0 = lc_collection[3]"
   ]
  },
  {
   "cell_type": "code",
   "execution_count": 5,
   "id": "a382229c",
   "metadata": {},
   "outputs": [],
   "source": [
    "pyriod_tess = Pyriod(lc0norm, freq_unit=\"1/d\", amp_unit='relative')"
   ]
  },
  {
   "cell_type": "code",
   "execution_count": 6,
   "id": "1c41c7ea",
   "metadata": {},
   "outputs": [
    {
     "data": {
      "application/vnd.jupyter.widget-view+json": {
       "model_id": "ba005813c9364d129d6ca915616e1dfc",
       "version_major": 2,
       "version_minor": 0
      },
      "text/plain": [
       "VBox(children=(HTML(value=''), HBox(children=(Text(value='4.682676859709131', description='Frequency:', placeh…"
      ]
     },
     "metadata": {},
     "output_type": "display_data"
    }
   ],
   "source": [
    "pyriod_tess.Periodogram()"
   ]
  },
  {
   "cell_type": "code",
   "execution_count": null,
   "id": "5d4191e4",
   "metadata": {
    "scrolled": true
   },
   "outputs": [],
   "source": [
    "pyriod_tess.Pyriod()"
   ]
  },
  {
   "cell_type": "code",
   "execution_count": null,
   "id": "98cbe25c",
   "metadata": {},
   "outputs": [],
   "source": [
    "lombscargle = lc0norm.to_periodogram(method='lombscargle')#[0:2000]\n",
    "lombscargle.plot()\n",
    "plt.title('TESS: normalized periodogram')\n",
    "# lc0.normalize().to_periodogram(method='lombscargle')[0:1000].plot()\n",
    "# plt.title('TESS: raw data')\n",
    "plt.show()"
   ]
  },
  {
   "cell_type": "code",
   "execution_count": null,
   "id": "97306069",
   "metadata": {},
   "outputs": [],
   "source": [
    "lc_collection[3].plot(normalize=True)"
   ]
  },
  {
   "cell_type": "code",
   "execution_count": null,
   "id": "48cacd28",
   "metadata": {},
   "outputs": [],
   "source": []
  }
 ],
 "metadata": {
  "kernelspec": {
   "display_name": "Python 3 (ipykernel)",
   "language": "python",
   "name": "python3"
  },
  "language_info": {
   "codemirror_mode": {
    "name": "ipython",
    "version": 3
   },
   "file_extension": ".py",
   "mimetype": "text/x-python",
   "name": "python",
   "nbconvert_exporter": "python",
   "pygments_lexer": "ipython3",
   "version": "3.10.12"
  }
 },
 "nbformat": 4,
 "nbformat_minor": 5
}
